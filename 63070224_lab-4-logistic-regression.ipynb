{
 "cells": [
  {
   "cell_type": "markdown",
   "metadata": {},
   "source": [
    "Before you turn this problem in, make sure everything runs as expected. First, **restart the kernel** (in the menubar, select Kernel$\\rightarrow$Restart) and then **run all cells** (in the menubar, select Cell$\\rightarrow$Run All).\n",
    "\n",
    "Make sure you fill in any place that says `YOUR CODE HERE` or \"YOUR ANSWER HERE\", as well as your name and student id below:"
   ]
  },
  {
   "cell_type": "code",
   "execution_count": 1,
   "metadata": {},
   "outputs": [],
   "source": [
    "NAME = \"\"\n",
    "STUDENT_ID = \"\""
   ]
  },
  {
   "cell_type": "markdown",
   "metadata": {},
   "source": [
    "---"
   ]
  },
  {
   "cell_type": "code",
   "execution_count": 2,
   "metadata": {
    "ExecuteTime": {
     "end_time": "2021-02-10T15:27:53.609567Z",
     "start_time": "2021-02-10T15:27:52.232339Z"
    }
   },
   "outputs": [],
   "source": [
    "import numpy as np\n",
    "import matplotlib.pyplot as plt\n",
    "import sklearn.datasets"
   ]
  },
  {
   "cell_type": "markdown",
   "metadata": {
    "deletable": false,
    "editable": false,
    "nbgrader": {
     "cell_type": "markdown",
     "checksum": "bc9d4ec7c73adde5e928da6bb036c0be",
     "grade": false,
     "grade_id": "cell-ea7b58bd3dd78335",
     "locked": true,
     "schema_version": 3,
     "solution": false,
     "task": false
    }
   },
   "source": [
    "# 1. Logistic Regression --- Single Feature"
   ]
  },
  {
   "cell_type": "markdown",
   "metadata": {
    "deletable": false,
    "editable": false,
    "nbgrader": {
     "cell_type": "markdown",
     "checksum": "1c217ef9fc41fdd52bdc30774c26eb83",
     "grade": false,
     "grade_id": "cell-65a37cbce4811842",
     "locked": true,
     "schema_version": 3,
     "solution": false,
     "task": false
    }
   },
   "source": [
    "## 1.1 Load Iris dataset from sklearn library"
   ]
  },
  {
   "cell_type": "code",
   "execution_count": 3,
   "metadata": {
    "ExecuteTime": {
     "end_time": "2021-02-10T15:27:53.628678Z",
     "start_time": "2021-02-10T15:27:53.611591Z"
    }
   },
   "outputs": [
    {
     "name": "stdout",
     "output_type": "stream",
     "text": [
      "['sepal length (cm)', 'sepal width (cm)', 'petal length (cm)', 'petal width (cm)']\n",
      "['setosa' 'versicolor' 'virginica']\n"
     ]
    }
   ],
   "source": [
    "iris = sklearn.datasets.load_iris()\n",
    "print(iris.feature_names)\n",
    "print(iris.target_names)"
   ]
  },
  {
   "cell_type": "markdown",
   "metadata": {
    "deletable": false,
    "editable": false,
    "nbgrader": {
     "cell_type": "markdown",
     "checksum": "809e7fabde1e61e10e25eb5f0f9de381",
     "grade": false,
     "grade_id": "cell-40edecc7ebf635ee",
     "locked": true,
     "schema_version": 3,
     "solution": false,
     "task": false
    }
   },
   "source": [
    "## 1.2 Define `Petal Length` (cm) as $X$ and a label vector $y$ when 1 = ‘Setosa’ and 0 = ‘Not Setosa’\n"
   ]
  },
  {
   "cell_type": "code",
   "execution_count": 4,
   "metadata": {
    "ExecuteTime": {
     "end_time": "2021-02-10T15:27:53.638559Z",
     "start_time": "2021-02-10T15:27:53.632589Z"
    }
   },
   "outputs": [
    {
     "data": {
      "text/plain": [
       "(150, 1)"
      ]
     },
     "execution_count": 4,
     "metadata": {},
     "output_type": "execute_result"
    }
   ],
   "source": [
    "_X = iris.data[:, 2].reshape(-1, 1)\n",
    "_X.shape"
   ]
  },
  {
   "cell_type": "code",
   "execution_count": 5,
   "metadata": {
    "ExecuteTime": {
     "end_time": "2021-02-10T15:27:53.648860Z",
     "start_time": "2021-02-10T15:27:53.643065Z"
    }
   },
   "outputs": [
    {
     "data": {
      "text/plain": [
       "(150, 1)"
      ]
     },
     "execution_count": 5,
     "metadata": {},
     "output_type": "execute_result"
    }
   ],
   "source": [
    "y = (iris.target == 0).astype(np.int).reshape(-1, 1)\n",
    "y.shape"
   ]
  },
  {
   "cell_type": "markdown",
   "metadata": {
    "deletable": false,
    "editable": false,
    "nbgrader": {
     "cell_type": "markdown",
     "checksum": "a725c94a7643bc39e58234ca551768b4",
     "grade": false,
     "grade_id": "cell-4c98d38ba1f18f09",
     "locked": true,
     "schema_version": 3,
     "solution": false,
     "task": false
    }
   },
   "source": [
    "## 1.3 Write a function to add a bias value/vector to X in the following format:\n",
    "\n",
    "$$\n",
    "    X = addBias(X)\n",
    "$$"
   ]
  },
  {
   "cell_type": "code",
   "execution_count": 6,
   "metadata": {
    "ExecuteTime": {
     "end_time": "2021-02-10T15:27:53.661920Z",
     "start_time": "2021-02-10T15:27:53.657563Z"
    }
   },
   "outputs": [],
   "source": [
    "def addBias(X):\n",
    "    X = np.hstack((np.ones((X.shape[0], 1)), X))\n",
    "    return X"
   ]
  },
  {
   "cell_type": "code",
   "execution_count": 7,
   "metadata": {
    "ExecuteTime": {
     "end_time": "2021-02-10T15:27:53.676304Z",
     "start_time": "2021-02-10T15:27:53.665478Z"
    }
   },
   "outputs": [
    {
     "data": {
      "text/plain": [
       "(150, 2)"
      ]
     },
     "execution_count": 7,
     "metadata": {},
     "output_type": "execute_result"
    }
   ],
   "source": [
    "X = addBias(_X)\n",
    "X.shape"
   ]
  },
  {
   "cell_type": "markdown",
   "metadata": {
    "deletable": false,
    "editable": false,
    "nbgrader": {
     "cell_type": "markdown",
     "checksum": "dfba8c0a9a831338296865e57a075161",
     "grade": false,
     "grade_id": "cell-2815e5e20e9b3f97",
     "locked": true,
     "schema_version": 3,
     "solution": false,
     "task": false
    }
   },
   "source": [
    "## 1.4 Write a function to create $\\theta$ (Weight) for our model in the following format:\n",
    "\n",
    "$$\n",
    "    \\theta = createTheta(X)\n",
    "$$"
   ]
  },
  {
   "cell_type": "code",
   "execution_count": 8,
   "metadata": {
    "ExecuteTime": {
     "end_time": "2021-02-10T15:28:50.645647Z",
     "start_time": "2021-02-10T15:28:50.642471Z"
    }
   },
   "outputs": [],
   "source": [
    "def createTheta(X):\n",
    "    return np.ones((X.shape[1], 1))"
   ]
  },
  {
   "cell_type": "code",
   "execution_count": 9,
   "metadata": {
    "ExecuteTime": {
     "end_time": "2021-02-10T15:29:05.743621Z",
     "start_time": "2021-02-10T15:29:05.741299Z"
    }
   },
   "outputs": [
    {
     "data": {
      "text/plain": [
       "array([[1.],\n",
       "       [1.]])"
      ]
     },
     "execution_count": 9,
     "metadata": {},
     "output_type": "execute_result"
    }
   ],
   "source": [
    "theta0 = createTheta(X)\n",
    "theta0"
   ]
  },
  {
   "cell_type": "markdown",
   "metadata": {
    "deletable": false,
    "editable": false,
    "nbgrader": {
     "cell_type": "markdown",
     "checksum": "6ffd3b3c6cd24e7d07497954ec879970",
     "grade": false,
     "grade_id": "cell-254c801807d48650",
     "locked": true,
     "schema_version": 3,
     "solution": false,
     "task": false
    }
   },
   "source": [
    "## 1.5 Write a function to calculate Sigmoid function in the following format:\n",
    "\n",
    "$$\n",
    "    s = sigmoid(z)\n",
    "$$\n",
    "\n",
    "Then plot and observe the sigmoid function. Explain the characteristic of sigmoid function."
   ]
  },
  {
   "cell_type": "code",
   "execution_count": 10,
   "metadata": {
    "ExecuteTime": {
     "end_time": "2021-02-10T15:38:42.120544Z",
     "start_time": "2021-02-10T15:38:42.117484Z"
    }
   },
   "outputs": [],
   "source": [
    "def sigmoid(z):\n",
    "    return 1 / (1 + np.exp(-z))"
   ]
  },
  {
   "cell_type": "code",
   "execution_count": 11,
   "metadata": {
    "ExecuteTime": {
     "end_time": "2021-02-10T15:39:00.954373Z",
     "start_time": "2021-02-10T15:39:00.951298Z"
    }
   },
   "outputs": [],
   "source": [
    "x = np.linspace(-10, 10, 100)"
   ]
  },
  {
   "cell_type": "code",
   "execution_count": 12,
   "metadata": {
    "ExecuteTime": {
     "end_time": "2021-02-10T15:39:01.142729Z",
     "start_time": "2021-02-10T15:39:01.140050Z"
    }
   },
   "outputs": [
    {
     "data": {
      "image/png": "[encoded data removed]",
      "text/plain": [
       "<Figure size 432x288 with 1 Axes>"
      ]
     },
     "metadata": {
      "needs_background": "light"
     },
     "output_type": "display_data"
    }
   ],
   "source": [
    "plt.plot(x, sigmoid(x));"
   ]
  },
  {
   "cell_type": "markdown",
   "metadata": {
    "deletable": false,
    "editable": false,
    "nbgrader": {
     "cell_type": "markdown",
     "checksum": "addff065ca15721bafbda1b948f2d336",
     "grade": false,
     "grade_id": "cell-2f35eeb3c9ecc8cc",
     "locked": true,
     "schema_version": 3,
     "solution": false,
     "task": false
    }
   },
   "source": [
    "## 1.6 Write a function to calculate the model’s predicted values in the following format:\n",
    "\n",
    "$$\n",
    "    y\\_predicted = predict(X, \\theta)\n",
    "$$"
   ]
  },
  {
   "cell_type": "code",
   "execution_count": 13,
   "metadata": {},
   "outputs": [],
   "source": [
    "def predict(X, theta):\n",
    "    return sigmoid(np.dot(X, theta))"
   ]
  },
  {
   "cell_type": "markdown",
   "metadata": {
    "deletable": false,
    "editable": false,
    "nbgrader": {
     "cell_type": "markdown",
     "checksum": "4f2a89db7163f465e97a3c3c5578d211",
     "grade": false,
     "grade_id": "cell-789c845080fff3a5",
     "locked": true,
     "schema_version": 3,
     "solution": false,
     "task": false
    }
   },
   "source": [
    "## 1.7 Write a function to calculate the model’s accuracy in the following format:\n",
    "\n",
    "$$\n",
    "    Acc = accuracy(y\\_predicted, y, threshold)\n",
    "$$\n",
    "\n",
    "$threshold$ is a cut-off value to predict either ‘0’ or ‘1’."
   ]
  },
  {
   "cell_type": "code",
   "execution_count": 14,
   "metadata": {},
   "outputs": [
    {
     "data": {
      "text/plain": [
       "0.3333333333333333"
      ]
     },
     "execution_count": 14,
     "metadata": {},
     "output_type": "execute_result"
    }
   ],
   "source": [
    "def accuracy(y_predicted, y, threshold):\n",
    "    prediction = y_predicted > threshold\n",
    "    return np.mean(prediction == y)\n",
    "\n",
    "accuracy(predict(X, theta0), y, threshold=0.5)"
   ]
  },
  {
   "cell_type": "markdown",
   "metadata": {
    "deletable": false,
    "editable": false,
    "nbgrader": {
     "cell_type": "markdown",
     "checksum": "57f01255ca3c5448a7726f9504f70790",
     "grade": false,
     "grade_id": "cell-cd4a6ee2d69d2d1d",
     "locked": true,
     "schema_version": 3,
     "solution": false,
     "task": false
    }
   },
   "source": [
    "## 1.8 Write a function to calculate a cost function value—Binary Cross-entropy—in the following format:\n",
    "\n",
    "$$\n",
    "    J = computeCostFunction(X, y, theta)\n",
    "$$\n",
    "\n"
   ]
  },
  {
   "cell_type": "code",
   "execution_count": 15,
   "metadata": {},
   "outputs": [
    {
     "data": {
      "text/plain": [
       "3.967448684501259"
      ]
     },
     "execution_count": 15,
     "metadata": {},
     "output_type": "execute_result"
    }
   ],
   "source": [
    "def computeCostFunction(X, y, theta):\n",
    "    prediction = predict(X, theta)\n",
    "    return -np.mean(y * np.log(prediction) + (1 - y) * np.log(1 - prediction))\n",
    "\n",
    "computeCostFunction(X, y, theta0)"
   ]
  },
  {
   "cell_type": "markdown",
   "metadata": {
    "deletable": false,
    "editable": false,
    "nbgrader": {
     "cell_type": "markdown",
     "checksum": "7ca774db88042bbafb5a59577c71cd23",
     "grade": false,
     "grade_id": "cell-b4b23b66efaeb492",
     "locked": true,
     "schema_version": 3,
     "solution": false,
     "task": false
    }
   },
   "source": [
    "## 1.9 Write a function to find the optimal weight of Logistic Regression by using Gradient Descent Algorithm in the following format:\n",
    "\n",
    "$$\n",
    "    [θ, J_{History}] = gradientDescent(X, y, θ, α, n_{iteration})\n",
    "$$\n",
    "\n",
    "where $\\alpha$ is a learning rate, $n_{iteration}$ is the number of iteration, and $J_{History}$ is a vector\n",
    "that store $J$ for every iteration."
   ]
  },
  {
   "cell_type": "code",
   "execution_count": 16,
   "metadata": {},
   "outputs": [],
   "source": [
    "def gradientDescent(X, y, theta0, alpha, n_iteration, verbose=False):\n",
    "    j_history = []\n",
    "    theta = np.copy(theta0)\n",
    "    n_samples = X.shape[0]\n",
    "\n",
    "    for i in range(n_iteration):\n",
    "        prediction = predict(X, theta)\n",
    "        theta = theta - (alpha / n_samples * np.dot(X.T, prediction - y))\n",
    "        loss = computeCostFunction(X, y, theta)\n",
    "        j_history.append(loss)\n",
    "        if verbose:\n",
    "            print(f'Iteration: {i} Loss: {loss}')\n",
    "        \n",
    "    return theta, j_history"
   ]
  },
  {
   "cell_type": "markdown",
   "metadata": {
    "deletable": false,
    "editable": false,
    "nbgrader": {
     "cell_type": "markdown",
     "checksum": "1a04cb1b0013b04c59689ca41d0cac2a",
     "grade": false,
     "grade_id": "cell-56a6147cc695055d",
     "locked": true,
     "schema_version": 3,
     "solution": false,
     "task": false
    }
   },
   "source": [
    "## 1.10 Train a model with α = 0.3, n_iteration = 3000, and plot the convergence curves"
   ]
  },
  {
   "cell_type": "code",
   "execution_count": 17,
   "metadata": {},
   "outputs": [],
   "source": [
    "theta, j_history = gradientDescent(X, y, theta0=theta0, alpha=0.3, n_iteration=3000)"
   ]
  },
  {
   "cell_type": "code",
   "execution_count": 18,
   "metadata": {},
   "outputs": [
    {
     "data": {
      "image/png": "[encoded data removed]",
      "text/plain": [
       "<Figure size 432x288 with 1 Axes>"
      ]
     },
     "metadata": {
      "needs_background": "light"
     },
     "output_type": "display_data"
    }
   ],
   "source": [
    "plt.plot(j_history);\n",
    "plt.ylabel(\"$J$\");\n",
    "plt.xlabel(\"#interations\");"
   ]
  },
  {
   "cell_type": "markdown",
   "metadata": {
    "deletable": false,
    "editable": false,
    "nbgrader": {
     "cell_type": "markdown",
     "checksum": "ae40d43fa4a36afef67a7607d4ae6dda",
     "grade": false,
     "grade_id": "cell-39cf9539e161d9e8",
     "locked": true,
     "schema_version": 3,
     "solution": false,
     "task": false
    }
   },
   "source": [
    "## 1.11 Plot the decision boundary of this model"
   ]
  },
  {
   "cell_type": "code",
   "execution_count": 19,
   "metadata": {},
   "outputs": [
    {
     "data": {
      "image/png": "[encoded data removed]",
      "text/plain": [
       "<Figure size 576x288 with 1 Axes>"
      ]
     },
     "metadata": {
      "needs_background": "light"
     },
     "output_type": "display_data"
    }
   ],
   "source": [
    "X_lin = np.linspace(0, 7, 1000).reshape(-1,1)\n",
    "X_new = addBias(X_lin)\n",
    "y_pred = predict(X_new,theta)\n",
    "decision_boundary = X_lin[y_pred>=0.5][-1]\n",
    "\n",
    "plt.figure(figsize=(8,4))\n",
    "plt.plot([decision_boundary,decision_boundary], [-0.1,1.1], linewidth=2, label='Decision Boundary')\n",
    "y_lin = sigmoid(theta[0]+theta[1]*X_lin)\n",
    "plt.plot(X_lin,y_lin)\n",
    "plt.plot(X[:, 1:][y==0],y[y==0],'bs',label='not setosa')\n",
    "plt.plot(X[:, 1:][y==1],y[y==1],'g^',label='setosa')\n",
    "plt.legend();"
   ]
  },
  {
   "cell_type": "markdown",
   "metadata": {
    "deletable": false,
    "editable": false,
    "nbgrader": {
     "cell_type": "markdown",
     "checksum": "b8e1ed348ba24e85253c31135c4042a6",
     "grade": false,
     "grade_id": "cell-fe0b1e9551d9b25c",
     "locked": true,
     "schema_version": 3,
     "solution": false,
     "task": false
    }
   },
   "source": [
    "## 1.12 Print the accuracy of the model"
   ]
  },
  {
   "cell_type": "code",
   "execution_count": 20,
   "metadata": {},
   "outputs": [
    {
     "name": "stdout",
     "output_type": "stream",
     "text": [
      "Accuracy: 100.0%\n"
     ]
    }
   ],
   "source": [
    "acc = accuracy(predict(X, theta), y, threshold=0.5)\n",
    "print(f'Accuracy: {acc*100}%')"
   ]
  },
  {
   "cell_type": "markdown",
   "metadata": {
    "deletable": false,
    "editable": false,
    "nbgrader": {
     "cell_type": "markdown",
     "checksum": "feccd8be0e5aaa5fb3a727ffecb781a7",
     "grade": false,
     "grade_id": "cell-ee8466f175ef2927",
     "locked": true,
     "schema_version": 3,
     "solution": false,
     "task": false
    }
   },
   "source": [
    "# 2. Logistic Regression – Multiple Feature"
   ]
  },
  {
   "cell_type": "markdown",
   "metadata": {
    "deletable": false,
    "editable": false,
    "nbgrader": {
     "cell_type": "markdown",
     "checksum": "724b9403ac4d4a17555c6a15aa198b94",
     "grade": false,
     "grade_id": "cell-e6d75332309a0200",
     "locked": true,
     "schema_version": 3,
     "solution": false,
     "task": false
    }
   },
   "source": [
    "## 2.1 Load Iris dataset from sklearn library"
   ]
  },
  {
   "cell_type": "code",
   "execution_count": 21,
   "metadata": {
    "deletable": false,
    "nbgrader": {
     "cell_type": "code",
     "checksum": "49e402ed4a41f8d67e0169ae69dd2240",
     "grade": true,
     "grade_id": "cell-d9336941e30c2389",
     "locked": false,
     "points": 5,
     "schema_version": 3,
     "solution": true,
     "task": false
    }
   },
   "outputs": [
    {
     "ename": "NotImplementedError",
     "evalue": "",
     "output_type": "error",
     "traceback": [
      "\u001b[0;31m---------------------------------------------------------------------------\u001b[0m",
      "\u001b[0;31mNotImplementedError\u001b[0m                       Traceback (most recent call last)",
      "\u001b[0;32m<ipython-input-21-15b94d1fa268>\u001b[0m in \u001b[0;36m<module>\u001b[0;34m\u001b[0m\n\u001b[1;32m      1\u001b[0m \u001b[0;31m# YOUR CODE HERE\u001b[0m\u001b[0;34m\u001b[0m\u001b[0;34m\u001b[0m\u001b[0;34m\u001b[0m\u001b[0m\n\u001b[0;32m----> 2\u001b[0;31m \u001b[0;32mraise\u001b[0m \u001b[0mNotImplementedError\u001b[0m\u001b[0;34m(\u001b[0m\u001b[0;34m)\u001b[0m\u001b[0;34m\u001b[0m\u001b[0;34m\u001b[0m\u001b[0m\n\u001b[0m",
      "\u001b[0;31mNotImplementedError\u001b[0m: "
     ]
    }
   ],
   "source": [
    "# YOUR CODE HERE\n",
    "raise NotImplementedError()"
   ]
  },
  {
   "cell_type": "markdown",
   "metadata": {
    "deletable": false,
    "editable": false,
    "nbgrader": {
     "cell_type": "markdown",
     "checksum": "93bd3fab3462cfa7804ff75f337bf2af",
     "grade": false,
     "grade_id": "cell-1bb5aa6107d18441",
     "locked": true,
     "schema_version": 3,
     "solution": false,
     "task": false
    }
   },
   "source": [
    "## 2.2 Define Sepal Length (cm) and Sepal Width (cm) as X and Label vector y when considers only ‘Setosa’."
   ]
  },
  {
   "cell_type": "code",
   "execution_count": null,
   "metadata": {
    "deletable": false,
    "nbgrader": {
     "cell_type": "code",
     "checksum": "82a4b55a166465259011d151ffd72d09",
     "grade": true,
     "grade_id": "cell-de06e20fe9835cf2",
     "locked": false,
     "points": 5,
     "schema_version": 3,
     "solution": true,
     "task": false
    }
   },
   "outputs": [],
   "source": [
    "# YOUR CODE HERE\n",
    "raise NotImplementedError()"
   ]
  },
  {
   "cell_type": "markdown",
   "metadata": {
    "deletable": false,
    "editable": false,
    "nbgrader": {
     "cell_type": "markdown",
     "checksum": "b01dd1669166ec392e8e40a8a6478480",
     "grade": false,
     "grade_id": "cell-f37e07c71c30f12c",
     "locked": true,
     "schema_version": 3,
     "solution": false,
     "task": false
    }
   },
   "source": [
    "## 2.3 Train a model with α = 0.1, n_iteration = 1000 ,and plot the convergence curves"
   ]
  },
  {
   "cell_type": "code",
   "execution_count": null,
   "metadata": {
    "deletable": false,
    "nbgrader": {
     "cell_type": "code",
     "checksum": "dfe62ecf2c3e8d52fe729347481a27a6",
     "grade": true,
     "grade_id": "cell-faaef0e2835ddb9a",
     "locked": false,
     "points": 10,
     "schema_version": 3,
     "solution": true,
     "task": false
    }
   },
   "outputs": [],
   "source": [
    "# YOUR CODE HERE\n",
    "raise NotImplementedError()"
   ]
  },
  {
   "cell_type": "markdown",
   "metadata": {
    "deletable": false,
    "editable": false,
    "nbgrader": {
     "cell_type": "markdown",
     "checksum": "60393c3c82abbf1b432fdf5bc506e54c",
     "grade": false,
     "grade_id": "cell-e8f38e8361245f43",
     "locked": true,
     "schema_version": 3,
     "solution": false,
     "task": false
    }
   },
   "source": [
    "## 2.4 Plot the decision boundary of the model"
   ]
  },
  {
   "cell_type": "code",
   "execution_count": null,
   "metadata": {
    "deletable": false,
    "nbgrader": {
     "cell_type": "code",
     "checksum": "00dc1f671396978948900579bba854ce",
     "grade": true,
     "grade_id": "cell-912817fb209ece98",
     "locked": false,
     "points": 10,
     "schema_version": 3,
     "solution": true,
     "task": false
    }
   },
   "outputs": [],
   "source": [
    "# YOUR CODE HERE\n",
    "raise NotImplementedError()"
   ]
  },
  {
   "cell_type": "markdown",
   "metadata": {
    "deletable": false,
    "editable": false,
    "nbgrader": {
     "cell_type": "markdown",
     "checksum": "c3f32a562a2f81289dff72dba5f30f76",
     "grade": false,
     "grade_id": "cell-e08fd9f74921a7bf",
     "locked": true,
     "schema_version": 3,
     "solution": false,
     "task": false
    }
   },
   "source": [
    "## 2.5 Print the accuracy of the model"
   ]
  },
  {
   "cell_type": "code",
   "execution_count": null,
   "metadata": {
    "deletable": false,
    "nbgrader": {
     "cell_type": "code",
     "checksum": "0e259a7cd5ba7fde7c6205289317b42a",
     "grade": true,
     "grade_id": "cell-27daae9d0366927d",
     "locked": false,
     "points": 10,
     "schema_version": 3,
     "solution": true,
     "task": false
    }
   },
   "outputs": [],
   "source": [
    "# YOUR CODE HERE\n",
    "raise NotImplementedError()"
   ]
  },
  {
   "cell_type": "markdown",
   "metadata": {
    "deletable": false,
    "editable": false,
    "nbgrader": {
     "cell_type": "markdown",
     "checksum": "2e30a6b5dab2b989fcf29591be68175c",
     "grade": false,
     "grade_id": "cell-05090444ce6b6ffb",
     "locked": true,
     "schema_version": 3,
     "solution": false,
     "task": false
    }
   },
   "source": [
    "# 3. Multi-class Classification – One-Versus-One"
   ]
  },
  {
   "cell_type": "markdown",
   "metadata": {
    "deletable": false,
    "editable": false,
    "nbgrader": {
     "cell_type": "markdown",
     "checksum": "22bc854615964a29621274498e5eebc0",
     "grade": false,
     "grade_id": "cell-a25de12b85a9f48b",
     "locked": true,
     "schema_version": 3,
     "solution": false,
     "task": false
    }
   },
   "source": [
    "## 3.1 Load Iris dataset from sklearn library"
   ]
  },
  {
   "cell_type": "code",
   "execution_count": 22,
   "metadata": {},
   "outputs": [
    {
     "name": "stdout",
     "output_type": "stream",
     "text": [
      "['sepal length (cm)', 'sepal width (cm)', 'petal length (cm)', 'petal width (cm)']\n",
      "['setosa' 'versicolor' 'virginica']\n"
     ]
    }
   ],
   "source": [
    "iris = sklearn.datasets.load_iris()\n",
    "print(iris.feature_names)\n",
    "print(iris.target_names)"
   ]
  },
  {
   "cell_type": "markdown",
   "metadata": {
    "deletable": false,
    "editable": false,
    "nbgrader": {
     "cell_type": "markdown",
     "checksum": "a4f5853eecda213dcfa59ac378501270",
     "grade": false,
     "grade_id": "cell-c67c8351c823ebb0",
     "locked": true,
     "schema_version": 3,
     "solution": false,
     "task": false
    }
   },
   "source": [
    "## 3.2 Define Petal length (cm), Petal width (cm) as X and Iris target as y"
   ]
  },
  {
   "cell_type": "code",
   "execution_count": 23,
   "metadata": {},
   "outputs": [],
   "source": [
    "_X = iris.data[:, 2:]\n",
    "X = addBias(_X)\n",
    "y = iris.target"
   ]
  },
  {
   "cell_type": "markdown",
   "metadata": {
    "deletable": false,
    "editable": false,
    "nbgrader": {
     "cell_type": "markdown",
     "checksum": "9a1039671321d7d4c0ffa2bb1745d82e",
     "grade": false,
     "grade_id": "cell-274e5db537a81b93",
     "locked": true,
     "schema_version": 3,
     "solution": false,
     "task": false
    }
   },
   "source": [
    "## 3.3 Train a model to classify three classes of Iris by using One-Versus-One scheme with α = 0.3, n_iteration = 3000, and plot the convergence curve of each classifier."
   ]
  },
  {
   "cell_type": "code",
   "execution_count": 24,
   "metadata": {},
   "outputs": [],
   "source": [
    "from itertools import combinations\n",
    "comb = np.array(list(combinations([0, 1, 2], 2)))"
   ]
  },
  {
   "cell_type": "code",
   "execution_count": 25,
   "metadata": {},
   "outputs": [
    {
     "name": "stdout",
     "output_type": "stream",
     "text": [
      "Train combinations of class: [0 1]\n",
      "Train combinations of class: [0 2]\n",
      "Train combinations of class: [1 2]\n"
     ]
    }
   ],
   "source": [
    "alpha = 0.3\n",
    "n_iteration = 3000\n",
    "\n",
    "theta_list = []\n",
    "j_history_list = []\n",
    "\n",
    "for i in comb:\n",
    "    print(f'Train combinations of class: {i}')\n",
    "    \n",
    "    label_zero = i[0]\n",
    "    label_one = i[1]\n",
    "    \n",
    "    # Split data for each combination class\n",
    "    selector = np.logical_or(y==label_zero, y==label_one)\n",
    "    X_train = _X[selector]\n",
    "    y_train = y[selector].reshape(-1, 1)\n",
    "    \n",
    "    # Re-label y to binary --- 0 and 1\n",
    "    y_train[y_train == label_zero] = 0\n",
    "    y_train[y_train == label_one] = 1\n",
    "    \n",
    "    X_train = addBias(X_train)\n",
    "    theta = createTheta(X_train)\n",
    "    theta, j_history = gradientDescent(X_train, y_train, theta, alpha, n_iteration, verbose=False)\n",
    "    \n",
    "    theta_list.append(theta)\n",
    "    j_history_list.append(j_history)"
   ]
  },
  {
   "cell_type": "code",
   "execution_count": 26,
   "metadata": {},
   "outputs": [
    {
     "data": {
      "image/png": "[encoded data removed]",
      "text/plain": [
       "<Figure size 432x288 with 1 Axes>"
      ]
     },
     "metadata": {
      "needs_background": "light"
     },
     "output_type": "display_data"
    }
   ],
   "source": [
    "for com, j_hist in zip(comb, j_history_list):\n",
    "    plt.plot(j_hist, label=str(com))\n",
    "    plt.xlabel(\"# Iterations\")\n",
    "    plt.ylabel(\"$J(y, \\hat{y})$\")\n",
    "    plt.legend()"
   ]
  },
  {
   "cell_type": "markdown",
   "metadata": {
    "deletable": false,
    "editable": false,
    "nbgrader": {
     "cell_type": "markdown",
     "checksum": "de118b5fa5e0b45666d2c8d8d3b0b5dc",
     "grade": false,
     "grade_id": "cell-0cf350e96efe1a9b",
     "locked": true,
     "schema_version": 3,
     "solution": false,
     "task": false
    }
   },
   "source": [
    "## 3.4 Write a function to calculate the accuracy of One Versus One algorithm in the following format:\n",
    "$$\n",
    "ovaAcc = accuracyOvo(X, theta\\_list, y)\n",
    "$$"
   ]
  },
  {
   "cell_type": "code",
   "execution_count": 27,
   "metadata": {},
   "outputs": [],
   "source": [
    "def accuracyOvo(X, theta_list, y):\n",
    "    predict_list = []\n",
    "    \n",
    "    for theta, i in zip(theta_list, comb):\n",
    "        y_pred = predict(X, theta)\n",
    "        y_pred = (y_pred > 0.5).astype(np.int)\n",
    "        y_pred = i[y_pred.flatten()]\n",
    "        \n",
    "        predict_list.append(y_pred)\n",
    "    predict_list = np.array(predict_list).T\n",
    "    \n",
    "    majority_preds = []\n",
    "    for i, pred in enumerate(predict_list):\n",
    "        unique_value, count = np.unique(pred, return_counts=True)\n",
    "        majority_preds.append(unique_value[np.argmax(count)])\n",
    "    \n",
    "    return np.mean(y == majority_preds)"
   ]
  },
  {
   "cell_type": "markdown",
   "metadata": {
    "deletable": false,
    "editable": false,
    "nbgrader": {
     "cell_type": "markdown",
     "checksum": "bc41f3a6112d50047ad286330514125a",
     "grade": false,
     "grade_id": "cell-35020197e42816e5",
     "locked": true,
     "schema_version": 3,
     "solution": false,
     "task": false
    }
   },
   "source": [
    "## 3.5 Print the accuracy of the model"
   ]
  },
  {
   "cell_type": "code",
   "execution_count": 28,
   "metadata": {},
   "outputs": [
    {
     "name": "stdout",
     "output_type": "stream",
     "text": [
      "Accuracy of the model by One vs One strategy is : 96.000000 %\n"
     ]
    }
   ],
   "source": [
    "print(\"Accuracy of the model by One vs One strategy is : %f %%\" %(accuracyOvo(X, theta_list, y) * 100))"
   ]
  }
 ],
 "metadata": {
  "kernelspec": {
   "display_name": "Python 3",
   "language": "python",
   "name": "python3"
  },
  "language_info": {
   "codemirror_mode": {
    "name": "ipython",
    "version": 3
   },
   "file_extension": ".py",
   "mimetype": "text/x-python",
   "name": "python",
   "nbconvert_exporter": "python",
   "pygments_lexer": "ipython3",
   "version": "3.8.0"
  },
  "toc": {
   "base_numbering": 1,
   "nav_menu": {},
   "number_sections": false,
   "sideBar": true,
   "skip_h1_title": false,
   "title_cell": "Table of Contents",
   "title_sidebar": "Contents",
   "toc_cell": false,
   "toc_position": {},
   "toc_section_display": true,
   "toc_window_display": true
  },
  "varInspector": {
   "cols": {
    "lenName": 16,
    "lenType": 16,
    "lenVar": 40
   },
   "kernels_config": {
    "python": {
     "delete_cmd_postfix": "",
     "delete_cmd_prefix": "del ",
     "library": "var_list.py",
     "varRefreshCmd": "print(var_dic_list())"
    },
    "r": {
     "delete_cmd_postfix": ") ",
     "delete_cmd_prefix": "rm(",
     "library": "var_list.r",
     "varRefreshCmd": "cat(var_dic_list()) "
    }
   },
   "types_to_exclude": [
    "module",
    "function",
    "builtin_function_or_method",
    "instance",
    "_Feature"
   ],
   "window_display": false
  }
 },
 "nbformat": 4,
 "nbformat_minor": 2
}
