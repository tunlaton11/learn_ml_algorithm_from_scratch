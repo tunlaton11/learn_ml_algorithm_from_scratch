{
 "cells": [
  {
   "cell_type": "markdown",
   "id": "forward-closure",
   "metadata": {},
   "source": [
    "Before you turn this problem in, make sure everything runs as expected. First, **restart the kernel** (in the menubar, select Kernel$\\rightarrow$Restart) and then **run all cells** (in the menubar, select Cell$\\rightarrow$Run All).\n",
    "\n",
    "Make sure you fill in any place that says `YOUR CODE HERE` or \"YOUR ANSWER HERE\", as well as your name and student id below:"
   ]
  },
  {
   "cell_type": "code",
   "execution_count": 1,
   "id": "biological-pierre",
   "metadata": {},
   "outputs": [],
   "source": [
    "NAME = \"Tunlaton Wongchai\"\n",
    "STUDENT_ID = \"63070224\""
   ]
  },
  {
   "cell_type": "markdown",
   "id": "afraid-wholesale",
   "metadata": {},
   "source": [
    "---"
   ]
  },
  {
   "cell_type": "markdown",
   "id": "minute-october",
   "metadata": {},
   "source": [
    "# 1. $k$-mean Clustering"
   ]
  },
  {
   "cell_type": "markdown",
   "id": "structural-ecology",
   "metadata": {},
   "source": [
    "## 1.1 Load Iris dataset and sklearn library"
   ]
  },
  {
   "cell_type": "code",
   "execution_count": 2,
   "id": "working-generator",
   "metadata": {},
   "outputs": [],
   "source": [
    "import numpy as np\n",
    "import matplotlib.pyplot as plt\n",
    "from sklearn.cluster import KMeans\n",
    "from sklearn import datasets"
   ]
  },
  {
   "cell_type": "code",
   "execution_count": 3,
   "id": "challenging-pharmacy",
   "metadata": {},
   "outputs": [
    {
     "data": {
      "text/plain": [
       "['sepal length (cm)',\n",
       " 'sepal width (cm)',\n",
       " 'petal length (cm)',\n",
       " 'petal width (cm)']"
      ]
     },
     "execution_count": 3,
     "metadata": {},
     "output_type": "execute_result"
    }
   ],
   "source": [
    "iris = datasets.load_iris()\n",
    "iris['feature_names']"
   ]
  },
  {
   "cell_type": "markdown",
   "id": "collaborative-twins",
   "metadata": {},
   "source": [
    "## 1.2 Define petal length (cm), petal width (cm), as $X$, Label—0 (Setosa), 1 (Versicolor) and 2 (Virginica) as $y$"
   ]
  },
  {
   "cell_type": "code",
   "execution_count": 4,
   "id": "documented-sierra",
   "metadata": {},
   "outputs": [],
   "source": [
    "X = iris['data'][:,2:]\n",
    "y = iris['target'].reshape(-1, 1)"
   ]
  },
  {
   "cell_type": "markdown",
   "id": "loaded-knowing",
   "metadata": {},
   "source": [
    "## 1.3 Write a function to normalise X to [0, 1]:\n",
    "\n",
    "$$\n",
    "    [X_{norm}, X_{max}, X_{min}] = normalise(X)\n",
    "$$"
   ]
  },
  {
   "cell_type": "code",
   "execution_count": 5,
   "id": "competent-wireless",
   "metadata": {
    "deletable": false,
    "nbgrader": {
     "cell_type": "code",
     "checksum": "1ac1d3410fdc9346204009d70e2bd024",
     "grade": true,
     "grade_id": "cell-df09cf6dcdab88a9",
     "locked": false,
     "points": 10,
     "schema_version": 3,
     "solution": true,
     "task": false
    }
   },
   "outputs": [],
   "source": [
    "def normalise(X):   \n",
    "\n",
    "    X_min = np.min(X, axis=0)\n",
    "    X_max = np.max(X, axis=0)\n",
    "\n",
    "    X_norm = (X - X_min) / (X_max - X_min)\n",
    "\n",
    "    return X_norm, X_max, X_min"
   ]
  },
  {
   "cell_type": "code",
   "execution_count": 6,
   "id": "scheduled-carter",
   "metadata": {},
   "outputs": [],
   "source": [
    "X_norm, X_max, X_min = normalise(X)"
   ]
  },
  {
   "cell_type": "markdown",
   "id": "quantitative-round",
   "metadata": {},
   "source": [
    "## 1.4 Write a function to generate centroids for $k$ clusters by randomly select the samples in $X$ to represent the centroids:\n",
    "\n",
    "$$\n",
    "    centres = centroidCreate(X, k, random\\_seed)\n",
    "$$\n",
    "\n",
    "where $centres \\in \\mathbb{R}^{N_{sample} \\times N_{feature}}$ and $random\\_seed$ is a random generator number."
   ]
  },
  {
   "cell_type": "code",
   "execution_count": 14,
   "id": "measured-algebra",
   "metadata": {
    "deletable": false,
    "nbgrader": {
     "cell_type": "code",
     "checksum": "06dac8e496dbff37fb297d5ec6f7f9ae",
     "grade": true,
     "grade_id": "cell-a0677bf68f1196ed",
     "locked": false,
     "points": 10,
     "schema_version": 3,
     "solution": true,
     "task": false
    }
   },
   "outputs": [],
   "source": [
    "def centroidCreate(X, k, random_seed):\n",
    "\n",
    "    np.random.seed(random_seed)\n",
    "    std = np.std(X, axis=0)\n",
    "    mean = np.mean(X, axis=0)\n",
    "\n",
    "    centers = np.random.rand(k, X.shape[1])*std+mean\n",
    "    return centers"
   ]
  },
  {
   "cell_type": "code",
   "execution_count": 15,
   "id": "twenty-scoop",
   "metadata": {},
   "outputs": [
    {
     "data": {
      "text/plain": [
       "array([[0.69746859, 0.46462435],\n",
       "       [0.65641412, 0.69508088],\n",
       "       [0.61611445, 0.52921237]])"
      ]
     },
     "execution_count": 15,
     "metadata": {},
     "output_type": "execute_result"
    }
   ],
   "source": [
    "# Test\n",
    "centroidCreate(X_norm, 3, 10)"
   ]
  },
  {
   "cell_type": "markdown",
   "id": "outside-studio",
   "metadata": {},
   "source": [
    "## 1.5  Write a function to calculate Euclidean distance between two points, $x_1$ and $x_2$:\n",
    "$$\n",
    "distance = euclideanDistance(x_1, x_2)\n",
    "$$"
   ]
  },
  {
   "cell_type": "code",
   "execution_count": 25,
   "id": "continental-squad",
   "metadata": {
    "deletable": false,
    "nbgrader": {
     "cell_type": "code",
     "checksum": "5094e4f6493cc6061c553cd0d1b0f4d1",
     "grade": true,
     "grade_id": "cell-675a8e23c59e1a09",
     "locked": false,
     "points": 10,
     "schema_version": 3,
     "solution": true,
     "task": false
    }
   },
   "outputs": [],
   "source": [
    "def euclidean_distance(x1,x2):\n",
    "    \n",
    "    distance = np.sqrt(np.sum(np.square(x1-x2)))\n",
    "    \n",
    "    \n",
    "    return distance"
   ]
  },
  {
   "cell_type": "code",
   "execution_count": null,
   "id": "1b905562",
   "metadata": {},
   "outputs": [],
   "source": [
    "euclidean_distance()"
   ]
  },
  {
   "cell_type": "markdown",
   "id": "express-following",
   "metadata": {},
   "source": [
    "## 1.6 Write a function to calculate sum square error between centroids and their members:\n",
    "\n",
    "$$\n",
    "    accuracy = SSE(X, centres, index_{cluster})\n",
    "$$\n",
    "\n",
    "where $index_{cluster}$ is an $N_{Sample}$-dimensional vector that consists of cluster label assigned for each sample."
   ]
  },
  {
   "cell_type": "code",
   "execution_count": 10,
   "id": "organic-billy",
   "metadata": {
    "deletable": false,
    "nbgrader": {
     "cell_type": "code",
     "checksum": "a903839832c1357475d4b58bed9963d5",
     "grade": true,
     "grade_id": "cell-c9e52a5a5888df81",
     "locked": false,
     "points": 10,
     "schema_version": 3,
     "solution": true,
     "task": false
    }
   },
   "outputs": [],
   "source": [
    "def SSError(X,K,centers,clusters):\n",
    "    \n",
    "    error = np.sum(np.mean())\n",
    "    \n",
    "    return error"
   ]
  },
  {
   "cell_type": "markdown",
   "id": "independent-pledge",
   "metadata": {},
   "source": [
    "## 1.7 Write a function of k-mean clustering algorithm as the following format:\n",
    "\n",
    "$$\n",
    "    [centres, index_{cluster}, SSE_{History}] = kmean(X, k, n_{iteration}, random\\_seed)\n",
    "$$\n",
    "\n",
    "where \n",
    "\n",
    "- $n_{iteration}$ is a number of iteration, \n",
    "\n",
    "- $centres$ is a matrix of centroids represented the cluster, \n",
    "\n",
    "- $index_{cluster}$ is a $N_{sample}$-dimensional vector that consists of cluster label assigned for each sample, and \n",
    "\n",
    "- $SSE_{History}$ is a vector of $SSE$ for each iteration ($SSE_{History} \\in \\mathbb{R}^{n_{iteration} + 1 \\times 1}$)"
   ]
  },
  {
   "cell_type": "code",
   "execution_count": 11,
   "id": "lasting-cornwall",
   "metadata": {},
   "outputs": [],
   "source": [
    "def Kmeans(X, k, n_iteration, random_seed):\n",
    "    \n",
    "    #number of data\n",
    "    n = X.shape[0]\n",
    "    \n",
    "    #Generate Center\n",
    "    centers = centroidCreate(X, k, random_seed)\n",
    "    centers_sold = centers.copy()\n",
    "\n",
    "    centers_new = np.zeros(centers.shape)\n",
    "    cluster = np.zeros((n))\n",
    "    distances = np.zeros((n, k))\n",
    "    sse_history = []\n",
    "    \n",
    "    for i in range(n_iteration):\n",
    "        #Measure the distance to every center of cluster\n",
    "        for j in range(k):\n",
    "            distances[:,j] = euclidean_distance(centers[j], X)\n",
    "\n",
    "        #Find cluster for each data X\n",
    "        clusters = np.argmin(distances, axis=1)\n",
    "\n",
    "        #calculate mean of each cluster to update their centroids.\n",
    "        for j in set(clusters):\n",
    "            centers_new[j] = np.mean(X[clusters==j], axis=0)\n",
    "\n",
    "        centers = centers_new.copy()\n",
    "        sse_history.append(SSError(X, k, centers, clusters))\n",
    "    \n",
    "    return centers, clusters, sse_history"
   ]
  },
  {
   "cell_type": "code",
   "execution_count": 12,
   "id": "greatest-pastor",
   "metadata": {},
   "outputs": [],
   "source": [
    "centers, clusters, sse_history = Kmeans(X_norm, 2, 100, 10)"
   ]
  },
  {
   "cell_type": "code",
   "execution_count": 13,
   "id": "governmental-thanksgiving",
   "metadata": {},
   "outputs": [
    {
     "data": {
      "text/plain": [
       "array([1, 1, 1, 1, 1, 1, 1, 1, 1, 1, 1, 1, 1, 1, 1, 1, 1, 1, 1, 1, 1, 1,\n",
       "       1, 1, 1, 1, 1, 1, 1, 1, 1, 1, 1, 1, 1, 1, 1, 1, 1, 1, 1, 1, 1, 1,\n",
       "       1, 1, 1, 1, 1, 1, 0, 0, 0, 0, 0, 0, 0, 0, 0, 0, 0, 0, 0, 0, 0, 0,\n",
       "       0, 0, 0, 0, 0, 0, 0, 0, 0, 0, 0, 0, 0, 0, 0, 0, 0, 0, 0, 0, 0, 0,\n",
       "       0, 0, 0, 0, 0, 0, 0, 0, 0, 0, 0, 0, 0, 0, 0, 0, 0, 0, 0, 0, 0, 0,\n",
       "       0, 0, 0, 0, 0, 0, 0, 0, 0, 0, 0, 0, 0, 0, 0, 0, 0, 0, 0, 0, 0, 0,\n",
       "       0, 0, 0, 0, 0, 0, 0, 0, 0, 0, 0, 0, 0, 0, 0, 0, 0, 0])"
      ]
     },
     "execution_count": 13,
     "metadata": {},
     "output_type": "execute_result"
    }
   ],
   "source": [
    "clusters"
   ]
  },
  {
   "cell_type": "code",
   "execution_count": 14,
   "id": "separated-congress",
   "metadata": {},
   "outputs": [
    {
     "data": {
      "text/plain": [
       "array([[0.6620339 , 0.65666667],\n",
       "       [0.07830508, 0.06083333]])"
      ]
     },
     "execution_count": 14,
     "metadata": {},
     "output_type": "execute_result"
    }
   ],
   "source": [
    "centers"
   ]
  },
  {
   "cell_type": "code",
   "execution_count": 15,
   "id": "dirty-butter",
   "metadata": {
    "scrolled": true
   },
   "outputs": [
    {
     "data": {
      "text/plain": [
       "[5.678834863299163,\n",
       " 5.246286910518258,\n",
       " 5.176463590044368,\n",
       " 5.176463590044368,\n",
       " 5.176463590044368,\n",
       " 5.176463590044368,\n",
       " 5.176463590044368,\n",
       " 5.176463590044368,\n",
       " 5.176463590044368,\n",
       " 5.176463590044368,\n",
       " 5.176463590044368,\n",
       " 5.176463590044368,\n",
       " 5.176463590044368,\n",
       " 5.176463590044368,\n",
       " 5.176463590044368,\n",
       " 5.176463590044368,\n",
       " 5.176463590044368,\n",
       " 5.176463590044368,\n",
       " 5.176463590044368,\n",
       " 5.176463590044368,\n",
       " 5.176463590044368,\n",
       " 5.176463590044368,\n",
       " 5.176463590044368,\n",
       " 5.176463590044368,\n",
       " 5.176463590044368,\n",
       " 5.176463590044368,\n",
       " 5.176463590044368,\n",
       " 5.176463590044368,\n",
       " 5.176463590044368,\n",
       " 5.176463590044368,\n",
       " 5.176463590044368,\n",
       " 5.176463590044368,\n",
       " 5.176463590044368,\n",
       " 5.176463590044368,\n",
       " 5.176463590044368,\n",
       " 5.176463590044368,\n",
       " 5.176463590044368,\n",
       " 5.176463590044368,\n",
       " 5.176463590044368,\n",
       " 5.176463590044368,\n",
       " 5.176463590044368,\n",
       " 5.176463590044368,\n",
       " 5.176463590044368,\n",
       " 5.176463590044368,\n",
       " 5.176463590044368,\n",
       " 5.176463590044368,\n",
       " 5.176463590044368,\n",
       " 5.176463590044368,\n",
       " 5.176463590044368,\n",
       " 5.176463590044368,\n",
       " 5.176463590044368,\n",
       " 5.176463590044368,\n",
       " 5.176463590044368,\n",
       " 5.176463590044368,\n",
       " 5.176463590044368,\n",
       " 5.176463590044368,\n",
       " 5.176463590044368,\n",
       " 5.176463590044368,\n",
       " 5.176463590044368,\n",
       " 5.176463590044368,\n",
       " 5.176463590044368,\n",
       " 5.176463590044368,\n",
       " 5.176463590044368,\n",
       " 5.176463590044368,\n",
       " 5.176463590044368,\n",
       " 5.176463590044368,\n",
       " 5.176463590044368,\n",
       " 5.176463590044368,\n",
       " 5.176463590044368,\n",
       " 5.176463590044368,\n",
       " 5.176463590044368,\n",
       " 5.176463590044368,\n",
       " 5.176463590044368,\n",
       " 5.176463590044368,\n",
       " 5.176463590044368,\n",
       " 5.176463590044368,\n",
       " 5.176463590044368,\n",
       " 5.176463590044368,\n",
       " 5.176463590044368,\n",
       " 5.176463590044368,\n",
       " 5.176463590044368,\n",
       " 5.176463590044368,\n",
       " 5.176463590044368,\n",
       " 5.176463590044368,\n",
       " 5.176463590044368,\n",
       " 5.176463590044368,\n",
       " 5.176463590044368,\n",
       " 5.176463590044368,\n",
       " 5.176463590044368,\n",
       " 5.176463590044368,\n",
       " 5.176463590044368,\n",
       " 5.176463590044368,\n",
       " 5.176463590044368,\n",
       " 5.176463590044368,\n",
       " 5.176463590044368,\n",
       " 5.176463590044368,\n",
       " 5.176463590044368,\n",
       " 5.176463590044368,\n",
       " 5.176463590044368,\n",
       " 5.176463590044368]"
      ]
     },
     "execution_count": 15,
     "metadata": {},
     "output_type": "execute_result"
    }
   ],
   "source": [
    "sse_history"
   ]
  },
  {
   "cell_type": "code",
   "execution_count": 16,
   "id": "dominican-couple",
   "metadata": {},
   "outputs": [
    {
     "data": {
      "image/png": "[encoded data removed]",
      "text/plain": [
       "<Figure size 432x288 with 1 Axes>"
      ]
     },
     "metadata": {
      "needs_background": "light"
     },
     "output_type": "display_data"
    }
   ],
   "source": [
    "plt.scatter(X_norm[clusters==0,0], X_norm[clusters==0,1], c='red', label='cluster0')\n",
    "plt.scatter(X_norm[clusters==1,0], X_norm[clusters==1,1], c='green', label='cluster1')\n",
    "\n",
    "plt.scatter(centers[:,0], centers[:,1], c = 'orange', label='Centroid', s=200)\n",
    "plt.legend()\n",
    "plt.show()"
   ]
  },
  {
   "cell_type": "markdown",
   "id": "subsequent-cooling",
   "metadata": {},
   "source": [
    "## 1.8 Apply k-mean clustering algorithm to the data with $k = 3$ and $random\\_seed = 0$. Plot the convergence curve of $SSE$, observe and discuss the result."
   ]
  },
  {
   "cell_type": "code",
   "execution_count": 17,
   "id": "rubber-sarah",
   "metadata": {
    "deletable": false,
    "nbgrader": {
     "cell_type": "code",
     "checksum": "7cb9827cac15c00a6cc1a3b0b7cf855c",
     "grade": true,
     "grade_id": "cell-9f3b24b0b4d5f2f1",
     "locked": false,
     "points": 10,
     "schema_version": 3,
     "solution": true,
     "task": false
    }
   },
   "outputs": [],
   "source": [
    "## Apply k-mean clustering\n",
    "\n",
    "# YOUR CODE HERE\n",
    "raise NotImplementedError()"
   ]
  },
  {
   "cell_type": "code",
   "execution_count": 18,
   "id": "clear-teddy",
   "metadata": {
    "deletable": false,
    "nbgrader": {
     "cell_type": "code",
     "checksum": "3ee0da0e5ac5d040de758c7ca3341cf9",
     "grade": true,
     "grade_id": "cell-711e37e19b32ab88",
     "locked": false,
     "points": 10,
     "schema_version": 3,
     "solution": true,
     "task": false
    }
   },
   "outputs": [
    {
     "data": {
      "image/png": "[encoded data removed]",
      "text/plain": [
       "<Figure size 432x288 with 1 Axes>"
      ]
     },
     "metadata": {
      "needs_background": "light"
     },
     "output_type": "display_data"
    }
   ],
   "source": [
    "## Plot the convergence curve of SSE\n",
    "\n",
    "# YOUR CODE HERE\n",
    "raise NotImplementedError()"
   ]
  },
  {
   "cell_type": "code",
   "execution_count": 19,
   "id": "stone-american",
   "metadata": {
    "deletable": false,
    "nbgrader": {
     "cell_type": "code",
     "checksum": "04d6b785b0330210d430665f6449e3f9",
     "grade": true,
     "grade_id": "cell-18b132f92fdae452",
     "locked": false,
     "points": 10,
     "schema_version": 3,
     "solution": true,
     "task": false
    }
   },
   "outputs": [
    {
     "data": {
      "image/png": "[encoded data removed]",
      "text/plain": [
       "<Figure size 432x288 with 1 Axes>"
      ]
     },
     "metadata": {
      "needs_background": "light"
     },
     "output_type": "display_data"
    }
   ],
   "source": [
    "## Plot scatter plot.\n",
    "\n",
    "# YOUR CODE HERE\n",
    "raise NotImplementedError()"
   ]
  },
  {
   "cell_type": "markdown",
   "id": "compact-sullivan",
   "metadata": {},
   "source": [
    "## 1.9 Observe the effect of $k$ by varying from 1 to $N_{Sample}$. Then plot the optimal $SSE$ against $k$."
   ]
  },
  {
   "cell_type": "code",
   "execution_count": 20,
   "id": "trained-slave",
   "metadata": {
    "deletable": false,
    "nbgrader": {
     "cell_type": "code",
     "checksum": "3cdff4e0b768534aed14d5de71236e4d",
     "grade": true,
     "grade_id": "cell-2e8b596825a3b1f8",
     "locked": false,
     "points": 10,
     "schema_version": 3,
     "solution": true,
     "task": false
    }
   },
   "outputs": [
    {
     "data": {
      "text/plain": [
       "<function matplotlib.pyplot.show(close=None, block=None)>"
      ]
     },
     "execution_count": 20,
     "metadata": {},
     "output_type": "execute_result"
    },
    {
     "data": {
      "image/png": "[encoded data removed]",
      "text/plain": [
       "<Figure size 432x288 with 1 Axes>"
      ]
     },
     "metadata": {
      "needs_background": "light"
     },
     "output_type": "display_data"
    }
   ],
   "source": [
    "# YOUR CODE HERE\n",
    "raise NotImplementedError()"
   ]
  },
  {
   "cell_type": "markdown",
   "id": "exterior-collapse",
   "metadata": {},
   "source": [
    "## 1.10 Determine the optimal $k$ that is best for this data. How did you choose the number?"
   ]
  },
  {
   "cell_type": "code",
   "execution_count": 21,
   "id": "controversial-expert",
   "metadata": {
    "deletable": false,
    "nbgrader": {
     "cell_type": "code",
     "checksum": "b592a429cedfa545f290538afb809a94",
     "grade": true,
     "grade_id": "cell-76090c7ce95a85f0",
     "locked": false,
     "points": 10,
     "schema_version": 3,
     "solution": true,
     "task": false
    }
   },
   "outputs": [],
   "source": [
    "# YOUR CODE HERE\n",
    "raise NotImplementedError()"
   ]
  },
  {
   "cell_type": "markdown",
   "id": "limited-shark",
   "metadata": {},
   "source": [
    "## 1.11 Create a scatter plot between $X$ and labels acquired from $k$-mean Clustering with the optimal settings and plot all the centroids represented the clusters."
   ]
  },
  {
   "cell_type": "code",
   "execution_count": 22,
   "id": "similar-finding",
   "metadata": {
    "deletable": false,
    "nbgrader": {
     "cell_type": "code",
     "checksum": "b4038c5defd8fdb63b4897501a9d790a",
     "grade": true,
     "grade_id": "cell-abc11e542bae8c09",
     "locked": false,
     "points": 10,
     "schema_version": 3,
     "solution": true,
     "task": false
    }
   },
   "outputs": [
    {
     "data": {
      "image/png": "[encoded data removed]",
      "text/plain": [
       "<Figure size 432x288 with 1 Axes>"
      ]
     },
     "metadata": {
      "needs_background": "light"
     },
     "output_type": "display_data"
    }
   ],
   "source": [
    "# YOUR CODE HERE\n",
    "raise NotImplementedError()"
   ]
  },
  {
   "cell_type": "markdown",
   "id": "intended-beijing",
   "metadata": {},
   "source": [
    "## 1.12 Create a scatter plot between $X$ and actual $y$ label. Then compare this graph with the graph from earlier problem. Discuss what you have observed."
   ]
  },
  {
   "cell_type": "code",
   "execution_count": 23,
   "id": "democratic-demonstration",
   "metadata": {
    "deletable": false,
    "nbgrader": {
     "cell_type": "code",
     "checksum": "c02b6f4dd93683e02669b5070b9cf09f",
     "grade": true,
     "grade_id": "cell-33fa8d381da085eb",
     "locked": false,
     "points": 10,
     "schema_version": 3,
     "solution": true,
     "task": false
    }
   },
   "outputs": [
    {
     "data": {
      "image/png": "[encoded data removed]",
      "text/plain": [
       "<Figure size 432x288 with 1 Axes>"
      ]
     },
     "metadata": {
      "needs_background": "light"
     },
     "output_type": "display_data"
    }
   ],
   "source": [
    "# YOUR CODE HERE\n",
    "raise NotImplementedError()"
   ]
  },
  {
   "cell_type": "markdown",
   "id": "reduced-detail",
   "metadata": {},
   "source": [
    "## 1.13 Report the performance measure of $k$-mean clustering against actual $y$ label. Then report the mean and standard deviation of each clusters obtained by $k$-mean and actual $y$."
   ]
  },
  {
   "cell_type": "code",
   "execution_count": 24,
   "id": "abandoned-celebration",
   "metadata": {
    "deletable": false,
    "nbgrader": {
     "cell_type": "code",
     "checksum": "8ff8263311cee03a1cfc7f730f986164",
     "grade": true,
     "grade_id": "cell-623e9b4405c0a69f",
     "locked": false,
     "points": 10,
     "schema_version": 3,
     "solution": true,
     "task": false
    }
   },
   "outputs": [
    {
     "name": "stdout",
     "output_type": "stream",
     "text": [
      "SSE: 1.861026\n",
      "Cluster 0  MEAN: 0.85 STD: 0.62 \n",
      "Cluster 1  MEAN: 2.81 STD: 1.53 \n",
      "Cluster 2  MEAN: 3.81 STD: 1.80 \n"
     ]
    }
   ],
   "source": [
    "# YOUR CODE HERE\n",
    "raise NotImplementedError()"
   ]
  }
 ],
 "metadata": {
  "kernelspec": {
   "display_name": "base",
   "language": "python",
   "name": "python3"
  },
  "language_info": {
   "codemirror_mode": {
    "name": "ipython",
    "version": 3
   },
   "file_extension": ".py",
   "mimetype": "text/x-python",
   "name": "python",
   "nbconvert_exporter": "python",
   "pygments_lexer": "ipython3",
   "version": "3.9.12"
  },
  "vscode": {
   "interpreter": {
    "hash": "ad2bdc8ecc057115af97d19610ffacc2b4e99fae6737bb82f5d7fb13d2f2c186"
   }
  }
 },
 "nbformat": 4,
 "nbformat_minor": 5
}
