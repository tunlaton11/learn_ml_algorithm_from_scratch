{
 "cells": [
  {
   "cell_type": "markdown",
   "metadata": {},
   "source": [
    "Before you turn this problem in, make sure everything runs as expected. First, **restart the kernel** (in the menubar, select Kernel$\\rightarrow$Restart) and then **run all cells** (in the menubar, select Cell$\\rightarrow$Run All).\n",
    "\n",
    "Make sure you fill in any place that says `YOUR CODE HERE` or \"YOUR ANSWER HERE\", as well as your name and student id below:"
   ]
  },
  {
   "cell_type": "code",
   "execution_count": 300,
   "metadata": {},
   "outputs": [],
   "source": [
    "NAME = \"63070224\"\n",
    "STUDENT_ID = \"Tunlaton Wongchai\""
   ]
  },
  {
   "cell_type": "markdown",
   "metadata": {},
   "source": [
    "---"
   ]
  },
  {
   "cell_type": "markdown",
   "metadata": {
    "deletable": false,
    "editable": false,
    "nbgrader": {
     "cell_type": "markdown",
     "checksum": "1023d0405e3e85a86dd57854e6fec6f5",
     "grade": false,
     "grade_id": "cell-9974a0fa8e0a3d56",
     "locked": true,
     "schema_version": 3,
     "solution": false,
     "task": false
    }
   },
   "source": [
    "# 1 Least Squares"
   ]
  },
  {
   "cell_type": "markdown",
   "metadata": {
    "deletable": false,
    "editable": false,
    "nbgrader": {
     "cell_type": "markdown",
     "checksum": "6c88ff235bcab9de2dc354ca61b81e1d",
     "grade": false,
     "grade_id": "cell-31a713ba8c1f1301",
     "locked": true,
     "schema_version": 3,
     "solution": false,
     "task": false
    }
   },
   "source": [
    "**The dataset can be downloaded at https://bit.ly/2RZ15t2**"
   ]
  },
  {
   "cell_type": "code",
   "execution_count": 301,
   "metadata": {
    "ExecuteTime": {
     "end_time": "2021-02-03T19:11:06.705873Z",
     "start_time": "2021-02-03T19:11:06.285900Z"
    }
   },
   "outputs": [],
   "source": [
    "import numpy as np\n",
    "import matplotlib.pyplot as plt"
   ]
  },
  {
   "cell_type": "markdown",
   "metadata": {
    "deletable": false,
    "editable": false,
    "nbgrader": {
     "cell_type": "markdown",
     "checksum": "a0ab4ad534e96d1358bb6c474668156c",
     "grade": false,
     "grade_id": "cell-83d68cf2ade2c76b",
     "locked": true,
     "schema_version": 3,
     "solution": false,
     "task": false
    }
   },
   "source": [
    "## 1.1 Load a dataset from `ex1_x.csv` as $x$ and `ex1_z.csv` as $z$"
   ]
  },
  {
   "cell_type": "code",
   "execution_count": 302,
   "metadata": {
    "ExecuteTime": {
     "end_time": "2021-02-03T19:11:06.713203Z",
     "start_time": "2021-02-03T19:11:06.708858Z"
    }
   },
   "outputs": [],
   "source": [
    "x = np.genfromtxt('dataset/ex1_x.csv', delimiter=',').reshape(-1, 1)\n",
    "z = np.genfromtxt('dataset/ex1_z.csv', delimiter=',').reshape(-1, 1)"
   ]
  },
  {
   "cell_type": "code",
   "execution_count": 303,
   "metadata": {
    "deletable": false,
    "editable": false,
    "nbgrader": {
     "cell_type": "code",
     "checksum": "84956d109ad3ec88ff662c397bc08bd6",
     "grade": false,
     "grade_id": "cell-c6c2f4a002858d21",
     "locked": true,
     "schema_version": 3,
     "solution": false,
     "task": false
    }
   },
   "outputs": [],
   "source": [
    "assert x.shape in [(10, 1), (10,)]\n",
    "assert z.shape in [(10, 1), (10,)]"
   ]
  },
  {
   "cell_type": "markdown",
   "metadata": {
    "deletable": false,
    "editable": false,
    "nbgrader": {
     "cell_type": "markdown",
     "checksum": "784aa152017be616d831aff3cfdd9dad",
     "grade": false,
     "grade_id": "cell-1d1519c499be88e7",
     "locked": true,
     "schema_version": 3,
     "solution": false,
     "task": false
    }
   },
   "source": [
    "## 1.2 Concatenate a bias vector with $x$ as a new matrix $X$"
   ]
  },
  {
   "cell_type": "code",
   "execution_count": 304,
   "metadata": {
    "ExecuteTime": {
     "end_time": "2021-02-03T19:11:06.734749Z",
     "start_time": "2021-02-03T19:11:06.728356Z"
    }
   },
   "outputs": [
    {
     "data": {
      "text/plain": [
       "array([[ 1.,  1.],\n",
       "       [ 1.,  2.],\n",
       "       [ 1.,  3.],\n",
       "       [ 1.,  4.],\n",
       "       [ 1.,  5.],\n",
       "       [ 1.,  6.],\n",
       "       [ 1.,  7.],\n",
       "       [ 1.,  8.],\n",
       "       [ 1.,  9.],\n",
       "       [ 1., 10.]])"
      ]
     },
     "execution_count": 304,
     "metadata": {},
     "output_type": "execute_result"
    }
   ],
   "source": [
    "bias = np.ones((x.shape[0], 1))\n",
    "X = np.hstack((bias, x))\n",
    "X"
   ]
  },
  {
   "cell_type": "code",
   "execution_count": 305,
   "metadata": {
    "deletable": false,
    "editable": false,
    "nbgrader": {
     "cell_type": "code",
     "checksum": "79660a1523a77c12125609cf8b359a3b",
     "grade": false,
     "grade_id": "cell-92a4fb920d2d6904",
     "locked": true,
     "schema_version": 3,
     "solution": false,
     "task": false
    }
   },
   "outputs": [],
   "source": [
    "assert X.shape == (10, 2)"
   ]
  },
  {
   "cell_type": "markdown",
   "metadata": {
    "deletable": false,
    "editable": false,
    "nbgrader": {
     "cell_type": "markdown",
     "checksum": "01a116a0e52dc94955cb03610eed3612",
     "grade": false,
     "grade_id": "cell-4ffdc0c267530bc5",
     "locked": true,
     "schema_version": 3,
     "solution": false,
     "task": false
    }
   },
   "source": [
    "## 1.3 Find the Least-squares solution by using the following equation.\n",
    "\n",
    "$$\n",
    "\\hat{\\theta} = (X^TX)^{-1}X^Tz\n",
    "$$"
   ]
  },
  {
   "cell_type": "code",
   "execution_count": 306,
   "metadata": {
    "ExecuteTime": {
     "end_time": "2021-02-03T19:11:06.742196Z",
     "start_time": "2021-02-03T19:11:06.737181Z"
    }
   },
   "outputs": [
    {
     "data": {
      "text/plain": [
       "array([[ 3.48606   ],\n",
       "       [-1.17832036]])"
      ]
     },
     "execution_count": 306,
     "metadata": {},
     "output_type": "execute_result"
    }
   ],
   "source": [
    "theta = np.dot(np.dot(np.linalg.inv(np.dot(X.T, X)), X.T), z)\n",
    "theta"
   ]
  },
  {
   "cell_type": "markdown",
   "metadata": {
    "deletable": false,
    "editable": false,
    "nbgrader": {
     "cell_type": "markdown",
     "checksum": "1b47beff88d087c9f892688ffe77fefe",
     "grade": false,
     "grade_id": "cell-e984226b71b43935",
     "locked": true,
     "schema_version": 3,
     "solution": false,
     "task": false
    }
   },
   "source": [
    "## 1.4 Plot the Least-squares estimation of the function."
   ]
  },
  {
   "cell_type": "code",
   "execution_count": 307,
   "metadata": {
    "ExecuteTime": {
     "end_time": "2021-02-03T19:11:06.912249Z",
     "start_time": "2021-02-03T19:11:06.744440Z"
    }
   },
   "outputs": [
    {
     "data": {
      "text/plain": [
       "[<matplotlib.lines.Line2D at 0x1a101be26d0>]"
      ]
     },
     "execution_count": 307,
     "metadata": {},
     "output_type": "execute_result"
    },
    {
     "data": {
      "image/png": "[encoded data removed]",
      "text/plain": [
       "<Figure size 432x288 with 1 Axes>"
      ]
     },
     "metadata": {
      "needs_background": "light"
     },
     "output_type": "display_data"
    }
   ],
   "source": [
    "plt.scatter(x, z)\n",
    "plt.plot(x, np.dot(X, theta))"
   ]
  },
  {
   "cell_type": "markdown",
   "metadata": {
    "deletable": false,
    "editable": false,
    "nbgrader": {
     "cell_type": "markdown",
     "checksum": "112fc13ad982f99f301ce4a9e9bfb1a6",
     "grade": false,
     "grade_id": "cell-92911ce219aadf7b",
     "locked": true,
     "schema_version": 3,
     "solution": false,
     "task": false
    }
   },
   "source": [
    "## 1.5 Plot the true function with $\\theta = [3.75, -1.15]^T$"
   ]
  },
  {
   "cell_type": "code",
   "execution_count": 308,
   "metadata": {
    "ExecuteTime": {
     "end_time": "2021-02-03T19:11:06.918965Z",
     "start_time": "2021-02-03T19:11:06.916066Z"
    }
   },
   "outputs": [],
   "source": [
    "true_theta = np.array([\n",
    "    [3.75],\n",
    "    [-1.15]\n",
    "])"
   ]
  },
  {
   "cell_type": "code",
   "execution_count": 309,
   "metadata": {
    "ExecuteTime": {
     "end_time": "2021-02-03T19:11:07.066272Z",
     "start_time": "2021-02-03T19:11:06.921759Z"
    }
   },
   "outputs": [
    {
     "data": {
      "text/plain": [
       "[<matplotlib.lines.Line2D at 0x1a101c32c70>]"
      ]
     },
     "execution_count": 309,
     "metadata": {},
     "output_type": "execute_result"
    },
    {
     "data": {
      "image/png": "[encoded data removed]",
      "text/plain": [
       "<Figure size 432x288 with 1 Axes>"
      ]
     },
     "metadata": {
      "needs_background": "light"
     },
     "output_type": "display_data"
    }
   ],
   "source": [
    "plt.scatter(x, z)\n",
    "plt.plot(x, np.dot(X, true_theta))"
   ]
  },
  {
   "cell_type": "markdown",
   "metadata": {
    "deletable": false,
    "editable": false,
    "nbgrader": {
     "cell_type": "markdown",
     "checksum": "735a559ca443252e5ef38fed22a38d5a",
     "grade": false,
     "grade_id": "cell-b08c528bc780dab4",
     "locked": true,
     "schema_version": 3,
     "solution": false,
     "task": false
    }
   },
   "source": [
    "## 1.6 Plot the measured data."
   ]
  },
  {
   "cell_type": "code",
   "execution_count": 310,
   "metadata": {
    "ExecuteTime": {
     "end_time": "2021-02-03T19:11:07.232497Z",
     "start_time": "2021-02-03T19:11:07.068080Z"
    }
   },
   "outputs": [
    {
     "data": {
      "text/plain": [
       "<matplotlib.legend.Legend at 0x1a101c48e20>"
      ]
     },
     "execution_count": 310,
     "metadata": {},
     "output_type": "execute_result"
    },
    {
     "data": {
      "image/png": "[encoded data removed]",
      "text/plain": [
       "<Figure size 432x288 with 1 Axes>"
      ]
     },
     "metadata": {
      "needs_background": "light"
     },
     "output_type": "display_data"
    }
   ],
   "source": [
    "plt.scatter(x, z)\n",
    "plt.plot(x, np.dot(X, theta), label=\"Model\")\n",
    "plt.plot(x, np.dot(X, true_theta), label=\"True function\")\n",
    "plt.legend()"
   ]
  },
  {
   "cell_type": "markdown",
   "metadata": {
    "deletable": false,
    "editable": false,
    "nbgrader": {
     "cell_type": "markdown",
     "checksum": "397dc55e295bc8212b2a383b4e38c9ec",
     "grade": false,
     "grade_id": "cell-2364aaf1176626bf",
     "locked": true,
     "schema_version": 3,
     "solution": false,
     "task": false
    }
   },
   "source": [
    "## 1.7 Observe and discuss the results in Question 4-6"
   ]
  },
  {
   "cell_type": "markdown",
   "metadata": {
    "deletable": false,
    "nbgrader": {
     "cell_type": "markdown",
     "checksum": "c828eb3c42e74e843dd26f58a97fae0d",
     "grade": true,
     "grade_id": "cell-f9a2caa5e6fae3f8",
     "locked": false,
     "points": 5,
     "schema_version": 3,
     "solution": true,
     "task": false
    }
   },
   "source": [
    "YOUR ANSWER HERE"
   ]
  },
  {
   "cell_type": "markdown",
   "metadata": {
    "deletable": false,
    "editable": false,
    "nbgrader": {
     "cell_type": "markdown",
     "checksum": "f26558f3dd9ca10e91479c14d64dd75a",
     "grade": false,
     "grade_id": "cell-2f884ca47a407868",
     "locked": true,
     "schema_version": 3,
     "solution": false,
     "task": false
    }
   },
   "source": [
    "## 1.8 Find the Least-squares solution by using pseudo-inverse"
   ]
  },
  {
   "cell_type": "code",
   "execution_count": 311,
   "metadata": {
    "ExecuteTime": {
     "end_time": "2021-02-03T19:11:07.239852Z",
     "start_time": "2021-02-03T19:11:07.235010Z"
    }
   },
   "outputs": [
    {
     "data": {
      "text/plain": [
       "array([[ 3.48606   ],\n",
       "       [-1.17832036]])"
      ]
     },
     "execution_count": 311,
     "metadata": {},
     "output_type": "execute_result"
    }
   ],
   "source": [
    "theta = np.dot(np.linalg.pinv(X), z)\n",
    "theta"
   ]
  },
  {
   "cell_type": "markdown",
   "metadata": {
    "deletable": false,
    "editable": false,
    "nbgrader": {
     "cell_type": "markdown",
     "checksum": "5837d7b129d8730d3070be0bd537919d",
     "grade": false,
     "grade_id": "cell-a6636c4d81917761",
     "locked": true,
     "schema_version": 3,
     "solution": false,
     "task": false
    }
   },
   "source": [
    "## 1.9 Plot the Least-squares estimation of the function calculated by pseudo-inverse."
   ]
  },
  {
   "cell_type": "code",
   "execution_count": 312,
   "metadata": {
    "ExecuteTime": {
     "end_time": "2021-02-03T19:11:07.404124Z",
     "start_time": "2021-02-03T19:11:07.241668Z"
    }
   },
   "outputs": [
    {
     "data": {
      "text/plain": [
       "[<matplotlib.lines.Line2D at 0x1a101d08070>]"
      ]
     },
     "execution_count": 312,
     "metadata": {},
     "output_type": "execute_result"
    },
    {
     "data": {
      "image/png": "[encoded data removed]",
      "text/plain": [
       "<Figure size 432x288 with 1 Axes>"
      ]
     },
     "metadata": {
      "needs_background": "light"
     },
     "output_type": "display_data"
    }
   ],
   "source": [
    "plt.scatter(x, z)\n",
    "plt.plot(x, np.dot(X, theta))"
   ]
  },
  {
   "cell_type": "markdown",
   "metadata": {
    "deletable": false,
    "editable": false,
    "nbgrader": {
     "cell_type": "markdown",
     "checksum": "3910d00048a6234861ed28018c3e1d07",
     "grade": false,
     "grade_id": "cell-d7c6ca493b562c4a",
     "locked": true,
     "schema_version": 3,
     "solution": false,
     "task": false
    }
   },
   "source": [
    "## 1.10 Discuss on what you observe"
   ]
  },
  {
   "cell_type": "markdown",
   "metadata": {
    "deletable": false,
    "nbgrader": {
     "cell_type": "markdown",
     "checksum": "5095b2d9b10fe73c87b3fbd16ffe6e5a",
     "grade": true,
     "grade_id": "cell-f719531c23224f12",
     "locked": false,
     "points": 5,
     "schema_version": 3,
     "solution": true,
     "task": false
    }
   },
   "source": [
    "YOUR ANSWER HERE"
   ]
  },
  {
   "cell_type": "markdown",
   "metadata": {
    "deletable": false,
    "editable": false,
    "nbgrader": {
     "cell_type": "markdown",
     "checksum": "712c0d72b6732c8a74ca1b4379e170b5",
     "grade": false,
     "grade_id": "cell-4af8c74ce135c679",
     "locked": true,
     "schema_version": 3,
     "solution": false,
     "task": false
    }
   },
   "source": [
    "# 2 Least-Squares - Multivariate Linear Regression"
   ]
  },
  {
   "cell_type": "markdown",
   "metadata": {
    "deletable": false,
    "editable": false,
    "nbgrader": {
     "cell_type": "markdown",
     "checksum": "47bf628344ac4723986b62519322da08",
     "grade": false,
     "grade_id": "cell-1747d91596bb14aa",
     "locked": true,
     "schema_version": 3,
     "solution": false,
     "task": false
    }
   },
   "source": [
    "After the first lab session, I believe that you all get to know the Boston Housing Dataset. Thus, I do not need to give you any explaination about the data. The dataset can be downloaded at https://bit.ly/2NBaO7e."
   ]
  },
  {
   "cell_type": "markdown",
   "metadata": {
    "deletable": false,
    "editable": false,
    "nbgrader": {
     "cell_type": "markdown",
     "checksum": "5550e779d06bae4ab67d9055dbf1fcd1",
     "grade": false,
     "grade_id": "cell-e1b5362491558294",
     "locked": true,
     "schema_version": 3,
     "solution": false,
     "task": false
    }
   },
   "source": [
    "## 2.1 Import dataset from `regression-datasets-housing.csv`"
   ]
  },
  {
   "cell_type": "code",
   "execution_count": 313,
   "metadata": {
    "ExecuteTime": {
     "end_time": "2021-02-03T19:11:07.415229Z",
     "start_time": "2021-02-03T19:11:07.405973Z"
    },
    "deletable": false,
    "nbgrader": {
     "cell_type": "code",
     "checksum": "0e37a551b6883b8c20eba55ae84e4ae8",
     "grade": false,
     "grade_id": "cell-2e6f82253ba1f4c0",
     "locked": false,
     "schema_version": 3,
     "solution": true,
     "task": false
    }
   },
   "outputs": [],
   "source": [
    "# YOUR CODE HERE\n",
    "data = np.genfromtxt('dataset/regression-datasets-housing.csv', delimiter=',')\n",
    "X = data[:, 0:13]\n",
    "y = data[:, 13].reshape(506, 1)"
   ]
  },
  {
   "cell_type": "code",
   "execution_count": 314,
   "metadata": {
    "deletable": false,
    "editable": false,
    "nbgrader": {
     "cell_type": "code",
     "checksum": "6895bcc40a45b004adf9a2fcd3110b4c",
     "grade": false,
     "grade_id": "cell-6fdd2e85a6258fd4",
     "locked": true,
     "schema_version": 3,
     "solution": false,
     "task": false
    }
   },
   "outputs": [
    {
     "data": {
      "image/png": "[encoded data removed]",
      "text/plain": [
       "<Figure size 432x288 with 1 Axes>"
      ]
     },
     "metadata": {
      "needs_background": "light"
     },
     "output_type": "display_data"
    }
   ],
   "source": [
    "assert X.shape in [(506, 13)]\n",
    "assert y.shape in [(506, 1)]\n",
    "\n",
    "plt.scatter(np.arange(X.shape[0]), y);"
   ]
  },
  {
   "cell_type": "markdown",
   "metadata": {
    "deletable": false,
    "editable": false,
    "nbgrader": {
     "cell_type": "markdown",
     "checksum": "b211f1e988c6e88f35b60df6e86ecd06",
     "grade": false,
     "grade_id": "cell-83963e778a3f1e89",
     "locked": true,
     "schema_version": 3,
     "solution": false,
     "task": false
    }
   },
   "source": [
    "## 2.2 Find theta by using Gradient Descent Algorithm"
   ]
  },
  {
   "cell_type": "code",
   "execution_count": 315,
   "metadata": {},
   "outputs": [],
   "source": [
    "# normalization\n",
    "X_norm = (X - X.mean(axis=0)) / X.std(axis=0)\n",
    "y_norm = (y - y.mean(axis=0)) / y.std(axis=0)\n",
    "\n",
    "X_norm = np.hstack((np.ones((X_norm.shape[0], 1)), X_norm))"
   ]
  },
  {
   "cell_type": "code",
   "execution_count": 316,
   "metadata": {
    "ExecuteTime": {
     "end_time": "2021-02-03T19:11:07.575761Z",
     "start_time": "2021-02-03T19:11:07.571194Z"
    },
    "deletable": false,
    "nbgrader": {
     "cell_type": "code",
     "checksum": "3d1d9c43015837a66e3f80633a8c0da9",
     "grade": false,
     "grade_id": "cell-61ddc17e93176874",
     "locked": false,
     "schema_version": 3,
     "solution": true,
     "task": false
    }
   },
   "outputs": [],
   "source": [
    "def computeCostFunction(X, y, theta):\n",
    "    y_pred = np.dot(X, theta)\n",
    "    error = y_pred - y\n",
    "    cost = 1/(2*X.shape[0]) * np.sum(np.square(error))\n",
    "    return cost\n",
    "\n",
    "def gradientDescent(X, y, theta, alpha, n_iteration):\n",
    "    theta_history = []\n",
    "    j_history = []\n",
    "    m, n = X.shape\n",
    "\n",
    "    for i in range(n_iteration):\n",
    "        y_pred = np.dot(X, theta)\n",
    "        error = y_pred - y\n",
    "        loss = computeCostFunction(X, y, theta)\n",
    "\n",
    "        weight_gradient = X.T.dot(error) * (1/m)        \n",
    "        theta = theta - alpha * weight_gradient\n",
    "        print(f\"iteration: {i+1} , loss: {loss}\")\n",
    "\n",
    "        theta_history.append(theta)\n",
    "        j_history.append(loss)\n",
    "\n",
    "    return theta_history, j_history"
   ]
  },
  {
   "cell_type": "code",
   "execution_count": 317,
   "metadata": {
    "ExecuteTime": {
     "end_time": "2021-02-03T19:11:07.583497Z",
     "start_time": "2021-02-03T19:11:07.577948Z"
    },
    "deletable": false,
    "nbgrader": {
     "cell_type": "code",
     "checksum": "40cf4e941dec68d1c977365420af185c",
     "grade": false,
     "grade_id": "cell-45d13cf6302df92e",
     "locked": false,
     "schema_version": 3,
     "solution": true,
     "task": false
    }
   },
   "outputs": [
    {
     "name": "stdout",
     "output_type": "stream",
     "text": [
      "iteration: 1 , loss: 0.49999999999999983\n",
      "iteration: 2 , loss: 0.3035821215795995\n",
      "iteration: 3 , loss: 0.25102768982388235\n",
      "iteration: 4 , loss: 0.2251307318367877\n",
      "iteration: 5 , loss: 0.20721613184911156\n",
      "iteration: 6 , loss: 0.19357299884395807\n",
      "iteration: 7 , loss: 0.18293911871226212\n",
      "iteration: 8 , loss: 0.17458413306364398\n",
      "iteration: 9 , loss: 0.16798404672336686\n",
      "iteration: 10 , loss: 0.16274243180117354\n",
      "iteration: 11 , loss: 0.15855569700955313\n",
      "iteration: 12 , loss: 0.15519045602621953\n",
      "iteration: 13 , loss: 0.15246688641263387\n",
      "iteration: 14 , loss: 0.15024615273751044\n",
      "iteration: 15 , loss: 0.14842083952600962\n",
      "iteration: 16 , loss: 0.14690765708767767\n",
      "iteration: 17 , loss: 0.1456418718863564\n",
      "iteration: 18 , loss: 0.14457304778774807\n",
      "iteration: 19 , loss: 0.14366178501901375\n",
      "iteration: 20 , loss: 0.14287721940589215\n",
      "iteration: 21 , loss: 0.14219510167078825\n",
      "iteration: 22 , loss: 0.14159631985926915\n",
      "iteration: 23 , loss: 0.14106576073777508\n",
      "iteration: 24 , loss: 0.14059143084703513\n",
      "iteration: 25 , loss: 0.1401637767423738\n",
      "iteration: 26 , loss: 0.13977515826483158\n",
      "iteration: 27 , loss: 0.1394194395677475\n",
      "iteration: 28 , loss: 0.1390916709039365\n",
      "iteration: 29 , loss: 0.13878784048720308\n",
      "iteration: 30 , loss: 0.13850468055374318\n",
      "iteration: 31 , loss: 0.13823951542349977\n",
      "iteration: 32 , loss: 0.13799014217103342\n",
      "iteration: 33 , loss: 0.13775473666633853\n",
      "iteration: 34 , loss: 0.13753177939488825\n",
      "iteration: 35 , loss: 0.13731999673195988\n",
      "iteration: 36 , loss: 0.13711831431939028\n",
      "iteration: 37 , loss: 0.1369258199421438\n",
      "iteration: 38 , loss: 0.13674173387985455\n",
      "iteration: 39 , loss: 0.13656538515479474\n",
      "iteration: 40 , loss: 0.13639619244303997\n",
      "iteration: 41 , loss: 0.1362336486832673\n",
      "iteration: 42 , loss: 0.13607730862548018\n",
      "iteration: 43 , loss: 0.13592677872368134\n",
      "iteration: 44 , loss: 0.13578170890259536\n",
      "iteration: 45 , loss: 0.13564178582704345\n",
      "iteration: 46 , loss: 0.13550672737968164\n",
      "iteration: 47 , loss: 0.13537627811332026\n",
      "iteration: 48 , loss: 0.13525020549161745\n",
      "iteration: 49 , loss: 0.13512829676944502\n",
      "iteration: 50 , loss: 0.13501035639385117\n",
      "iteration: 51 , loss: 0.13489620383001452\n",
      "iteration: 52 , loss: 0.13478567173521525\n",
      "iteration: 53 , loss: 0.13467860441867918\n",
      "iteration: 54 , loss: 0.13457485653698642\n",
      "iteration: 55 , loss: 0.13447429198420469\n",
      "iteration: 56 , loss: 0.13437678294350164\n",
      "iteration: 57 , loss: 0.13428220907309948\n",
      "iteration: 58 , loss: 0.1341904568043587\n",
      "iteration: 59 , loss: 0.13410141873376083\n",
      "iteration: 60 , loss: 0.13401499309378487\n",
      "iteration: 61 , loss: 0.13393108329029627\n",
      "iteration: 62 , loss: 0.13384959749620143\n",
      "iteration: 63 , loss: 0.1337704482928673\n",
      "iteration: 64 , loss: 0.13369355235223263\n",
      "iteration: 65 , loss: 0.13361883015371054\n",
      "iteration: 66 , loss: 0.1335462057309474\n",
      "iteration: 67 , loss: 0.13347560644429768\n",
      "iteration: 68 , loss: 0.13340696277553338\n",
      "iteration: 69 , loss: 0.1333402081418508\n",
      "iteration: 70 , loss: 0.1332752787266921\n",
      "iteration: 71 , loss: 0.13321211332527358\n",
      "iteration: 72 , loss: 0.1331506532030302\n",
      "iteration: 73 , loss: 0.1330908419654467\n",
      "iteration: 74 , loss: 0.13303262543796784\n",
      "iteration: 75 , loss: 0.1329759515548646\n",
      "iteration: 76 , loss: 0.13292077025609073\n",
      "iteration: 77 , loss: 0.13286703339129388\n",
      "iteration: 78 , loss: 0.13281469463025916\n",
      "iteration: 79 , loss: 0.13276370937915588\n",
      "iteration: 80 , loss: 0.13271403470203938\n",
      "iteration: 81 , loss: 0.1326656292471286\n",
      "iteration: 82 , loss: 0.13261845317743756\n",
      "iteration: 83 , loss: 0.1325724681053906\n",
      "iteration: 84 , loss: 0.1325276370310922\n",
      "iteration: 85 , loss: 0.13248392428396114\n",
      "iteration: 86 , loss: 0.13244129546747005\n",
      "iteration: 87 , loss: 0.1323997174067583\n",
      "iteration: 88 , loss: 0.13235915809891144\n",
      "iteration: 89 , loss: 0.13231958666572077\n",
      "iteration: 90 , loss: 0.132280973308754\n",
      "iteration: 91 , loss: 0.13224328926658618\n",
      "iteration: 92 , loss: 0.13220650677405132\n",
      "iteration: 93 , loss: 0.1321705990233896\n",
      "iteration: 94 , loss: 0.13213554012717527\n",
      "iteration: 95 , loss: 0.13210130508291917\n",
      "iteration: 96 , loss: 0.13206786973925044\n",
      "iteration: 97 , loss: 0.13203521076358735\n",
      "iteration: 98 , loss: 0.13200330561121532\n",
      "iteration: 99 , loss: 0.13197213249569673\n",
      "iteration: 100 , loss: 0.13194167036054102\n",
      "iteration: 101 , loss: 0.1319118988520705\n",
      "iteration: 102 , loss: 0.13188279829342028\n",
      "iteration: 103 , loss: 0.13185434965961554\n",
      "iteration: 104 , loss: 0.1318265345536732\n",
      "iteration: 105 , loss: 0.13179933518367812\n",
      "iteration: 106 , loss: 0.13177273434078654\n",
      "iteration: 107 , loss: 0.13174671537811414\n",
      "iteration: 108 , loss: 0.1317212621904663\n",
      "iteration: 109 , loss: 0.1316963591948726\n",
      "iteration: 110 , loss: 0.13167199131188848\n",
      "iteration: 111 , loss: 0.13164814394762944\n",
      "iteration: 112 , loss: 0.13162480297650614\n",
      "iteration: 113 , loss: 0.13160195472462793\n",
      "iteration: 114 , loss: 0.13157958595384706\n",
      "iteration: 115 , loss: 0.13155768384641495\n",
      "iteration: 116 , loss: 0.13153623599022485\n",
      "iteration: 117 , loss: 0.1315152303646156\n",
      "iteration: 118 , loss: 0.13149465532671287\n",
      "iteration: 119 , loss: 0.13147449959828567\n",
      "iteration: 120 , loss: 0.13145475225309627\n",
      "iteration: 121 , loss: 0.1314354027047235\n",
      "iteration: 122 , loss: 0.13141644069484013\n",
      "iteration: 123 , loss: 0.13139785628192505\n",
      "iteration: 124 , loss: 0.131379639830394\n",
      "iteration: 125 , loss: 0.13136178200013074\n",
      "iteration: 126 , loss: 0.13134427373640334\n",
      "iteration: 127 , loss: 0.1313271062601497\n",
      "iteration: 128 , loss: 0.1313102710586189\n",
      "iteration: 129 , loss: 0.13129375987635233\n",
      "iteration: 130 , loss: 0.13127756470649354\n",
      "iteration: 131 , loss: 0.13126167778241213\n",
      "iteration: 132 , loss: 0.13124609156963085\n",
      "iteration: 133 , loss: 0.13123079875804305\n",
      "iteration: 134 , loss: 0.13121579225441013\n",
      "iteration: 135 , loss: 0.13120106517512792\n",
      "iteration: 136 , loss: 0.13118661083925165\n",
      "iteration: 137 , loss: 0.1311724227617698\n",
      "iteration: 138 , loss: 0.13115849464711737\n",
      "iteration: 139 , loss: 0.13114482038291936\n",
      "iteration: 140 , loss: 0.13113139403395604\n",
      "iteration: 141 , loss: 0.1311182098363415\n",
      "iteration: 142 , loss: 0.1311052621919076\n",
      "iteration: 143 , loss: 0.1310925456627854\n",
      "iteration: 144 , loss: 0.13108005496617706\n",
      "iteration: 145 , loss: 0.13106778496931112\n",
      "iteration: 146 , loss: 0.13105573068457407\n",
      "iteration: 147 , loss: 0.1310438872648118\n",
      "iteration: 148 , loss: 0.131032249998795\n",
      "iteration: 149 , loss: 0.13102081430684218\n",
      "iteration: 150 , loss: 0.13100957573659436\n",
      "iteration: 151 , loss: 0.13099852995893643\n",
      "iteration: 152 , loss: 0.13098767276405948\n",
      "iteration: 153 , loss: 0.13097700005765886\n",
      "iteration: 154 , loss: 0.1309665078572634\n",
      "iteration: 155 , loss: 0.13095619228869057\n",
      "iteration: 156 , loss: 0.13094604958262365\n",
      "iteration: 157 , loss: 0.13093607607130595\n",
      "iteration: 158 , loss: 0.130926268185348\n",
      "iteration: 159 , loss: 0.13091662245064403\n",
      "iteration: 160 , loss: 0.13090713548539315\n",
      "iteration: 161 , loss: 0.13089780399722212\n",
      "iteration: 162 , loss: 0.1308886247804055\n",
      "iteration: 163 , loss: 0.13087959471318059\n",
      "iteration: 164 , loss: 0.13087071075515233\n",
      "iteration: 165 , loss: 0.1308619699447868\n",
      "iteration: 166 , loss: 0.13085336939698833\n",
      "iteration: 167 , loss: 0.13084490630075887\n",
      "iteration: 168 , loss: 0.13083657791693548\n",
      "iteration: 169 , loss: 0.13082838157600377\n",
      "iteration: 170 , loss: 0.1308203146759849\n",
      "iteration: 171 , loss: 0.13081237468039245\n",
      "iteration: 172 , loss: 0.1308045591162581\n",
      "iteration: 173 , loss: 0.13079686557222275\n",
      "iteration: 174 , loss: 0.13078929169669087\n",
      "iteration: 175 , loss: 0.13078183519604647\n",
      "iteration: 176 , loss: 0.13077449383292766\n",
      "iteration: 177 , loss: 0.13076726542455866\n",
      "iteration: 178 , loss: 0.13076014784113643\n",
      "iteration: 179 , loss: 0.13075313900427066\n",
      "iteration: 180 , loss: 0.1307462368854748\n",
      "iteration: 181 , loss: 0.1307394395047067\n",
      "iteration: 182 , loss: 0.1307327449289571\n",
      "iteration: 183 , loss: 0.13072615127088377\n",
      "iteration: 184 , loss: 0.13071965668749078\n",
      "iteration: 185 , loss: 0.13071325937885014\n",
      "iteration: 186 , loss: 0.1307069575868654\n",
      "iteration: 187 , loss: 0.1307007495940749\n",
      "iteration: 188 , loss: 0.13069463372249412\n",
      "iteration: 189 , loss: 0.13068860833249485\n",
      "iteration: 190 , loss: 0.13068267182172105\n",
      "iteration: 191 , loss: 0.13067682262403887\n",
      "iteration: 192 , loss: 0.130671059208521\n",
      "iteration: 193 , loss: 0.13066538007846282\n",
      "iteration: 194 , loss: 0.13065978377043033\n",
      "iteration: 195 , loss: 0.13065426885333847\n",
      "iteration: 196 , loss: 0.13064883392755852\n",
      "iteration: 197 , loss: 0.1306434776240535\n",
      "iteration: 198 , loss: 0.1306381986035417\n",
      "iteration: 199 , loss: 0.1306329955556856\n",
      "iteration: 200 , loss: 0.13062786719830732\n",
      "iteration: 201 , loss: 0.1306228122766276\n",
      "iteration: 202 , loss: 0.13061782956252962\n",
      "iteration: 203 , loss: 0.13061291785384513\n",
      "iteration: 204 , loss: 0.13060807597366308\n",
      "iteration: 205 , loss: 0.13060330276965978\n",
      "iteration: 206 , loss: 0.13059859711344954\n",
      "iteration: 207 , loss: 0.13059395789995562\n",
      "iteration: 208 , loss: 0.1305893840468006\n",
      "iteration: 209 , loss: 0.1305848744937152\n",
      "iteration: 210 , loss: 0.1305804282019656\n",
      "iteration: 211 , loss: 0.1305760441537979\n",
      "iteration: 212 , loss: 0.13057172135189962\n",
      "iteration: 213 , loss: 0.13056745881887788\n",
      "iteration: 214 , loss: 0.13056325559675294\n",
      "iteration: 215 , loss: 0.13055911074646714\n",
      "iteration: 216 , loss: 0.13055502334740893\n",
      "iteration: 217 , loss: 0.1305509924969509\n",
      "iteration: 218 , loss: 0.13054701731000165\n",
      "iteration: 219 , loss: 0.13054309691857113\n",
      "iteration: 220 , loss: 0.13053923047134905\n",
      "iteration: 221 , loss: 0.13053541713329528\n",
      "iteration: 222 , loss: 0.1305316560852431\n",
      "iteration: 223 , loss: 0.13052794652351352\n",
      "iteration: 224 , loss: 0.13052428765954113\n",
      "iteration: 225 , loss: 0.130520678719511\n",
      "iteration: 226 , loss: 0.13051711894400617\n",
      "iteration: 227 , loss: 0.130513607587665\n",
      "iteration: 228 , loss: 0.13051014391884921\n",
      "iteration: 229 , loss: 0.13050672721932058\n",
      "iteration: 230 , loss: 0.13050335678392772\n",
      "iteration: 231 , loss: 0.13050003192030143\n",
      "iteration: 232 , loss: 0.13049675194855873\n",
      "iteration: 233 , loss: 0.1304935162010155\n",
      "iteration: 234 , loss: 0.13049032402190733\n",
      "iteration: 235 , loss: 0.13048717476711766\n",
      "iteration: 236 , loss: 0.1304840678039145\n",
      "iteration: 237 , loss: 0.13048100251069367\n",
      "iteration: 238 , loss: 0.13047797827672977\n",
      "iteration: 239 , loss: 0.13047499450193378\n",
      "iteration: 240 , loss: 0.13047205059661743\n",
      "iteration: 241 , loss: 0.13046914598126413\n",
      "iteration: 242 , loss: 0.13046628008630615\n",
      "iteration: 243 , loss: 0.13046345235190784\n",
      "iteration: 244 , loss: 0.13046066222775496\n",
      "iteration: 245 , loss: 0.13045790917284925\n",
      "iteration: 246 , loss: 0.13045519265530922\n",
      "iteration: 247 , loss: 0.13045251215217568\n",
      "iteration: 248 , loss: 0.1304498671492229\n",
      "iteration: 249 , loss: 0.1304472571407746\n",
      "iteration: 250 , loss: 0.13044468162952463\n",
      "iteration: 251 , loss: 0.1304421401263629\n",
      "iteration: 252 , loss: 0.1304396321502056\n",
      "iteration: 253 , loss: 0.13043715722782953\n",
      "iteration: 254 , loss: 0.13043471489371145\n",
      "iteration: 255 , loss: 0.13043230468987102\n",
      "iteration: 256 , loss: 0.13042992616571805\n",
      "iteration: 257 , loss: 0.13042757887790354\n",
      "iteration: 258 , loss: 0.13042526239017474\n",
      "iteration: 259 , loss: 0.13042297627323363\n",
      "iteration: 260 , loss: 0.13042072010459924\n",
      "iteration: 261 , loss: 0.13041849346847323\n",
      "iteration: 262 , loss: 0.13041629595560883\n",
      "iteration: 263 , loss: 0.13041412716318346\n",
      "iteration: 264 , loss: 0.13041198669467383\n",
      "iteration: 265 , loss: 0.13040987415973468\n",
      "iteration: 266 , loss: 0.13040778917408033\n",
      "iteration: 267 , loss: 0.13040573135936895\n",
      "iteration: 268 , loss: 0.13040370034309007\n",
      "iteration: 269 , loss: 0.1304016957584542\n",
      "iteration: 270 , loss: 0.13039971724428576\n",
      "iteration: 271 , loss: 0.13039776444491807\n",
      "iteration: 272 , loss: 0.13039583701009108\n",
      "iteration: 273 , loss: 0.13039393459485157\n",
      "iteration: 274 , loss: 0.13039205685945546\n",
      "iteration: 275 , loss: 0.1303902034692728\n",
      "iteration: 276 , loss: 0.1303883740946943\n",
      "iteration: 277 , loss: 0.13038656841104118\n",
      "iteration: 278 , loss: 0.13038478609847556\n",
      "iteration: 279 , loss: 0.13038302684191438\n",
      "iteration: 280 , loss: 0.13038129033094428\n",
      "iteration: 281 , loss: 0.1303795762597391\n",
      "iteration: 282 , loss: 0.13037788432697844\n",
      "iteration: 283 , loss: 0.13037621423576906\n",
      "iteration: 284 , loss: 0.1303745656935671\n",
      "iteration: 285 , loss: 0.13037293841210254\n",
      "iteration: 286 , loss: 0.13037133210730548\n",
      "iteration: 287 , loss: 0.13036974649923333\n",
      "iteration: 288 , loss: 0.13036818131200037\n",
      "iteration: 289 , loss: 0.1303666362737084\n",
      "iteration: 290 , loss: 0.13036511111637897\n",
      "iteration: 291 , loss: 0.13036360557588722\n",
      "iteration: 292 , loss: 0.13036211939189685\n",
      "iteration: 293 , loss: 0.13036065230779667\n",
      "iteration: 294 , loss: 0.1303592040706386\n",
      "iteration: 295 , loss: 0.13035777443107666\n",
      "iteration: 296 , loss: 0.1303563631433074\n",
      "iteration: 297 , loss: 0.13035496996501172\n",
      "iteration: 298 , loss: 0.13035359465729757\n",
      "iteration: 299 , loss: 0.1303522369846442\n",
      "iteration: 300 , loss: 0.1303508967148471\n",
      "iteration: 301 , loss: 0.13034957361896446\n",
      "iteration: 302 , loss: 0.13034826747126457\n",
      "iteration: 303 , loss: 0.13034697804917428\n",
      "iteration: 304 , loss: 0.13034570513322838\n",
      "iteration: 305 , loss: 0.13034444850702018\n",
      "iteration: 306 , loss: 0.1303432079571529\n",
      "iteration: 307 , loss: 0.1303419832731922\n",
      "iteration: 308 , loss: 0.13034077424761947\n",
      "iteration: 309 , loss: 0.130339580675786\n",
      "iteration: 310 , loss: 0.13033840235586822\n",
      "iteration: 311 , loss: 0.13033723908882386\n",
      "iteration: 312 , loss: 0.13033609067834837\n",
      "iteration: 313 , loss: 0.13033495693083308\n",
      "iteration: 314 , loss: 0.13033383765532336\n",
      "iteration: 315 , loss: 0.13033273266347797\n",
      "iteration: 316 , loss: 0.13033164176952908\n",
      "iteration: 317 , loss: 0.13033056479024308\n",
      "iteration: 318 , loss: 0.13032950154488193\n",
      "iteration: 319 , loss: 0.1303284518551656\n",
      "iteration: 320 , loss: 0.13032741554523464\n",
      "iteration: 321 , loss: 0.13032639244161412\n",
      "iteration: 322 , loss: 0.13032538237317756\n",
      "iteration: 323 , loss: 0.13032438517111206\n",
      "iteration: 324 , loss: 0.13032340066888354\n",
      "iteration: 325 , loss: 0.1303224287022032\n",
      "iteration: 326 , loss: 0.13032146910899395\n",
      "iteration: 327 , loss: 0.13032052172935787\n",
      "iteration: 328 , loss: 0.1303195864055443\n",
      "iteration: 329 , loss: 0.1303186629819178\n",
      "iteration: 330 , loss: 0.1303177513049278\n",
      "iteration: 331 , loss: 0.1303168512230775\n",
      "iteration: 332 , loss: 0.13031596258689462\n",
      "iteration: 333 , loss: 0.1303150852489014\n",
      "iteration: 334 , loss: 0.13031421906358603\n",
      "iteration: 335 , loss: 0.13031336388737416\n",
      "iteration: 336 , loss: 0.130312519578601\n",
      "iteration: 337 , loss: 0.13031168599748383\n",
      "iteration: 338 , loss: 0.13031086300609498\n",
      "iteration: 339 , loss: 0.13031005046833538\n",
      "iteration: 340 , loss: 0.13030924824990844\n",
      "iteration: 341 , loss: 0.13030845621829423\n",
      "iteration: 342 , loss: 0.13030767424272446\n",
      "iteration: 343 , loss: 0.13030690219415753\n",
      "iteration: 344 , loss: 0.13030613994525417\n",
      "iteration: 345 , loss: 0.13030538737035327\n",
      "iteration: 346 , loss: 0.1303046443454486\n",
      "iteration: 347 , loss: 0.1303039107481651\n",
      "iteration: 348 , loss: 0.13030318645773636\n",
      "iteration: 349 , loss: 0.13030247135498196\n",
      "iteration: 350 , loss: 0.13030176532228535\n",
      "iteration: 351 , loss: 0.13030106824357207\n",
      "iteration: 352 , loss: 0.13030038000428834\n",
      "iteration: 353 , loss: 0.13029970049137982\n",
      "iteration: 354 , loss: 0.13029902959327094\n",
      "iteration: 355 , loss: 0.13029836719984447\n",
      "iteration: 356 , loss: 0.13029771320242142\n",
      "iteration: 357 , loss: 0.13029706749374095\n",
      "iteration: 358 , loss: 0.1302964299679412\n",
      "iteration: 359 , loss: 0.13029580052053996\n",
      "iteration: 360 , loss: 0.13029517904841562\n",
      "iteration: 361 , loss: 0.13029456544978882\n",
      "iteration: 362 , loss: 0.13029395962420384\n",
      "iteration: 363 , loss: 0.13029336147251067\n",
      "iteration: 364 , loss: 0.13029277089684727\n",
      "iteration: 365 , loss: 0.13029218780062193\n",
      "iteration: 366 , loss: 0.13029161208849624\n",
      "iteration: 367 , loss: 0.13029104366636773\n",
      "iteration: 368 , loss: 0.13029048244135347\n",
      "iteration: 369 , loss: 0.13028992832177352\n",
      "iteration: 370 , loss: 0.13028938121713457\n",
      "iteration: 371 , loss: 0.13028884103811397\n",
      "iteration: 372 , loss: 0.1302883076965441\n",
      "iteration: 373 , loss: 0.13028778110539668\n",
      "iteration: 374 , loss: 0.13028726117876754\n",
      "iteration: 375 , loss: 0.1302867478318616\n",
      "iteration: 376 , loss: 0.13028624098097785\n",
      "iteration: 377 , loss: 0.130285740543495\n",
      "iteration: 378 , loss: 0.13028524643785666\n",
      "iteration: 379 , loss: 0.13028475858355745\n",
      "iteration: 380 , loss: 0.1302842769011289\n",
      "iteration: 381 , loss: 0.13028380131212558\n",
      "iteration: 382 , loss: 0.1302833317391115\n",
      "iteration: 383 , loss: 0.13028286810564685\n",
      "iteration: 384 , loss: 0.13028241033627458\n",
      "iteration: 385 , loss: 0.13028195835650747\n",
      "iteration: 386 , loss: 0.1302815120928152\n",
      "iteration: 387 , loss: 0.1302810714726119\n",
      "iteration: 388 , loss: 0.1302806364242434\n",
      "iteration: 389 , loss: 0.1302802068769751\n",
      "iteration: 390 , loss: 0.13027978276097982\n",
      "iteration: 391 , loss: 0.13027936400732573\n",
      "iteration: 392 , loss: 0.13027895054796473\n",
      "iteration: 393 , loss: 0.13027854231572067\n",
      "iteration: 394 , loss: 0.13027813924427797\n",
      "iteration: 395 , loss: 0.13027774126817027\n",
      "iteration: 396 , loss: 0.13027734832276935\n",
      "iteration: 397 , loss: 0.13027696034427408\n",
      "iteration: 398 , loss: 0.13027657726969966\n",
      "iteration: 399 , loss: 0.13027619903686677\n",
      "iteration: 400 , loss: 0.13027582558439127\n",
      "iteration: 401 , loss: 0.13027545685167358\n",
      "iteration: 402 , loss: 0.1302750927788886\n",
      "iteration: 403 , loss: 0.1302747333069755\n",
      "iteration: 404 , loss: 0.13027437837762787\n",
      "iteration: 405 , loss: 0.13027402793328363\n",
      "iteration: 406 , loss: 0.1302736819171157\n",
      "iteration: 407 , loss: 0.1302733402730221\n",
      "iteration: 408 , loss: 0.13027300294561678\n",
      "iteration: 409 , loss: 0.1302726698802201\n",
      "iteration: 410 , loss: 0.1302723410228498\n",
      "iteration: 411 , loss: 0.13027201632021185\n",
      "iteration: 412 , loss: 0.13027169571969174\n",
      "iteration: 413 , loss: 0.1302713791693452\n",
      "iteration: 414 , loss: 0.1302710666178901\n",
      "iteration: 415 , loss: 0.13027075801469737\n",
      "iteration: 416 , loss: 0.13027045330978287\n",
      "iteration: 417 , loss: 0.13027015245379894\n",
      "iteration: 418 , loss: 0.1302698553980261\n",
      "iteration: 419 , loss: 0.13026956209436508\n",
      "iteration: 420 , loss: 0.1302692724953287\n",
      "iteration: 421 , loss: 0.13026898655403388\n",
      "iteration: 422 , loss: 0.13026870422419415\n",
      "iteration: 423 , loss: 0.1302684254601117\n",
      "iteration: 424 , loss: 0.1302681502166697\n",
      "iteration: 425 , loss: 0.13026787844932516\n",
      "iteration: 426 , loss: 0.13026761011410137\n",
      "iteration: 427 , loss: 0.13026734516758035\n",
      "iteration: 428 , loss: 0.13026708356689612\n",
      "iteration: 429 , loss: 0.13026682526972727\n",
      "iteration: 430 , loss: 0.13026657023429006\n",
      "iteration: 431 , loss: 0.13026631841933162\n",
      "iteration: 432 , loss: 0.13026606978412286\n",
      "iteration: 433 , loss: 0.130265824288452\n",
      "iteration: 434 , loss: 0.13026558189261783\n",
      "iteration: 435 , loss: 0.1302653425574231\n",
      "iteration: 436 , loss: 0.1302651062441682\n",
      "iteration: 437 , loss: 0.13026487291464464\n",
      "iteration: 438 , loss: 0.13026464253112877\n",
      "iteration: 439 , loss: 0.13026441505637576\n",
      "iteration: 440 , loss: 0.1302641904536131\n",
      "iteration: 441 , loss: 0.13026396868653486\n",
      "iteration: 442 , loss: 0.13026374971929566\n",
      "iteration: 443 , loss: 0.13026353351650471\n",
      "iteration: 444 , loss: 0.13026332004321992\n",
      "iteration: 445 , loss: 0.1302631092649424\n",
      "iteration: 446 , loss: 0.1302629011476105\n",
      "iteration: 447 , loss: 0.13026269565759455\n",
      "iteration: 448 , loss: 0.130262492761691\n",
      "iteration: 449 , loss: 0.13026229242711723\n",
      "iteration: 450 , loss: 0.130262094621506\n",
      "iteration: 451 , loss: 0.13026189931290033\n",
      "iteration: 452 , loss: 0.1302617064697481\n",
      "iteration: 453 , loss: 0.1302615160608969\n",
      "iteration: 454 , loss: 0.13026132805558902\n",
      "iteration: 455 , loss: 0.13026114242345635\n",
      "iteration: 456 , loss: 0.13026095913451544\n",
      "iteration: 457 , loss: 0.13026077815916257\n",
      "iteration: 458 , loss: 0.13026059946816892\n",
      "iteration: 459 , loss: 0.13026042303267588\n",
      "iteration: 460 , loss: 0.13026024882419002\n",
      "iteration: 461 , loss: 0.1302600768145789\n",
      "iteration: 462 , loss: 0.13025990697606615\n",
      "iteration: 463 , loss: 0.130259739281227\n",
      "iteration: 464 , loss: 0.13025957370298383\n",
      "iteration: 465 , loss: 0.13025941021460175\n",
      "iteration: 466 , loss: 0.13025924878968423\n",
      "iteration: 467 , loss: 0.13025908940216888\n",
      "iteration: 468 , loss: 0.130258932026323\n",
      "iteration: 469 , loss: 0.13025877663673954\n",
      "iteration: 470 , loss: 0.130258623208333\n",
      "iteration: 471 , loss: 0.13025847171633517\n",
      "iteration: 472 , loss: 0.1302583221362912\n",
      "iteration: 473 , loss: 0.1302581744440557\n",
      "iteration: 474 , loss: 0.1302580286157886\n",
      "iteration: 475 , loss: 0.1302578846279515\n",
      "iteration: 476 , loss: 0.13025774245730354\n",
      "iteration: 477 , loss: 0.13025760208089804\n",
      "iteration: 478 , loss: 0.13025746347607836\n",
      "iteration: 479 , loss: 0.13025732662047443\n",
      "iteration: 480 , loss: 0.13025719149199913\n",
      "iteration: 481 , loss: 0.1302570580688445\n",
      "iteration: 482 , loss: 0.1302569263294784\n",
      "iteration: 483 , loss: 0.130256796252641\n",
      "iteration: 484 , loss: 0.1302566678173412\n",
      "iteration: 485 , loss: 0.13025654100285322\n",
      "iteration: 486 , loss: 0.13025641578871344\n",
      "iteration: 487 , loss: 0.13025629215471682\n",
      "iteration: 488 , loss: 0.13025617008091375\n",
      "iteration: 489 , loss: 0.13025604954760683\n",
      "iteration: 490 , loss: 0.13025593053534762\n",
      "iteration: 491 , loss: 0.13025581302493347\n",
      "iteration: 492 , loss: 0.13025569699740447\n",
      "iteration: 493 , loss: 0.13025558243404026\n",
      "iteration: 494 , loss: 0.13025546931635712\n",
      "iteration: 495 , loss: 0.130255357626105\n",
      "iteration: 496 , loss: 0.13025524734526425\n",
      "iteration: 497 , loss: 0.13025513845604322\n",
      "iteration: 498 , loss: 0.13025503094087476\n",
      "iteration: 499 , loss: 0.130254924782414\n",
      "iteration: 500 , loss: 0.13025481996353497\n",
      "iteration: 501 , loss: 0.13025471646732822\n",
      "iteration: 502 , loss: 0.13025461427709795\n",
      "iteration: 503 , loss: 0.13025451337635927\n",
      "iteration: 504 , loss: 0.13025441374883542\n",
      "iteration: 505 , loss: 0.13025431537845555\n",
      "iteration: 506 , loss: 0.13025421824935154\n",
      "iteration: 507 , loss: 0.13025412234585598\n",
      "iteration: 508 , loss: 0.1302540276524991\n",
      "iteration: 509 , loss: 0.13025393415400685\n",
      "iteration: 510 , loss: 0.1302538418352979\n",
      "iteration: 511 , loss: 0.1302537506814814\n",
      "iteration: 512 , loss: 0.13025366067785474\n",
      "iteration: 513 , loss: 0.13025357180990085\n",
      "iteration: 514 , loss: 0.13025348406328616\n",
      "iteration: 515 , loss: 0.13025339742385802\n",
      "iteration: 516 , loss: 0.1302533118776426\n",
      "iteration: 517 , loss: 0.13025322741084247\n",
      "iteration: 518 , loss: 0.13025314400983454\n",
      "iteration: 519 , loss: 0.13025306166116762\n",
      "iteration: 520 , loss: 0.13025298035156055\n",
      "iteration: 521 , loss: 0.13025290006789983\n",
      "iteration: 522 , loss: 0.13025282079723752\n",
      "iteration: 523 , loss: 0.1302527425267892\n",
      "iteration: 524 , loss: 0.13025266524393195\n",
      "iteration: 525 , loss: 0.1302525889362021\n",
      "iteration: 526 , loss: 0.13025251359129347\n",
      "iteration: 527 , loss: 0.13025243919705526\n",
      "iteration: 528 , loss: 0.13025236574149007\n",
      "iteration: 529 , loss: 0.13025229321275197\n",
      "iteration: 530 , loss: 0.1302522215991446\n",
      "iteration: 531 , loss: 0.13025215088911932\n",
      "iteration: 532 , loss: 0.13025208107127328\n",
      "iteration: 533 , loss: 0.13025201213434753\n",
      "iteration: 534 , loss: 0.13025194406722534\n",
      "iteration: 535 , loss: 0.1302518768589303\n",
      "iteration: 536 , loss: 0.13025181049862464\n",
      "iteration: 537 , loss: 0.13025174497560726\n",
      "iteration: 538 , loss: 0.13025168027931236\n",
      "iteration: 539 , loss: 0.13025161639930732\n",
      "iteration: 540 , loss: 0.1302515533252914\n",
      "iteration: 541 , loss: 0.1302514910470938\n",
      "iteration: 542 , loss: 0.13025142955467206\n",
      "iteration: 543 , loss: 0.13025136883811067\n",
      "iteration: 544 , loss: 0.1302513088876191\n",
      "iteration: 545 , loss: 0.13025124969353052\n",
      "iteration: 546 , loss: 0.13025119124630014\n",
      "iteration: 547 , loss: 0.1302511335365035\n",
      "iteration: 548 , loss: 0.13025107655483534\n",
      "iteration: 549 , loss: 0.13025102029210767\n",
      "iteration: 550 , loss: 0.1302509647392485\n",
      "iteration: 551 , loss: 0.13025090988730045\n",
      "iteration: 552 , loss: 0.1302508557274191\n",
      "iteration: 553 , loss: 0.1302508022508717\n",
      "iteration: 554 , loss: 0.1302507494490358\n",
      "iteration: 555 , loss: 0.1302506973133977\n",
      "iteration: 556 , loss: 0.13025064583555104\n",
      "iteration: 557 , loss: 0.13025059500719582\n",
      "iteration: 558 , loss: 0.13025054482013665\n",
      "iteration: 559 , loss: 0.13025049526628163\n",
      "iteration: 560 , loss: 0.13025044633764085\n",
      "iteration: 561 , loss: 0.13025039802632543\n",
      "iteration: 562 , loss: 0.13025035032454593\n",
      "iteration: 563 , loss: 0.13025030322461137\n",
      "iteration: 564 , loss: 0.13025025671892765\n",
      "iteration: 565 , loss: 0.13025021079999657\n",
      "iteration: 566 , loss: 0.1302501654604147\n",
      "iteration: 567 , loss: 0.13025012069287187\n",
      "iteration: 568 , loss: 0.1302500764901502\n",
      "iteration: 569 , loss: 0.13025003284512293\n",
      "iteration: 570 , loss: 0.13024998975075336\n",
      "iteration: 571 , loss: 0.1302499472000934\n",
      "iteration: 572 , loss: 0.13024990518628274\n",
      "iteration: 573 , loss: 0.13024986370254765\n",
      "iteration: 574 , loss: 0.13024982274219984\n",
      "iteration: 575 , loss: 0.13024978229863549\n",
      "iteration: 576 , loss: 0.13024974236533407\n",
      "iteration: 577 , loss: 0.13024970293585736\n",
      "iteration: 578 , loss: 0.13024966400384838\n",
      "iteration: 579 , loss: 0.13024962556303032\n",
      "iteration: 580 , loss: 0.13024958760720573\n",
      "iteration: 581 , loss: 0.13024955013025516\n",
      "iteration: 582 , loss: 0.13024951312613658\n",
      "iteration: 583 , loss: 0.1302494765888841\n",
      "iteration: 584 , loss: 0.13024944051260715\n",
      "iteration: 585 , loss: 0.13024940489148942\n",
      "iteration: 586 , loss: 0.1302493697197881\n",
      "iteration: 587 , loss: 0.13024933499183283\n",
      "iteration: 588 , loss: 0.13024930070202467\n",
      "iteration: 589 , loss: 0.1302492668448356\n",
      "iteration: 590 , loss: 0.13024923341480707\n",
      "iteration: 591 , loss: 0.13024920040654958\n",
      "iteration: 592 , loss: 0.13024916781474163\n",
      "iteration: 593 , loss: 0.1302491356341288\n",
      "iteration: 594 , loss: 0.130249103859523\n",
      "iteration: 595 , loss: 0.13024907248580164\n",
      "iteration: 596 , loss: 0.13024904150790675\n",
      "iteration: 597 , loss: 0.13024901092084418\n",
      "iteration: 598 , loss: 0.13024898071968277\n",
      "iteration: 599 , loss: 0.13024895089955366\n",
      "iteration: 600 , loss: 0.13024892145564934\n",
      "iteration: 601 , loss: 0.130248892383223\n",
      "iteration: 602 , loss: 0.13024886367758776\n",
      "iteration: 603 , loss: 0.1302488353341158\n",
      "iteration: 604 , loss: 0.1302488073482378\n",
      "iteration: 605 , loss: 0.130248779715442\n",
      "iteration: 606 , loss: 0.13024875243127362\n",
      "iteration: 607 , loss: 0.1302487254913341\n",
      "iteration: 608 , loss: 0.13024869889128027\n",
      "iteration: 609 , loss: 0.13024867262682396\n",
      "iteration: 610 , loss: 0.13024864669373096\n",
      "iteration: 611 , loss: 0.13024862108782054\n",
      "iteration: 612 , loss: 0.13024859580496465\n",
      "iteration: 613 , loss: 0.1302485708410874\n",
      "iteration: 614 , loss: 0.1302485461921644\n",
      "iteration: 615 , loss: 0.13024852185422184\n",
      "iteration: 616 , loss: 0.13024849782333622\n",
      "iteration: 617 , loss: 0.13024847409563348\n",
      "iteration: 618 , loss: 0.13024845066728843\n",
      "iteration: 619 , loss: 0.13024842753452417\n",
      "iteration: 620 , loss: 0.13024840469361149\n",
      "iteration: 621 , loss: 0.13024838214086815\n",
      "iteration: 622 , loss: 0.13024835987265843\n",
      "iteration: 623 , loss: 0.13024833788539245\n",
      "iteration: 624 , loss: 0.13024831617552562\n",
      "iteration: 625 , loss: 0.13024829473955818\n",
      "iteration: 626 , loss: 0.13024827357403437\n",
      "iteration: 627 , loss: 0.1302482526755421\n",
      "iteration: 628 , loss: 0.1302482320407124\n",
      "iteration: 629 , loss: 0.13024821166621867\n",
      "iteration: 630 , loss: 0.1302481915487764\n",
      "iteration: 631 , loss: 0.13024817168514247\n",
      "iteration: 632 , loss: 0.13024815207211468\n",
      "iteration: 633 , loss: 0.1302481327065313\n",
      "iteration: 634 , loss: 0.13024811358527036\n",
      "iteration: 635 , loss: 0.13024809470524937\n",
      "iteration: 636 , loss: 0.1302480760634247\n",
      "iteration: 637 , loss: 0.1302480576567912\n",
      "iteration: 638 , loss: 0.1302480394823815\n",
      "iteration: 639 , loss: 0.13024802153726578\n",
      "iteration: 640 , loss: 0.13024800381855117\n",
      "iteration: 641 , loss: 0.13024798632338128\n",
      "iteration: 642 , loss: 0.13024796904893574\n",
      "iteration: 643 , loss: 0.1302479519924297\n",
      "iteration: 644 , loss: 0.1302479351511137\n",
      "iteration: 645 , loss: 0.13024791852227263\n",
      "iteration: 646 , loss: 0.13024790210322595\n",
      "iteration: 647 , loss: 0.1302478858913267\n",
      "iteration: 648 , loss: 0.13024786988396142\n",
      "iteration: 649 , loss: 0.13024785407854966\n",
      "iteration: 650 , loss: 0.13024783847254345\n",
      "iteration: 651 , loss: 0.13024782306342703\n",
      "iteration: 652 , loss: 0.13024780784871634\n",
      "iteration: 653 , loss: 0.13024779282595864\n",
      "iteration: 654 , loss: 0.1302477779927322\n",
      "iteration: 655 , loss: 0.13024776334664584\n",
      "iteration: 656 , loss: 0.13024774888533847\n",
      "iteration: 657 , loss: 0.13024773460647887\n",
      "iteration: 658 , loss: 0.1302477205077652\n",
      "iteration: 659 , loss: 0.1302477065869247\n",
      "iteration: 660 , loss: 0.13024769284171317\n",
      "iteration: 661 , loss: 0.13024767926991487\n",
      "iteration: 662 , loss: 0.13024766586934192\n",
      "iteration: 663 , loss: 0.1302476526378341\n",
      "iteration: 664 , loss: 0.1302476395732584\n",
      "iteration: 665 , loss: 0.13024762667350878\n",
      "iteration: 666 , loss: 0.13024761393650566\n",
      "iteration: 667 , loss: 0.13024760136019586\n",
      "iteration: 668 , loss: 0.13024758894255195\n",
      "iteration: 669 , loss: 0.13024757668157216\n",
      "iteration: 670 , loss: 0.13024756457527997\n",
      "iteration: 671 , loss: 0.13024755262172374\n",
      "iteration: 672 , loss: 0.1302475408189766\n",
      "iteration: 673 , loss: 0.13024752916513577\n",
      "iteration: 674 , loss: 0.13024751765832268\n",
      "iteration: 675 , loss: 0.13024750629668236\n",
      "iteration: 676 , loss: 0.1302474950783832\n",
      "iteration: 677 , loss: 0.13024748400161693\n",
      "iteration: 678 , loss: 0.1302474730645977\n",
      "iteration: 679 , loss: 0.13024746226556255\n",
      "iteration: 680 , loss: 0.1302474516027706\n",
      "iteration: 681 , loss: 0.13024744107450298\n",
      "iteration: 682 , loss: 0.13024743067906247\n",
      "iteration: 683 , loss: 0.1302474204147733\n",
      "iteration: 684 , loss: 0.13024741027998077\n",
      "iteration: 685 , loss: 0.13024740027305118\n",
      "iteration: 686 , loss: 0.13024739039237132\n",
      "iteration: 687 , loss: 0.1302473806363484\n",
      "iteration: 688 , loss: 0.13024737100340975\n",
      "iteration: 689 , loss: 0.1302473614920024\n",
      "iteration: 690 , loss: 0.13024735210059318\n",
      "iteration: 691 , loss: 0.13024734282766814\n",
      "iteration: 692 , loss: 0.1302473336717324\n",
      "iteration: 693 , loss: 0.13024732463131003\n",
      "iteration: 694 , loss: 0.13024731570494366\n",
      "iteration: 695 , loss: 0.13024730689119435\n",
      "iteration: 696 , loss: 0.13024729818864123\n",
      "iteration: 697 , loss: 0.1302472895958815\n",
      "iteration: 698 , loss: 0.13024728111152994\n",
      "iteration: 699 , loss: 0.13024727273421882\n",
      "iteration: 700 , loss: 0.1302472644625977\n",
      "iteration: 701 , loss: 0.1302472562953332\n",
      "iteration: 702 , loss: 0.1302472482311087\n",
      "iteration: 703 , loss: 0.13024724026862422\n",
      "iteration: 704 , loss: 0.13024723240659616\n",
      "iteration: 705 , loss: 0.13024722464375718\n",
      "iteration: 706 , loss: 0.13024721697885588\n",
      "iteration: 707 , loss: 0.1302472094106566\n",
      "iteration: 708 , loss: 0.13024720193793937\n",
      "iteration: 709 , loss: 0.13024719455949954\n",
      "iteration: 710 , loss: 0.1302471872741477\n",
      "iteration: 711 , loss: 0.13024718008070943\n",
      "iteration: 712 , loss: 0.1302471729780251\n",
      "iteration: 713 , loss: 0.13024716596494976\n",
      "iteration: 714 , loss: 0.13024715904035286\n",
      "iteration: 715 , loss: 0.1302471522031182\n",
      "iteration: 716 , loss: 0.13024714545214347\n",
      "iteration: 717 , loss: 0.13024713878634048\n",
      "iteration: 718 , loss: 0.13024713220463466\n",
      "iteration: 719 , loss: 0.13024712570596503\n",
      "iteration: 720 , loss: 0.130247119289284\n",
      "iteration: 721 , loss: 0.13024711295355712\n",
      "iteration: 722 , loss: 0.1302471066977631\n",
      "iteration: 723 , loss: 0.13024710052089353\n",
      "iteration: 724 , loss: 0.13024709442195256\n",
      "iteration: 725 , loss: 0.13024708839995716\n",
      "iteration: 726 , loss: 0.13024708245393649\n",
      "iteration: 727 , loss: 0.13024707658293197\n",
      "iteration: 728 , loss: 0.13024707078599734\n",
      "iteration: 729 , loss: 0.13024706506219802\n",
      "iteration: 730 , loss: 0.13024705941061132\n",
      "iteration: 731 , loss: 0.1302470538303262\n",
      "iteration: 732 , loss: 0.1302470483204431\n",
      "iteration: 733 , loss: 0.1302470428800738\n",
      "iteration: 734 , loss: 0.13024703750834132\n",
      "iteration: 735 , loss: 0.13024703220437975\n",
      "iteration: 736 , loss: 0.13024702696733395\n",
      "iteration: 737 , loss: 0.13024702179635989\n",
      "iteration: 738 , loss: 0.1302470166906238\n",
      "iteration: 739 , loss: 0.13024701164930275\n",
      "iteration: 740 , loss: 0.13024700667158406\n",
      "iteration: 741 , loss: 0.13024700175666523\n",
      "iteration: 742 , loss: 0.130246996903754\n",
      "iteration: 743 , loss: 0.13024699211206814\n",
      "iteration: 744 , loss: 0.1302469873808351\n",
      "iteration: 745 , loss: 0.13024698270929227\n",
      "iteration: 746 , loss: 0.13024697809668653\n",
      "iteration: 747 , loss: 0.13024697354227438\n",
      "iteration: 748 , loss: 0.13024696904532163\n",
      "iteration: 749 , loss: 0.13024696460510327\n",
      "iteration: 750 , loss: 0.13024696022090362\n",
      "iteration: 751 , loss: 0.1302469558920159\n",
      "iteration: 752 , loss: 0.13024695161774233\n",
      "iteration: 753 , loss: 0.13024694739739381\n",
      "iteration: 754 , loss: 0.13024694323029007\n",
      "iteration: 755 , loss: 0.13024693911575935\n",
      "iteration: 756 , loss: 0.13024693505313834\n",
      "iteration: 757 , loss: 0.13024693104177215\n",
      "iteration: 758 , loss: 0.13024692708101415\n",
      "iteration: 759 , loss: 0.1302469231702259\n",
      "iteration: 760 , loss: 0.1302469193087769\n",
      "iteration: 761 , loss: 0.13024691549604472\n",
      "iteration: 762 , loss: 0.1302469117314147\n",
      "iteration: 763 , loss: 0.13024690801428\n",
      "iteration: 764 , loss: 0.1302469043440414\n",
      "iteration: 765 , loss: 0.13024690072010728\n",
      "iteration: 766 , loss: 0.1302468971418934\n",
      "iteration: 767 , loss: 0.13024689360882297\n",
      "iteration: 768 , loss: 0.13024689012032645\n",
      "iteration: 769 , loss: 0.13024688667584153\n",
      "iteration: 770 , loss: 0.13024688327481287\n",
      "iteration: 771 , loss: 0.13024687991669223\n",
      "iteration: 772 , loss: 0.13024687660093834\n",
      "iteration: 773 , loss: 0.13024687332701662\n",
      "iteration: 774 , loss: 0.13024687009439936\n",
      "iteration: 775 , loss: 0.1302468669025654\n",
      "iteration: 776 , loss: 0.13024686375100028\n",
      "iteration: 777 , loss: 0.13024686063919588\n",
      "iteration: 778 , loss: 0.13024685756665064\n",
      "iteration: 779 , loss: 0.1302468545328692\n",
      "iteration: 780 , loss: 0.1302468515373626\n",
      "iteration: 781 , loss: 0.13024684857964786\n",
      "iteration: 782 , loss: 0.1302468456592482\n",
      "iteration: 783 , loss: 0.1302468427756929\n",
      "iteration: 784 , loss: 0.1302468399285171\n",
      "iteration: 785 , loss: 0.13024683711726176\n",
      "iteration: 786 , loss: 0.1302468343414738\n",
      "iteration: 787 , loss: 0.13024683160070577\n",
      "iteration: 788 , loss: 0.13024682889451575\n",
      "iteration: 789 , loss: 0.13024682622246755\n",
      "iteration: 790 , loss: 0.13024682358413045\n",
      "iteration: 791 , loss: 0.1302468209790791\n",
      "iteration: 792 , loss: 0.13024681840689356\n",
      "iteration: 793 , loss: 0.13024681586715925\n",
      "iteration: 794 , loss: 0.13024681335946672\n",
      "iteration: 795 , loss: 0.1302468108834117\n",
      "iteration: 796 , loss: 0.13024680843859507\n",
      "iteration: 797 , loss: 0.13024680602462274\n",
      "iteration: 798 , loss: 0.13024680364110552\n",
      "iteration: 799 , loss: 0.13024680128765925\n",
      "iteration: 800 , loss: 0.13024679896390448\n",
      "iteration: 801 , loss: 0.13024679666946665\n",
      "iteration: 802 , loss: 0.13024679440397594\n",
      "iteration: 803 , loss: 0.13024679216706703\n",
      "iteration: 804 , loss: 0.13024678995837943\n",
      "iteration: 805 , loss: 0.13024678777755702\n",
      "iteration: 806 , loss: 0.13024678562424835\n",
      "iteration: 807 , loss: 0.13024678349810617\n",
      "iteration: 808 , loss: 0.13024678139878784\n",
      "iteration: 809 , loss: 0.1302467793259549\n",
      "iteration: 810 , loss: 0.13024677727927325\n",
      "iteration: 811 , loss: 0.1302467752584129\n",
      "iteration: 812 , loss: 0.13024677326304815\n",
      "iteration: 813 , loss: 0.13024677129285722\n",
      "iteration: 814 , loss: 0.1302467693475227\n",
      "iteration: 815 , loss: 0.13024676742673086\n",
      "iteration: 816 , loss: 0.13024676553017206\n",
      "iteration: 817 , loss: 0.13024676365754065\n",
      "iteration: 818 , loss: 0.13024676180853467\n",
      "iteration: 819 , loss: 0.13024675998285615\n",
      "iteration: 820 , loss: 0.13024675818021073\n",
      "iteration: 821 , loss: 0.1302467564003078\n",
      "iteration: 822 , loss: 0.1302467546428605\n",
      "iteration: 823 , loss: 0.13024675290758544\n",
      "iteration: 824 , loss: 0.130246751194203\n",
      "iteration: 825 , loss: 0.13024674950243692\n",
      "iteration: 826 , loss: 0.13024674783201448\n",
      "iteration: 827 , loss: 0.1302467461826664\n",
      "iteration: 828 , loss: 0.1302467445541268\n",
      "iteration: 829 , loss: 0.13024674294613317\n",
      "iteration: 830 , loss: 0.13024674135842632\n",
      "iteration: 831 , loss: 0.13024673979075024\n",
      "iteration: 832 , loss: 0.13024673824285227\n",
      "iteration: 833 , loss: 0.13024673671448292\n",
      "iteration: 834 , loss: 0.1302467352053957\n",
      "iteration: 835 , loss: 0.13024673371534745\n",
      "iteration: 836 , loss: 0.13024673224409794\n",
      "iteration: 837 , loss: 0.13024673079141003\n",
      "iteration: 838 , loss: 0.13024672935704945\n",
      "iteration: 839 , loss: 0.13024672794078504\n",
      "iteration: 840 , loss: 0.13024672654238853\n",
      "iteration: 841 , loss: 0.1302467251616344\n",
      "iteration: 842 , loss: 0.13024672379830016\n",
      "iteration: 843 , loss: 0.13024672245216604\n",
      "iteration: 844 , loss: 0.13024672112301494\n",
      "iteration: 845 , loss: 0.13024671981063268\n",
      "iteration: 846 , loss: 0.1302467185148077\n",
      "iteration: 847 , loss: 0.1302467172353311\n",
      "iteration: 848 , loss: 0.13024671597199658\n",
      "iteration: 849 , loss: 0.1302467147246006\n",
      "iteration: 850 , loss: 0.13024671349294198\n",
      "iteration: 851 , loss: 0.1302467122768222\n",
      "iteration: 852 , loss: 0.13024671107604519\n",
      "iteration: 853 , loss: 0.1302467098904174\n",
      "iteration: 854 , loss: 0.13024670871974775\n",
      "iteration: 855 , loss: 0.13024670756384749\n",
      "iteration: 856 , loss: 0.13024670642253028\n",
      "iteration: 857 , loss: 0.13024670529561214\n",
      "iteration: 858 , loss: 0.13024670418291143\n",
      "iteration: 859 , loss: 0.13024670308424874\n",
      "iteration: 860 , loss: 0.13024670199944702\n",
      "iteration: 861 , loss: 0.1302467009283313\n",
      "iteration: 862 , loss: 0.13024669987072907\n",
      "iteration: 863 , loss: 0.13024669882646966\n",
      "iteration: 864 , loss: 0.1302466977953849\n",
      "iteration: 865 , loss: 0.13024669677730846\n",
      "iteration: 866 , loss: 0.1302466957720763\n",
      "iteration: 867 , loss: 0.1302466947795263\n",
      "iteration: 868 , loss: 0.1302466937994985\n",
      "iteration: 869 , loss: 0.13024669283183496\n",
      "iteration: 870 , loss: 0.1302466918763796\n",
      "iteration: 871 , loss: 0.1302466909329785\n",
      "iteration: 872 , loss: 0.13024669000147945\n",
      "iteration: 873 , loss: 0.13024668908173245\n",
      "iteration: 874 , loss: 0.1302466881735891\n",
      "iteration: 875 , loss: 0.13024668727690308\n",
      "iteration: 876 , loss: 0.13024668639152984\n",
      "iteration: 877 , loss: 0.1302466855173266\n",
      "iteration: 878 , loss: 0.13024668465415246\n",
      "iteration: 879 , loss: 0.13024668380186832\n",
      "iteration: 880 , loss: 0.13024668296033678\n",
      "iteration: 881 , loss: 0.13024668212942211\n",
      "iteration: 882 , loss: 0.13024668130899048\n",
      "iteration: 883 , loss: 0.13024668049890953\n",
      "iteration: 884 , loss: 0.1302466796990487\n",
      "iteration: 885 , loss: 0.1302466789092791\n",
      "iteration: 886 , loss: 0.13024667812947335\n",
      "iteration: 887 , loss: 0.13024667735950582\n",
      "iteration: 888 , loss: 0.13024667659925232\n",
      "iteration: 889 , loss: 0.13024667584859032\n",
      "iteration: 890 , loss: 0.13024667510739882\n",
      "iteration: 891 , loss: 0.13024667437555834\n",
      "iteration: 892 , loss: 0.13024667365295087\n",
      "iteration: 893 , loss: 0.13024667293945996\n",
      "iteration: 894 , loss: 0.1302466722349706\n",
      "iteration: 895 , loss: 0.13024667153936922\n",
      "iteration: 896 , loss: 0.13024667085254368\n",
      "iteration: 897 , loss: 0.13024667017438324\n",
      "iteration: 898 , loss: 0.13024666950477864\n",
      "iteration: 899 , loss: 0.13024666884362185\n",
      "iteration: 900 , loss: 0.13024666819080635\n",
      "iteration: 901 , loss: 0.13024666754622694\n",
      "iteration: 902 , loss: 0.13024666690977962\n",
      "iteration: 903 , loss: 0.13024666628136183\n",
      "iteration: 904 , loss: 0.1302466656608723\n",
      "iteration: 905 , loss: 0.13024666504821097\n",
      "iteration: 906 , loss: 0.13024666444327912\n",
      "iteration: 907 , loss: 0.1302466638459792\n",
      "iteration: 908 , loss: 0.1302466632562149\n",
      "iteration: 909 , loss: 0.1302466626738912\n",
      "iteration: 910 , loss: 0.13024666209891422\n",
      "iteration: 911 , loss: 0.13024666153119122\n",
      "iteration: 912 , loss: 0.13024666097063076\n",
      "iteration: 913 , loss: 0.13024666041714242\n",
      "iteration: 914 , loss: 0.130246659870637\n",
      "iteration: 915 , loss: 0.1302466593310264\n",
      "iteration: 916 , loss: 0.13024665879822359\n",
      "iteration: 917 , loss: 0.13024665827214274\n",
      "iteration: 918 , loss: 0.13024665775269903\n",
      "iteration: 919 , loss: 0.13024665723980874\n",
      "iteration: 920 , loss: 0.13024665673338917\n",
      "iteration: 921 , loss: 0.13024665623335865\n",
      "iteration: 922 , loss: 0.13024665573963662\n",
      "iteration: 923 , loss: 0.13024665525214352\n",
      "iteration: 924 , loss: 0.1302466547708007\n",
      "iteration: 925 , loss: 0.1302466542955306\n",
      "iteration: 926 , loss: 0.13024665382625653\n",
      "iteration: 927 , loss: 0.13024665336290298\n",
      "iteration: 928 , loss: 0.13024665290539517\n",
      "iteration: 929 , loss: 0.1302466524536594\n",
      "iteration: 930 , loss: 0.13024665200762275\n",
      "iteration: 931 , loss: 0.1302466515672134\n",
      "iteration: 932 , loss: 0.13024665113236036\n",
      "iteration: 933 , loss: 0.13024665070299354\n",
      "iteration: 934 , loss: 0.13024665027904364\n",
      "iteration: 935 , loss: 0.13024664986044238\n",
      "iteration: 936 , loss: 0.13024664944712228\n",
      "iteration: 937 , loss: 0.1302466490390167\n",
      "iteration: 938 , loss: 0.13024664863605986\n",
      "iteration: 939 , loss: 0.13024664823818682\n",
      "iteration: 940 , loss: 0.13024664784533338\n",
      "iteration: 941 , loss: 0.13024664745743628\n",
      "iteration: 942 , loss: 0.13024664707443298\n",
      "iteration: 943 , loss: 0.1302466466962617\n",
      "iteration: 944 , loss: 0.13024664632286148\n",
      "iteration: 945 , loss: 0.13024664595417218\n",
      "iteration: 946 , loss: 0.13024664559013432\n",
      "iteration: 947 , loss: 0.13024664523068924\n",
      "iteration: 948 , loss: 0.13024664487577897\n",
      "iteration: 949 , loss: 0.13024664452534632\n",
      "iteration: 950 , loss: 0.13024664417933482\n",
      "iteration: 951 , loss: 0.13024664383768864\n",
      "iteration: 952 , loss: 0.13024664350035275\n",
      "iteration: 953 , loss: 0.13024664316727275\n",
      "iteration: 954 , loss: 0.13024664283839493\n",
      "iteration: 955 , loss: 0.13024664251366633\n",
      "iteration: 956 , loss: 0.13024664219303456\n",
      "iteration: 957 , loss: 0.1302466418764479\n",
      "iteration: 958 , loss: 0.13024664156385538\n",
      "iteration: 959 , loss: 0.1302466412552066\n",
      "iteration: 960 , loss: 0.13024664095045177\n",
      "iteration: 961 , loss: 0.1302466406495418\n",
      "iteration: 962 , loss: 0.1302466403524282\n",
      "iteration: 963 , loss: 0.13024664005906297\n",
      "iteration: 964 , loss: 0.13024663976939893\n",
      "iteration: 965 , loss: 0.13024663948338935\n",
      "iteration: 966 , loss: 0.13024663920098814\n",
      "iteration: 967 , loss: 0.13024663892214972\n",
      "iteration: 968 , loss: 0.1302466386468292\n",
      "iteration: 969 , loss: 0.13024663837498215\n",
      "iteration: 970 , loss: 0.13024663810656478\n",
      "iteration: 971 , loss: 0.1302466378415338\n",
      "iteration: 972 , loss: 0.13024663757984656\n",
      "iteration: 973 , loss: 0.1302466373214608\n",
      "iteration: 974 , loss: 0.13024663706633485\n",
      "iteration: 975 , loss: 0.13024663681442764\n",
      "iteration: 976 , loss: 0.13024663656569854\n",
      "iteration: 977 , loss: 0.13024663632010744\n",
      "iteration: 978 , loss: 0.13024663607761477\n",
      "iteration: 979 , loss: 0.13024663583818144\n",
      "iteration: 980 , loss: 0.13024663560176883\n",
      "iteration: 981 , loss: 0.13024663536833883\n",
      "iteration: 982 , loss: 0.13024663513785387\n",
      "iteration: 983 , loss: 0.13024663491027674\n",
      "iteration: 984 , loss: 0.13024663468557074\n",
      "iteration: 985 , loss: 0.13024663446369966\n",
      "iteration: 986 , loss: 0.13024663424462782\n",
      "iteration: 987 , loss: 0.13024663402831982\n",
      "iteration: 988 , loss: 0.13024663381474075\n",
      "iteration: 989 , loss: 0.13024663360385624\n",
      "iteration: 990 , loss: 0.13024663339563233\n",
      "iteration: 991 , loss: 0.13024663319003538\n",
      "iteration: 992 , loss: 0.1302466329870323\n",
      "iteration: 993 , loss: 0.13024663278659032\n",
      "iteration: 994 , loss: 0.1302466325886772\n",
      "iteration: 995 , loss: 0.13024663239326092\n",
      "iteration: 996 , loss: 0.1302466322003101\n",
      "iteration: 997 , loss: 0.13024663200979358\n",
      "iteration: 998 , loss: 0.13024663182168064\n",
      "iteration: 999 , loss: 0.130246631635941\n",
      "iteration: 1000 , loss: 0.13024663145254461\n"
     ]
    }
   ],
   "source": [
    "theta = np.zeros((X_norm.shape[1],1))\n",
    "alpha = 0.1\n",
    "n_iter = 1000\n",
    "\n",
    "grad_theta, grad_loss = gradientDescent(X_norm, y_norm, theta, alpha, n_iter)"
   ]
  },
  {
   "cell_type": "code",
   "execution_count": 318,
   "metadata": {},
   "outputs": [
    {
     "data": {
      "text/plain": [
       "array([[ 2.53376591e-15],\n",
       "       [-1.01067821e-01],\n",
       "       [ 1.27445076e-01],\n",
       "       [ 1.94233940e-02],\n",
       "       [ 7.16668383e-02],\n",
       "       [-2.16127951e-01],\n",
       "       [ 2.95158782e-01],\n",
       "       [ 3.20960385e-03],\n",
       "       [-3.38073466e-01],\n",
       "       [ 2.96742450e-01],\n",
       "       [-2.35420127e-01],\n",
       "       [-2.19459466e-01],\n",
       "       [ 9.36078008e-02],\n",
       "       [-4.06454839e-01]])"
      ]
     },
     "execution_count": 318,
     "metadata": {},
     "output_type": "execute_result"
    }
   ],
   "source": [
    "grad_theta[-1] # optimal theta"
   ]
  },
  {
   "cell_type": "markdown",
   "metadata": {
    "deletable": false,
    "editable": false,
    "nbgrader": {
     "cell_type": "markdown",
     "checksum": "8973bb8f784131824c25c27578d3cc9d",
     "grade": false,
     "grade_id": "cell-812914372bfc9b0b",
     "locked": true,
     "schema_version": 3,
     "solution": false,
     "task": false
    }
   },
   "source": [
    "## 2.3 Find theta by using Least-Squares"
   ]
  },
  {
   "cell_type": "code",
   "execution_count": 319,
   "metadata": {
    "ExecuteTime": {
     "end_time": "2021-02-03T19:11:07.875901Z",
     "start_time": "2021-02-03T19:11:07.871186Z"
    },
    "deletable": false,
    "nbgrader": {
     "cell_type": "code",
     "checksum": "020e3a6d55b7259efea65a678bb66f3c",
     "grade": false,
     "grade_id": "cell-6b668ffe4b9c46a5",
     "locked": false,
     "schema_version": 3,
     "solution": true,
     "task": false
    }
   },
   "outputs": [
    {
     "data": {
      "text/plain": [
       "array([[ 2.87096735e-15],\n",
       "       [-1.01098719e-01],\n",
       "       [ 1.27497462e-01],\n",
       "       [ 1.95927842e-02],\n",
       "       [ 7.16421715e-02],\n",
       "       [-2.16160654e-01],\n",
       "       [ 2.95127746e-01],\n",
       "       [ 3.23653936e-03],\n",
       "       [-3.38060141e-01],\n",
       "       [ 2.97168123e-01],\n",
       "       [-2.35899758e-01],\n",
       "       [-2.19481123e-01],\n",
       "       [ 9.36111081e-02],\n",
       "       [-4.06470641e-01]])"
      ]
     },
     "execution_count": 319,
     "metadata": {},
     "output_type": "execute_result"
    }
   ],
   "source": [
    "ls_theta = np.dot(np.linalg.pinv(X_norm), y_norm)\n",
    "ls_theta"
   ]
  },
  {
   "cell_type": "code",
   "execution_count": 320,
   "metadata": {
    "deletable": false,
    "editable": false,
    "nbgrader": {
     "cell_type": "code",
     "checksum": "3e6cc8bf358a42ecebefc85a8d9fae5d",
     "grade": true,
     "grade_id": "cell-9e6cce1dcaa13939",
     "locked": true,
     "points": 0,
     "schema_version": 3,
     "solution": false,
     "task": false
    }
   },
   "outputs": [],
   "source": [
    "assert ls_theta.shape == (14, 1)"
   ]
  },
  {
   "cell_type": "markdown",
   "metadata": {
    "deletable": false,
    "editable": false,
    "nbgrader": {
     "cell_type": "markdown",
     "checksum": "be4f5da5d76b1b4db247e863f851fa54",
     "grade": false,
     "grade_id": "cell-ef70629e30aafe12",
     "locked": true,
     "schema_version": 3,
     "solution": false,
     "task": false
    }
   },
   "source": [
    "## 2.4 Compare an error between Gradient Descent Algorithm and Least-Squares.\n",
    "\n",
    "What do you observe?"
   ]
  },
  {
   "cell_type": "code",
   "execution_count": 321,
   "metadata": {
    "deletable": false,
    "nbgrader": {
     "cell_type": "code",
     "checksum": "a6c6564518abe81f9432e457dfa15fed",
     "grade": false,
     "grade_id": "cell-e6dd11d8c2ff3804",
     "locked": false,
     "schema_version": 3,
     "solution": true,
     "task": false
    }
   },
   "outputs": [
    {
     "name": "stdout",
     "output_type": "stream",
     "text": [
      "Gradient Descent error : 0.13024663127146208\n",
      "Least Square error : 0.13024661709935328\n"
     ]
    }
   ],
   "source": [
    "grad_error = computeCostFunction(X_norm, y_norm, grad_theta[-1])\n",
    "ls_error = computeCostFunction(X_norm, y_norm, ls_theta)\n",
    "print(f'Gradient Descent error : {grad_error}')\n",
    "print(f'Least Square error : {ls_error}')"
   ]
  },
  {
   "cell_type": "markdown",
   "metadata": {
    "deletable": false,
    "nbgrader": {
     "cell_type": "markdown",
     "checksum": "af9a4a8d6b344b1fe87a2f57a00f2292",
     "grade": true,
     "grade_id": "cell-6416174b506aaac4",
     "locked": false,
     "points": 3,
     "schema_version": 3,
     "solution": true,
     "task": false
    }
   },
   "source": [
    "YOUR ANSWER HERE"
   ]
  },
  {
   "cell_type": "markdown",
   "metadata": {
    "deletable": false,
    "editable": false,
    "nbgrader": {
     "cell_type": "markdown",
     "checksum": "2102a406efeb159b9f03ad2d61881b6a",
     "grade": false,
     "grade_id": "cell-62f6eeba6c343271",
     "locked": true,
     "schema_version": 3,
     "solution": false,
     "task": false
    }
   },
   "source": [
    "## 2.5 Can these two algorithms obtain the optimal solutions?"
   ]
  },
  {
   "cell_type": "markdown",
   "metadata": {
    "deletable": false,
    "nbgrader": {
     "cell_type": "markdown",
     "checksum": "0486fe5114bb7dc46717810eb1d66222",
     "grade": true,
     "grade_id": "cell-a13bdc55d3e91b96",
     "locked": false,
     "points": 5,
     "schema_version": 3,
     "solution": true,
     "task": false
    }
   },
   "source": [
    "YOUR ANSWER HERE"
   ]
  },
  {
   "cell_type": "markdown",
   "metadata": {
    "deletable": false,
    "editable": false,
    "nbgrader": {
     "cell_type": "markdown",
     "checksum": "b6a1091f761840d5e14dc376a065c563",
     "grade": false,
     "grade_id": "cell-d4c532e5af4dc164",
     "locked": true,
     "schema_version": 3,
     "solution": false,
     "task": false
    }
   },
   "source": [
    "## 2.6 Plot the importance of all the features.\n",
    "\n",
    "Which features is the most importance features in this dataset?"
   ]
  },
  {
   "cell_type": "code",
   "execution_count": 349,
   "metadata": {
    "deletable": false,
    "nbgrader": {
     "cell_type": "code",
     "checksum": "e570262a7258e0a3c2035322944791c4",
     "grade": true,
     "grade_id": "cell-7303a0df029de5fd",
     "locked": false,
     "points": 5,
     "schema_version": 3,
     "solution": true,
     "task": false
    }
   },
   "outputs": [
    {
     "data": {
      "image/png": "[encoded data removed]",
      "text/plain": [
       "<Figure size 576x360 with 1 Axes>"
      ]
     },
     "metadata": {
      "needs_background": "light"
     },
     "output_type": "display_data"
    }
   ],
   "source": [
    "plt.figure(figsize=(8,5))\n",
    "plt.barh(list(range(14)), ls_theta.flatten(), )\n",
    "plt.ylabel(\"Features\")\n",
    "plt.show()"
   ]
  },
  {
   "cell_type": "markdown",
   "metadata": {
    "deletable": false,
    "editable": false,
    "nbgrader": {
     "cell_type": "markdown",
     "checksum": "44d91be5d848e0a4f7916050332e21c6",
     "grade": false,
     "grade_id": "cell-39bf9f4efc72407f",
     "locked": true,
     "schema_version": 3,
     "solution": false,
     "task": false
    }
   },
   "source": [
    "# 3. Least-Squares - Non-linear Data"
   ]
  },
  {
   "cell_type": "markdown",
   "metadata": {
    "deletable": false,
    "editable": false,
    "nbgrader": {
     "cell_type": "markdown",
     "checksum": "aba92abf8c4fffcdd2829be1c942b532",
     "grade": false,
     "grade_id": "cell-b609751f8aec3f83",
     "locked": true,
     "schema_version": 3,
     "solution": false,
     "task": false
    }
   },
   "source": [
    "## 3.1 Import dataset from `ex2_x.csv` as $x$ and `ex2_z.csv` as $Z$.\n",
    "\n",
    "It is noted that $z$ in generated by sine function with Gaussian random noise (S.D.=0.2)."
   ]
  },
  {
   "cell_type": "code",
   "execution_count": null,
   "metadata": {
    "ExecuteTime": {
     "end_time": "2021-02-03T19:11:07.909444Z",
     "start_time": "2021-02-03T19:11:07.904193Z"
    }
   },
   "outputs": [],
   "source": [
    "x = np.genfromtxt('dataset/ex2_x.csv', delimiter=',')\n",
    "z = np.genfromtxt('dataset/ex2_z.csv', delimiter=',')"
   ]
  },
  {
   "cell_type": "code",
   "execution_count": null,
   "metadata": {
    "ExecuteTime": {
     "end_time": "2021-02-03T19:11:07.916598Z",
     "start_time": "2021-02-03T19:11:07.913758Z"
    }
   },
   "outputs": [],
   "source": [
    "x = np.expand_dims(x, axis=0).T\n",
    "z = np.expand_dims(z, axis=0).T"
   ]
  },
  {
   "cell_type": "code",
   "execution_count": null,
   "metadata": {
    "ExecuteTime": {
     "end_time": "2021-02-03T19:11:07.923999Z",
     "start_time": "2021-02-03T19:11:07.918870Z"
    }
   },
   "outputs": [
    {
     "data": {
      "text/plain": [
       "(101, 1)"
      ]
     },
     "execution_count": 290,
     "metadata": {},
     "output_type": "execute_result"
    }
   ],
   "source": [
    "x.shape"
   ]
  },
  {
   "cell_type": "markdown",
   "metadata": {
    "deletable": false,
    "editable": false,
    "nbgrader": {
     "cell_type": "markdown",
     "checksum": "597ba46e97f79b2913029a385972b7ce",
     "grade": false,
     "grade_id": "cell-bd8460da4fbfd141",
     "locked": true,
     "schema_version": 3,
     "solution": false,
     "task": false
    }
   },
   "source": [
    "## 3.2 Plot the data distribution"
   ]
  },
  {
   "cell_type": "code",
   "execution_count": null,
   "metadata": {
    "ExecuteTime": {
     "end_time": "2021-02-03T19:11:08.089917Z",
     "start_time": "2021-02-03T19:11:07.926207Z"
    }
   },
   "outputs": [
    {
     "data": {
      "text/plain": [
       "<matplotlib.collections.PathCollection at 0x1a100734dc0>"
      ]
     },
     "execution_count": 291,
     "metadata": {},
     "output_type": "execute_result"
    },
    {
     "data": {
      "image/png": "[encoded data removed]",
      "text/plain": [
       "<Figure size 432x288 with 1 Axes>"
      ]
     },
     "metadata": {
      "needs_background": "light"
     },
     "output_type": "display_data"
    }
   ],
   "source": [
    "plt.scatter(x, z)"
   ]
  },
  {
   "cell_type": "markdown",
   "metadata": {
    "deletable": false,
    "editable": false,
    "nbgrader": {
     "cell_type": "markdown",
     "checksum": "672b12ca18f589d059ff8c2e9b81d208",
     "grade": false,
     "grade_id": "cell-2913f19107a3b470",
     "locked": true,
     "schema_version": 3,
     "solution": false,
     "task": false
    }
   },
   "source": [
    "## 3.3 Obtain the least-squares solution of $x$ and $z$ and overlay the obtain function on the data distribution you plot in the previous question.\n",
    "\n",
    "Discuss on the results you get."
   ]
  },
  {
   "cell_type": "code",
   "execution_count": null,
   "metadata": {
    "ExecuteTime": {
     "end_time": "2021-02-03T19:11:08.095329Z",
     "start_time": "2021-02-03T19:11:08.092099Z"
    }
   },
   "outputs": [],
   "source": [
    "X = np.hstack((np.ones((x.shape[0], 1)), x))\n",
    "ls_theta = np.dot(np.linalg.pinv(X), z)"
   ]
  },
  {
   "cell_type": "code",
   "execution_count": null,
   "metadata": {
    "ExecuteTime": {
     "end_time": "2021-02-03T19:11:08.100972Z",
     "start_time": "2021-02-03T19:11:08.097601Z"
    }
   },
   "outputs": [
    {
     "data": {
      "text/plain": [
       "array([[ 0.00713729],\n",
       "       [-0.06496448]])"
      ]
     },
     "execution_count": 293,
     "metadata": {},
     "output_type": "execute_result"
    }
   ],
   "source": [
    "ls_theta"
   ]
  },
  {
   "cell_type": "code",
   "execution_count": null,
   "metadata": {
    "ExecuteTime": {
     "end_time": "2021-02-03T19:11:08.251704Z",
     "start_time": "2021-02-03T19:11:08.102711Z"
    }
   },
   "outputs": [
    {
     "data": {
      "text/plain": [
       "[<matplotlib.lines.Line2D at 0x1a10078e1c0>]"
      ]
     },
     "execution_count": 294,
     "metadata": {},
     "output_type": "execute_result"
    },
    {
     "data": {
      "image/png": "[encoded data removed]",
      "text/plain": [
       "<Figure size 432x288 with 1 Axes>"
      ]
     },
     "metadata": {
      "needs_background": "light"
     },
     "output_type": "display_data"
    }
   ],
   "source": [
    "plt.scatter(x, z)\n",
    "plt.plot(x, np.dot(X, ls_theta), color='r')"
   ]
  },
  {
   "cell_type": "markdown",
   "metadata": {
    "deletable": false,
    "editable": false,
    "nbgrader": {
     "cell_type": "markdown",
     "checksum": "4cba5bb4f82225c4fe871469d8d7644b",
     "grade": false,
     "grade_id": "cell-134b2d0f2d9ae990",
     "locked": true,
     "schema_version": 3,
     "solution": false,
     "task": false
    }
   },
   "source": [
    "## 3.4 Find a series of models by increasing the polynomial degree"
   ]
  },
  {
   "cell_type": "code",
   "execution_count": null,
   "metadata": {
    "deletable": false,
    "nbgrader": {
     "cell_type": "code",
     "checksum": "94adf19812f225ae6d6d807045c2760e",
     "grade": true,
     "grade_id": "cell-5634cb04feb2f9fd",
     "locked": false,
     "points": 5,
     "schema_version": 3,
     "solution": true,
     "task": false
    }
   },
   "outputs": [],
   "source": [
    "# YOUR CODE HERE\n",
    "raise NotImplementedError()"
   ]
  },
  {
   "cell_type": "markdown",
   "metadata": {
    "deletable": false,
    "editable": false,
    "nbgrader": {
     "cell_type": "markdown",
     "checksum": "67f578e97a80cc7576770c35e3ccbb71",
     "grade": false,
     "grade_id": "cell-5a201958a1489314",
     "locked": true,
     "schema_version": 3,
     "solution": false,
     "task": false
    }
   },
   "source": [
    "## 3.5 Plot the result of each polynomial degree"
   ]
  },
  {
   "cell_type": "code",
   "execution_count": null,
   "metadata": {
    "ExecuteTime": {
     "end_time": "2021-02-03T19:11:08.271743Z",
     "start_time": "2021-02-03T19:11:08.264875Z"
    }
   },
   "outputs": [],
   "source": [
    "def polynomial(degree, X, z):\n",
    "    theta_list = []\n",
    "    X_lin = np.linspace(X.min()-0.5, X.max()+0.5, 1000).reshape(-1, 1)\n",
    "    poly_lin = np.ones((X_lin.shape[0], 1))\n",
    "    \n",
    "    # bias\n",
    "    poly_x = np.ones((X.shape[0], 1))\n",
    "    \n",
    "    for i in range(1, degree+1):\n",
    "        poly_lin = np.hstack((poly_lin, X_lin**i))\n",
    "        poly_x = np.hstack((poly_x, X**i))\n",
    "        \n",
    "        theta = np.dot(np.linalg.pinv(poly_x), z)\n",
    "        y = np.dot(poly_lin, theta)\n",
    "        \n",
    "        plt.title(\"Polynomial %d degree(s)\" %(i))\n",
    "        plt.scatter(X, z)\n",
    "        plt.plot(X_lin, y, color='r')\n",
    "        plt.ylim(z.min(), z.max())\n",
    "        plt.xlabel(\"$x$\")\n",
    "        plt.ylabel(\"$z$\")\n",
    "        plt.show()\n",
    "        \n",
    "        theta_list.append(theta)\n",
    "    \n",
    "    return theta_list"
   ]
  },
  {
   "cell_type": "code",
   "execution_count": null,
   "metadata": {
    "ExecuteTime": {
     "end_time": "2021-02-03T19:11:09.512537Z",
     "start_time": "2021-02-03T19:11:08.273888Z"
    }
   },
   "outputs": [
    {
     "data": {
      "image/png": "[encoded data removed]",
      "text/plain": [
       "<Figure size 432x288 with 1 Axes>"
      ]
     },
     "metadata": {
      "needs_background": "light"
     },
     "output_type": "display_data"
    },
    {
     "data": {
      "image/png": "[encoded data removed]",
      "text/plain": [
       "<Figure size 432x288 with 1 Axes>"
      ]
     },
     "metadata": {
      "needs_background": "light"
     },
     "output_type": "display_data"
    },
    {
     "data": {
      "image/png": "[encoded data removed]",
      "text/plain": [
       "<Figure size 432x288 with 1 Axes>"
      ]
     },
     "metadata": {
      "needs_background": "light"
     },
     "output_type": "display_data"
    },
    {
     "data": {
      "image/png": "[encoded data removed]",
      "text/plain": [
       "<Figure size 432x288 with 1 Axes>"
      ]
     },
     "metadata": {
      "needs_background": "light"
     },
     "output_type": "display_data"
    },
    {
     "data": {
      "image/png": "[encoded data removed]",
      "text/plain": [
       "<Figure size 432x288 with 1 Axes>"
      ]
     },
     "metadata": {
      "needs_background": "light"
     },
     "output_type": "display_data"
    },
    {
     "data": {
      "image/png": "[encoded data removed]",
      "text/plain": [
       "<Figure size 432x288 with 1 Axes>"
      ]
     },
     "metadata": {
      "needs_background": "light"
     },
     "output_type": "display_data"
    },
    {
     "data": {
      "image/png": "[encoded data removed]",
      "text/plain": [
       "<Figure size 432x288 with 1 Axes>"
      ]
     },
     "metadata": {
      "needs_background": "light"
     },
     "output_type": "display_data"
    }
   ],
   "source": [
    "theta_list = polynomial(7, x, z)"
   ]
  },
  {
   "cell_type": "markdown",
   "metadata": {
    "deletable": false,
    "editable": false,
    "nbgrader": {
     "cell_type": "markdown",
     "checksum": "77a2d9c24dfac109ca68bd55c18124dc",
     "grade": false,
     "grade_id": "cell-e0e251ed6937b05c",
     "locked": true,
     "schema_version": 3,
     "solution": false,
     "task": false
    }
   },
   "source": [
    "## 3.6 Discuss the experimental results"
   ]
  },
  {
   "cell_type": "markdown",
   "metadata": {
    "deletable": false,
    "nbgrader": {
     "cell_type": "markdown",
     "checksum": "0f554a1a87ed3ead116cc43dba4387ce",
     "grade": true,
     "grade_id": "cell-e3ba38eb2d410485",
     "locked": false,
     "points": 5,
     "schema_version": 3,
     "solution": true,
     "task": false
    }
   },
   "source": [
    "YOUR ANSWER HERE"
   ]
  },
  {
   "cell_type": "markdown",
   "metadata": {
    "deletable": false,
    "editable": false,
    "nbgrader": {
     "cell_type": "markdown",
     "checksum": "a0217f1d2dda927c1ca564d4120248a2",
     "grade": false,
     "grade_id": "cell-bc6db2fa8fdb7237",
     "locked": true,
     "schema_version": 3,
     "solution": false,
     "task": false
    }
   },
   "source": [
    "## 3.7 Plot the importance of all the polynomial degree.\n",
    "\n",
    "Which degree(s) is/are the most importance feature? What is the appropiate number of degree?"
   ]
  },
  {
   "cell_type": "code",
   "execution_count": null,
   "metadata": {
    "deletable": false,
    "nbgrader": {
     "cell_type": "code",
     "checksum": "5861b9ef10956872eaf65f22bb1b5905",
     "grade": true,
     "grade_id": "cell-86546ab6d69bbba5",
     "locked": false,
     "points": 5,
     "schema_version": 3,
     "solution": true,
     "task": false
    }
   },
   "outputs": [],
   "source": [
    "# YOUR CODE HERE\n",
    "raise NotImplementedError()"
   ]
  },
  {
   "cell_type": "markdown",
   "metadata": {
    "deletable": false,
    "editable": false,
    "nbgrader": {
     "cell_type": "markdown",
     "checksum": "e3e4a786ddaccb384effecc71a4a69cb",
     "grade": false,
     "grade_id": "cell-15a3cf0149cebad6",
     "locked": true,
     "schema_version": 3,
     "solution": false,
     "task": false
    }
   },
   "source": [
    "## 3.8 What happens if you drop the terms corresponding to the weights of smallest magnitude?"
   ]
  },
  {
   "cell_type": "code",
   "execution_count": null,
   "metadata": {
    "deletable": false,
    "nbgrader": {
     "cell_type": "code",
     "checksum": "dd2b129cb877ddcfec5ea1629fc43b2c",
     "grade": true,
     "grade_id": "cell-6d11a92c1f592dfd",
     "locked": false,
     "points": 5,
     "schema_version": 3,
     "solution": true,
     "task": false
    }
   },
   "outputs": [],
   "source": [
    "# YOUR CODE HERE\n",
    "raise NotImplementedError()"
   ]
  },
  {
   "cell_type": "markdown",
   "metadata": {
    "deletable": false,
    "editable": false,
    "nbgrader": {
     "cell_type": "markdown",
     "checksum": "cb1d0887f8c11750dcbb816c2d03d747",
     "grade": false,
     "grade_id": "cell-6536b83ceff024c1",
     "locked": true,
     "schema_version": 3,
     "solution": false,
     "task": false
    }
   },
   "source": [
    "## 3.9 What happens if you drop those terms and then re-compute the model?"
   ]
  },
  {
   "cell_type": "code",
   "execution_count": null,
   "metadata": {
    "deletable": false,
    "nbgrader": {
     "cell_type": "code",
     "checksum": "4bc39edc2ed79cbf9c16ed28e0b4b63b",
     "grade": true,
     "grade_id": "cell-bfa7ff75ed1ca8e7",
     "locked": false,
     "points": 5,
     "schema_version": 3,
     "solution": true,
     "task": false
    }
   },
   "outputs": [],
   "source": [
    "# YOUR CODE HERE\n",
    "raise NotImplementedError()"
   ]
  }
 ],
 "metadata": {
  "kernelspec": {
   "display_name": "base",
   "language": "python",
   "name": "python3"
  },
  "language_info": {
   "codemirror_mode": {
    "name": "ipython",
    "version": 3
   },
   "file_extension": ".py",
   "mimetype": "text/x-python",
   "name": "python",
   "nbconvert_exporter": "python",
   "pygments_lexer": "ipython3",
   "version": "3.9.12"
  },
  "toc": {
   "base_numbering": 1,
   "nav_menu": {},
   "number_sections": false,
   "sideBar": true,
   "skip_h1_title": false,
   "title_cell": "Table of Contents",
   "title_sidebar": "Contents",
   "toc_cell": false,
   "toc_position": {},
   "toc_section_display": true,
   "toc_window_display": false
  },
  "varInspector": {
   "cols": {
    "lenName": 16,
    "lenType": 16,
    "lenVar": 40
   },
   "kernels_config": {
    "python": {
     "delete_cmd_postfix": "",
     "delete_cmd_prefix": "del ",
     "library": "var_list.py",
     "varRefreshCmd": "print(var_dic_list())"
    },
    "r": {
     "delete_cmd_postfix": ") ",
     "delete_cmd_prefix": "rm(",
     "library": "var_list.r",
     "varRefreshCmd": "cat(var_dic_list()) "
    }
   },
   "types_to_exclude": [
    "module",
    "function",
    "builtin_function_or_method",
    "instance",
    "_Feature"
   ],
   "window_display": false
  },
  "vscode": {
   "interpreter": {
    "hash": "ad2bdc8ecc057115af97d19610ffacc2b4e99fae6737bb82f5d7fb13d2f2c186"
   }
  }
 },
 "nbformat": 4,
 "nbformat_minor": 2
}
