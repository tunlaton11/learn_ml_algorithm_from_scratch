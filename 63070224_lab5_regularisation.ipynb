{
 "cells": [
  {
   "cell_type": "markdown",
   "id": "treated-diversity",
   "metadata": {},
   "source": [
    "Before you turn this problem in, make sure everything runs as expected. First, **restart the kernel** (in the menubar, select Kernel$\\rightarrow$Restart) and then **run all cells** (in the menubar, select Cell$\\rightarrow$Run All).\n",
    "\n",
    "Make sure you fill in any place that says `YOUR CODE HERE` or \"YOUR ANSWER HERE\", as well as your name and student id below:"
   ]
  },
  {
   "cell_type": "code",
   "execution_count": 51,
   "id": "handed-burton",
   "metadata": {},
   "outputs": [],
   "source": [
    "NAME = \"63070224\"\n",
    "STUDENT_ID = \"Tunlaton Wongchai\""
   ]
  },
  {
   "cell_type": "markdown",
   "id": "dense-kitchen",
   "metadata": {},
   "source": [
    "---"
   ]
  },
  {
   "cell_type": "code",
   "execution_count": 52,
   "id": "relative-lawrence",
   "metadata": {},
   "outputs": [],
   "source": [
    "import numpy as np\n",
    "import matplotlib.pyplot as plt\n",
    "import sklearn.datasets"
   ]
  },
  {
   "cell_type": "markdown",
   "id": "democratic-barrier",
   "metadata": {
    "deletable": false,
    "editable": false,
    "nbgrader": {
     "cell_type": "markdown",
     "checksum": "4da7bc717cc6efc6a92c07e3718a63d1",
     "grade": false,
     "grade_id": "cell-0d09c823340c8556",
     "locked": true,
     "schema_version": 3,
     "solution": false,
     "task": false
    }
   },
   "source": [
    "# 1 Linear Regression with Regularisation\n",
    "\n",
    "### 1.1 Import regression-datasets-housing.csv to the memory. The dataset can be downloaded at https://bit.ly/3quO6z8"
   ]
  },
  {
   "cell_type": "code",
   "execution_count": 53,
   "id": "bizarre-invention",
   "metadata": {},
   "outputs": [],
   "source": [
    "housing = np.genfromtxt('dataset/regression-datasets-housing.csv', delimiter=',')"
   ]
  },
  {
   "cell_type": "markdown",
   "id": "durable-farming",
   "metadata": {
    "deletable": false,
    "editable": false,
    "nbgrader": {
     "cell_type": "markdown",
     "checksum": "48b0f3e12a28db2021465ec37828fd19",
     "grade": false,
     "grade_id": "cell-c83c2980b7f4f3d3",
     "locked": true,
     "schema_version": 3,
     "solution": false,
     "task": false
    }
   },
   "source": [
    "### 1.2 Assign values from column 1 to column 13 to X and value from column 14 to y, then convert both variables to numpy."
   ]
  },
  {
   "cell_type": "code",
   "execution_count": 54,
   "id": "touched-corruption",
   "metadata": {},
   "outputs": [
    {
     "data": {
      "text/plain": [
       "((506, 13), (506, 1))"
      ]
     },
     "execution_count": 54,
     "metadata": {},
     "output_type": "execute_result"
    }
   ],
   "source": [
    "_X = housing[:, 0:13]\n",
    "y = housing[:, 13].reshape(-1, 1)\n",
    "_X.shape, y.shape"
   ]
  },
  {
   "cell_type": "markdown",
   "id": "heard-private",
   "metadata": {
    "deletable": false,
    "editable": false,
    "nbgrader": {
     "cell_type": "markdown",
     "checksum": "5e45be4c73331be4676b9b2a073ef0b8",
     "grade": false,
     "grade_id": "cell-e864491126c8ac16",
     "locked": true,
     "schema_version": 3,
     "solution": false,
     "task": false
    }
   },
   "source": [
    "### 1.3 Normalise this data to zero-mean and unit standard deviation"
   ]
  },
  {
   "cell_type": "code",
   "execution_count": 55,
   "id": "clinical-nickel",
   "metadata": {},
   "outputs": [],
   "source": [
    "X = (_X - _X.mean(axis=0)) / _X.std(axis=0)\n",
    "\n",
    "# print(X.mean(axis=0))\n",
    "# print(X.std(axis=0))"
   ]
  },
  {
   "cell_type": "markdown",
   "id": "parallel-oriental",
   "metadata": {
    "deletable": false,
    "editable": false,
    "nbgrader": {
     "cell_type": "markdown",
     "checksum": "8ce786c5ff297cb60a1823befc9b5fa8",
     "grade": false,
     "grade_id": "cell-c0f49483e5ae18c3",
     "locked": true,
     "schema_version": 3,
     "solution": false,
     "task": false
    }
   },
   "source": [
    "### 1.4 Write a function to calculate a cost function (J) of Linear Regression—Mean Squared Error with regularisation—in the following format:\n",
    "$$\n",
    "J = computeCostFunction(X, y, \\theta, \\lambda)\n",
    "$$\n",
    "where $\\theta$ is a weight vector and $lambda$ is a regularisation parameter. The function should\n",
    "automatically concatenate a bias vector into $X$."
   ]
  },
  {
   "cell_type": "code",
   "execution_count": 56,
   "id": "practical-overview",
   "metadata": {},
   "outputs": [],
   "source": [
    "def add_bias(X):\n",
    "    n_samples = len(X)\n",
    "    return np.hstack((np.ones((n_samples, 1)), X))\n",
    "\n",
    "def predict(X, theta):\n",
    "    return np.dot(add_bias(X), theta)\n",
    "\n",
    "def computeCostFunction(X, y, theta, λ):\n",
    "    hx = predict(X, theta)\n",
    "    regularisation = λ * np.sum(theta[1:] ** 2) # do not regularise bias\n",
    "    return np.mean(np.square(hx - y)) + regularisation # + (regularisation / X.shape[0])"
   ]
  },
  {
   "cell_type": "markdown",
   "id": "organized-transsexual",
   "metadata": {
    "deletable": false,
    "editable": false,
    "nbgrader": {
     "cell_type": "markdown",
     "checksum": "20ba35717ea130ddbe452d19fef3a2d5",
     "grade": false,
     "grade_id": "cell-7876f3673322017e",
     "locked": true,
     "schema_version": 3,
     "solution": false,
     "task": false
    }
   },
   "source": [
    "### 1.5 Write a function to find the optimal theta of Linear Regression with Regularisation by using Gradient Descent Algorithm in the following format:\n",
    "$$\n",
    "[θ, J_{History}] = gradientDescent(X, y, \\theta, \\alpha, \\lambda, n_{iteration})\n",
    "$$\n",
    "where $\\alpha$ is a learning rate, $\\lambda$ is a regularisation parameter, niteration is the number of iteration, and $J_{History}$ is a vector that store $J$ for every iteration. Noted that bias value should not be regularised."
   ]
  },
  {
   "cell_type": "code",
   "execution_count": 57,
   "id": "fossil-minister",
   "metadata": {
    "deletable": false,
    "nbgrader": {
     "cell_type": "code",
     "checksum": "9e72f1126d7299b7f7632ad0e4c32b51",
     "grade": true,
     "grade_id": "cell-c39e117c251fc086",
     "locked": false,
     "points": 5,
     "schema_version": 3,
     "solution": true,
     "task": false
    }
   },
   "outputs": [],
   "source": [
    "def gradientDescent(X, y, theta0, alpha, λ, n_iteration, verbose=False):\n",
    "    j_history = []\n",
    "    theta = np.copy(theta0)\n",
    "    n_samples = X.shape[0]\n",
    "\n",
    "    for i in range(n_iteration):\n",
    "        prediction = predict(X, theta)\n",
    "        \n",
    "        gradient = alpha * (np.dot(add_bias(X).T, prediction-y) + λ * theta) / n_samples\n",
    "        theta = theta - gradient\n",
    "\n",
    "        loss = computeCostFunction(X, y, theta, λ)\n",
    "        j_history.append(loss)\n",
    "        if verbose:                                                               \n",
    "            print(f'Iteration: {i} Loss: {loss}')\n",
    "\n",
    "    return theta, j_history\n",
    "\n",
    "def createTheta(X):\n",
    "    return np.ones((X.shape[1] + 1, 1))"
   ]
  },
  {
   "cell_type": "markdown",
   "id": "ecological-rendering",
   "metadata": {
    "deletable": false,
    "editable": false,
    "nbgrader": {
     "cell_type": "markdown",
     "checksum": "81b935af1c107d1e22709b12427c80cd",
     "grade": false,
     "grade_id": "cell-833ee674182fba0d",
     "locked": true,
     "schema_version": 3,
     "solution": false,
     "task": false
    }
   },
   "source": [
    "### 1.6 Train a model\n",
    "\n",
    "The model hyperparameter $\\alpha$ = 0.1, $n_{iteration}$ = 1000 and $\\lambda$ = [0, 0.01, 0.1, 1, 10]. Plot the convergence curve of each $\\lambda$. Then, report the effect of λ on error value. In addition, plot the bar chart of weights of each model."
   ]
  },
  {
   "cell_type": "code",
   "execution_count": 58,
   "id": "british-farmer",
   "metadata": {},
   "outputs": [],
   "source": [
    "theta_list = []\n",
    "labels = []"
   ]
  },
  {
   "cell_type": "code",
   "execution_count": 59,
   "id": "practical-secretariat",
   "metadata": {},
   "outputs": [
    {
     "name": "stdout",
     "output_type": "stream",
     "text": [
      "loss: 21.990725495660946\n"
     ]
    },
    {
     "data": {
      "image/png": "[encoded data removed]",
      "text/plain": [
       "<Figure size 432x288 with 1 Axes>"
      ]
     },
     "metadata": {
      "needs_background": "light"
     },
     "output_type": "display_data"
    },
    {
     "data": {
      "image/png": "[encoded data removed]",
      "text/plain": [
       "<Figure size 432x288 with 1 Axes>"
      ]
     },
     "metadata": {
      "needs_background": "light"
     },
     "output_type": "display_data"
    }
   ],
   "source": [
    "# λ=0\n",
    "theta, j_history = gradientDescent(X, y, createTheta(X), alpha=0.1, λ=0, n_iteration=1000)\n",
    "print('loss:', j_history[-1]) \n",
    "theta_list.append(theta.flatten())\n",
    "labels.append('0')\n",
    "\n",
    "plt.xlabel(\"iterations\")\n",
    "plt.ylabel(\"loss\")\n",
    "plt.plot(j_history)\n",
    "plt.show();\n",
    "\n",
    "plt.bar(range(len(theta)), theta.flatten(), color='green')\n",
    "plt.show;"
   ]
  },
  {
   "cell_type": "code",
   "execution_count": 60,
   "id": "hybrid-nightlife",
   "metadata": {},
   "outputs": [
    {
     "name": "stdout",
     "output_type": "stream",
     "text": [
      "loss: 22.53573181374157\n"
     ]
    },
    {
     "data": {
      "image/png": "[encoded data removed]",
      "text/plain": [
       "<Figure size 432x288 with 1 Axes>"
      ]
     },
     "metadata": {
      "needs_background": "light"
     },
     "output_type": "display_data"
    },
    {
     "data": {
      "image/png": "[encoded data removed]",
      "text/plain": [
       "<Figure size 432x288 with 1 Axes>"
      ]
     },
     "metadata": {
      "needs_background": "light"
     },
     "output_type": "display_data"
    }
   ],
   "source": [
    "# λ = 0.01\n",
    "theta, j_history = gradientDescent(X, y, createTheta(X), alpha=0.1, λ=0.01, n_iteration=1000)\n",
    "print('loss:', j_history[-1])\n",
    "theta_list.append(theta.flatten())\n",
    "labels.append('0.01')\n",
    "\n",
    "plt.xlabel(\"iterations\")\n",
    "plt.ylabel(\"loss\")\n",
    "plt.plot(j_history)\n",
    "plt.show();\n",
    "\n",
    "plt.bar(range(len(theta)), theta.flatten(), color='green')\n",
    "plt.show;"
   ]
  },
  {
   "cell_type": "code",
   "execution_count": 61,
   "id": "verified-atlas",
   "metadata": {},
   "outputs": [
    {
     "name": "stdout",
     "output_type": "stream",
     "text": [
      "loss: 27.43065777229755\n"
     ]
    },
    {
     "data": {
      "image/png": "[encoded data removed]",
      "text/plain": [
       "<Figure size 432x288 with 1 Axes>"
      ]
     },
     "metadata": {
      "needs_background": "light"
     },
     "output_type": "display_data"
    },
    {
     "data": {
      "image/png": "[encoded data removed]",
      "text/plain": [
       "<Figure size 432x288 with 1 Axes>"
      ]
     },
     "metadata": {
      "needs_background": "light"
     },
     "output_type": "display_data"
    }
   ],
   "source": [
    "# λ = 0.1\n",
    "theta, j_history = gradientDescent(X, y, createTheta(X), alpha=0.1, λ=0.1, n_iteration=1000)\n",
    "print('loss:', j_history[-1])\n",
    "theta_list.append(theta.flatten())\n",
    "labels.append('0.1')\n",
    "\n",
    "plt.xlabel(\"iterations\")\n",
    "plt.ylabel(\"loss\")\n",
    "plt.plot(j_history)\n",
    "plt.show();\n",
    "\n",
    "plt.bar(range(len(theta)), theta.flatten(), color='green')\n",
    "plt.show;"
   ]
  },
  {
   "cell_type": "code",
   "execution_count": 62,
   "id": "banned-petersburg",
   "metadata": {},
   "outputs": [
    {
     "name": "stdout",
     "output_type": "stream",
     "text": [
      "loss: 75.4108105101548\n"
     ]
    },
    {
     "data": {
      "image/png": "[encoded data removed]",
      "text/plain": [
       "<Figure size 432x288 with 1 Axes>"
      ]
     },
     "metadata": {
      "needs_background": "light"
     },
     "output_type": "display_data"
    },
    {
     "data": {
      "image/png": "[encoded data removed]",
      "text/plain": [
       "<Figure size 432x288 with 1 Axes>"
      ]
     },
     "metadata": {
      "needs_background": "light"
     },
     "output_type": "display_data"
    }
   ],
   "source": [
    "# λ = 1.0\n",
    "theta, j_history = gradientDescent(X, y, createTheta(X), alpha=0.1, λ=1.0, n_iteration=1000)\n",
    "print('loss:', j_history[-1])\n",
    "theta_list.append(theta.flatten())\n",
    "labels.append('1.0')\n",
    "\n",
    "plt.xlabel(\"iterations\")\n",
    "plt.ylabel(\"loss\")\n",
    "plt.plot(j_history)\n",
    "plt.show();\n",
    "\n",
    "plt.bar(range(len(theta)), theta.flatten(), color='green')\n",
    "plt.show;"
   ]
  },
  {
   "cell_type": "code",
   "execution_count": 63,
   "id": "strategic-oxide",
   "metadata": {},
   "outputs": [
    {
     "name": "stdout",
     "output_type": "stream",
     "text": [
      "loss: 483.025952438257\n"
     ]
    },
    {
     "data": {
      "image/png": "[encoded data removed]",
      "text/plain": [
       "<Figure size 432x288 with 1 Axes>"
      ]
     },
     "metadata": {
      "needs_background": "light"
     },
     "output_type": "display_data"
    },
    {
     "data": {
      "image/png": "[encoded data removed]",
      "text/plain": [
       "<Figure size 432x288 with 1 Axes>"
      ]
     },
     "metadata": {
      "needs_background": "light"
     },
     "output_type": "display_data"
    }
   ],
   "source": [
    "# λ = 10.0\n",
    "theta, j_history = gradientDescent(X, y, createTheta(X), alpha=0.1, λ=10.0, n_iteration=1000)\n",
    "print('loss:', j_history[-1])\n",
    "theta_list.append(theta.flatten())\n",
    "labels.append('10.0')\n",
    "\n",
    "plt.xlabel(\"iterations\")\n",
    "plt.ylabel(\"loss\")\n",
    "plt.plot(j_history)\n",
    "plt.show();\n",
    "\n",
    "plt.bar(range(len(theta)), theta.flatten(), color='green')\n",
    "plt.show;"
   ]
  },
  {
   "cell_type": "code",
   "execution_count": 64,
   "id": "clean-opposition",
   "metadata": {},
   "outputs": [
    {
     "data": {
      "image/png": "[encoded data removed]",
      "text/plain": [
       "<Figure size 432x288 with 1 Axes>"
      ]
     },
     "metadata": {
      "needs_background": "light"
     },
     "output_type": "display_data"
    }
   ],
   "source": [
    "plt.title('Theta of each lambda value')\n",
    "normailsed_theta_list = theta_list\n",
    "# normailsed_theta_list = (np.abs(theta_list) - np.min(theta_list, axis=0)) / np.max(theta_list, axis=0)\n",
    "for i, vals in enumerate(zip(*normailsed_theta_list)):\n",
    "    indices = np.arange(len(vals))\n",
    "    plt.bar(indices, vals)\n",
    "    \n",
    "plt.xticks(indices, labels)\n",
    "plt.xlabel('λ')\n",
    "plt.show();"
   ]
  },
  {
   "cell_type": "markdown",
   "id": "fitting-loading",
   "metadata": {
    "deletable": false,
    "editable": false,
    "nbgrader": {
     "cell_type": "markdown",
     "checksum": "583a758004e2afc787b5b89f6a447569",
     "grade": false,
     "grade_id": "cell-0f11d6490a684733",
     "locked": true,
     "schema_version": 3,
     "solution": false,
     "task": false
    }
   },
   "source": [
    "What do you observe when you vary the value of λ?"
   ]
  },
  {
   "cell_type": "markdown",
   "id": "modular-holder",
   "metadata": {
    "deletable": false,
    "nbgrader": {
     "cell_type": "markdown",
     "checksum": "edad6c998737bb2011bb88ef72392117",
     "grade": true,
     "grade_id": "cell-7628973a2bb83f10",
     "locked": false,
     "points": 5,
     "schema_version": 3,
     "solution": true,
     "task": false
    }
   },
   "source": [
    "YOUR ANSWER HERE"
   ]
  },
  {
   "cell_type": "markdown",
   "id": "floral-fellow",
   "metadata": {
    "deletable": false,
    "editable": false,
    "nbgrader": {
     "cell_type": "markdown",
     "checksum": "c20f2407fe3a7ab123e7d14da9154b46",
     "grade": false,
     "grade_id": "cell-e5d53314073e0921",
     "locked": true,
     "schema_version": 3,
     "solution": false,
     "task": false
    }
   },
   "source": [
    "# 2 Least Square with Regularisation"
   ]
  },
  {
   "cell_type": "markdown",
   "id": "further-tracy",
   "metadata": {
    "deletable": false,
    "editable": false,
    "nbgrader": {
     "cell_type": "markdown",
     "checksum": "03b9b87ef02aec4f653a0d8f6ee05513",
     "grade": false,
     "grade_id": "cell-fa78175dc1431401",
     "locked": true,
     "schema_version": 3,
     "solution": false,
     "task": false
    }
   },
   "source": [
    "### 2.1 Use the same dataset—X and y—obtained from Part 1. Write a function to add a bias vector to X in the following format:\n",
    "$$\n",
    "X = addBias(X)\n",
    "$$"
   ]
  },
  {
   "cell_type": "code",
   "execution_count": 65,
   "id": "imported-hampshire",
   "metadata": {},
   "outputs": [],
   "source": [
    "def add_bias(X):\n",
    "    n_samples = len(X)\n",
    "    return np.hstack((np.ones((n_samples, 1)), X))"
   ]
  },
  {
   "cell_type": "markdown",
   "id": "quality-popularity",
   "metadata": {
    "deletable": false,
    "editable": false,
    "nbgrader": {
     "cell_type": "markdown",
     "checksum": "3cdd21b9eda84ef2e98f15549fae4bd5",
     "grade": false,
     "grade_id": "cell-786642ea13136a42",
     "locked": true,
     "schema_version": 3,
     "solution": false,
     "task": false
    }
   },
   "source": [
    "### 2.2 Find the Least-squares solution with regularisation on λ = [0, 0.01, 0.1, 1, 10] by using the following equation:\n",
    "\n",
    "$$\n",
    "\\hat{\\theta} = (X^\\intercal X + \\lambda \\tilde{I})^{-1}X^\\intercal y\n",
    "$$\n",
    "\n",
    "where $\\tilde{I}$ is a manipulated identity matrix. The $\\tilde{I}[0,0]$ which corresponds to the bias value\n",
    "is set to 0 because the bias value will not be regularised. Plot the least-squares estimation of the function for each $\\lambda$."
   ]
  },
  {
   "cell_type": "code",
   "execution_count": 66,
   "id": "front-builder",
   "metadata": {
    "deletable": false,
    "nbgrader": {
     "cell_type": "code",
     "checksum": "62a2e74b0384c83e17e95dc1aea8b083",
     "grade": true,
     "grade_id": "cell-0f4db1bb8e06a43f",
     "locked": false,
     "points": 5,
     "schema_version": 3,
     "solution": true,
     "task": false
    }
   },
   "outputs": [],
   "source": [
    "def least_square(X, y, λ):\n",
    "    m = X.shape[1]\n",
    "    regularisation = np.identity(m) * λ\n",
    "    regularisation[0, 0] = 0\n",
    "    theta = np.dot(np.dot(np.linalg.inv(np.dot(X.T, X) + regularisation), X.T), y)\n",
    "\n",
    "    return theta"
   ]
  },
  {
   "cell_type": "code",
   "execution_count": 79,
   "id": "emerging-milan",
   "metadata": {
    "deletable": false,
    "nbgrader": {
     "cell_type": "code",
     "checksum": "bdb55ac13197f763b1de178f292656b4",
     "grade": true,
     "grade_id": "cell-c6346c06756a9316",
     "locked": false,
     "points": 0,
     "schema_version": 3,
     "solution": true,
     "task": false
    }
   },
   "outputs": [
    {
     "name": "stdout",
     "output_type": "stream",
     "text": [
      "loss: 21.990723212738892\n"
     ]
    },
    {
     "data": {
      "image/png": "[encoded data removed]",
      "text/plain": [
       "<Figure size 432x288 with 1 Axes>"
      ]
     },
     "metadata": {
      "needs_background": "light"
     },
     "output_type": "display_data"
    }
   ],
   "source": [
    "# λ = 0\n",
    "\n",
    "theta = least_square(add_bias(X), y, λ=0)\n",
    "loss = computeCostFunction(X, y, theta, λ=0)\n",
    "print(f'loss: {loss}')\n",
    "\n",
    "plt.bar(range(len(theta)), theta.flatten(), color='green')\n",
    "plt.show;"
   ]
  },
  {
   "cell_type": "code",
   "execution_count": 80,
   "id": "greenhouse-concord",
   "metadata": {
    "deletable": false,
    "nbgrader": {
     "cell_type": "code",
     "checksum": "e8df8aeb360a05130214012a049eeb45",
     "grade": true,
     "grade_id": "cell-ec024e30a6050bde",
     "locked": false,
     "points": 0,
     "schema_version": 3,
     "solution": true,
     "task": false
    }
   },
   "outputs": [
    {
     "name": "stdout",
     "output_type": "stream",
     "text": [
      "loss: 22.536149192959783\n"
     ]
    },
    {
     "data": {
      "image/png": "[encoded data removed]",
      "text/plain": [
       "<Figure size 432x288 with 1 Axes>"
      ]
     },
     "metadata": {
      "needs_background": "light"
     },
     "output_type": "display_data"
    }
   ],
   "source": [
    "# λ = 0.01\n",
    "\n",
    "theta = least_square(add_bias(X), y, λ=0.01)\n",
    "loss = computeCostFunction(X, y, theta, λ=0.01)\n",
    "print(f'loss: {loss}')\n",
    "\n",
    "\n",
    "plt.bar(range(len(theta)), theta.flatten(), color='green')\n",
    "plt.show;"
   ]
  },
  {
   "cell_type": "code",
   "execution_count": 81,
   "id": "prompt-basics",
   "metadata": {
    "deletable": false,
    "nbgrader": {
     "cell_type": "code",
     "checksum": "8a9d902a26e4498bbae4581bdc3f49df",
     "grade": true,
     "grade_id": "cell-849fa2b0fb5ef4a9",
     "locked": false,
     "points": 0,
     "schema_version": 3,
     "solution": true,
     "task": false
    }
   },
   "outputs": [
    {
     "name": "stdout",
     "output_type": "stream",
     "text": [
      "loss: 27.434736494728963\n"
     ]
    },
    {
     "data": {
      "image/png": "[encoded data removed]",
      "text/plain": [
       "<Figure size 432x288 with 1 Axes>"
      ]
     },
     "metadata": {
      "needs_background": "light"
     },
     "output_type": "display_data"
    }
   ],
   "source": [
    "# λ = 0.1\n",
    "\n",
    "theta = least_square(add_bias(X), y, λ=0.1)\n",
    "loss = computeCostFunction(X, y, theta, λ=0.1)\n",
    "print(f'loss: {loss}')\n",
    "\n",
    "\n",
    "plt.bar(range(len(theta)), theta.flatten(), color='green')\n",
    "plt.show;"
   ]
  },
  {
   "cell_type": "code",
   "execution_count": 82,
   "id": "formed-infrared",
   "metadata": {
    "deletable": false,
    "nbgrader": {
     "cell_type": "code",
     "checksum": "7c093005eef8493b32629f852a963fbf",
     "grade": true,
     "grade_id": "cell-5ab1f94c9c077cde",
     "locked": false,
     "points": 0,
     "schema_version": 3,
     "solution": true,
     "task": false
    }
   },
   "outputs": [
    {
     "name": "stdout",
     "output_type": "stream",
     "text": [
      "loss: 75.44125894164951\n"
     ]
    },
    {
     "data": {
      "image/png": "[encoded data removed]",
      "text/plain": [
       "<Figure size 432x288 with 1 Axes>"
      ]
     },
     "metadata": {
      "needs_background": "light"
     },
     "output_type": "display_data"
    }
   ],
   "source": [
    "# λ = 1.0\n",
    "\n",
    "theta = least_square(add_bias(X), y, λ=1)\n",
    "loss = computeCostFunction(X, y, theta, λ=1)\n",
    "print(f'loss: {loss}')\n",
    "\n",
    "\n",
    "plt.bar(range(len(theta)), theta.flatten(), color='green')\n",
    "plt.show;"
   ]
  },
  {
   "cell_type": "code",
   "execution_count": 83,
   "id": "happy-spring",
   "metadata": {
    "deletable": false,
    "nbgrader": {
     "cell_type": "code",
     "checksum": "906bb3e839d30ec343444e04fe1d0ba2",
     "grade": true,
     "grade_id": "cell-705fbfcd30b07437",
     "locked": false,
     "points": 0,
     "schema_version": 3,
     "solution": true,
     "task": false
    }
   },
   "outputs": [
    {
     "name": "stdout",
     "output_type": "stream",
     "text": [
      "loss: 482.8684226086625\n"
     ]
    },
    {
     "data": {
      "image/png": "[encoded data removed]",
      "text/plain": [
       "<Figure size 432x288 with 1 Axes>"
      ]
     },
     "metadata": {
      "needs_background": "light"
     },
     "output_type": "display_data"
    }
   ],
   "source": [
    "# λ = 10.0\n",
    "\n",
    "theta = least_square(add_bias(X), y, λ=10)\n",
    "loss = computeCostFunction(X, y, theta, λ=10)\n",
    "print(f'loss: {loss}')\n",
    "\n",
    "\n",
    "plt.bar(range(len(theta)), theta.flatten(), color='green')\n",
    "plt.show;"
   ]
  },
  {
   "cell_type": "markdown",
   "id": "living-annual",
   "metadata": {
    "deletable": false,
    "editable": false,
    "nbgrader": {
     "cell_type": "markdown",
     "checksum": "e2f47c8f9dfb0b0cec6bd856091d04cb",
     "grade": false,
     "grade_id": "cell-5b4529b68a209054",
     "locked": true,
     "schema_version": 3,
     "solution": false,
     "task": false
    }
   },
   "source": [
    "Compare and discuss the the results in this Part with Part 1. Should both algorithms achieve the identical solution with the same settings?"
   ]
  },
  {
   "cell_type": "markdown",
   "id": "processed-career",
   "metadata": {
    "deletable": false,
    "nbgrader": {
     "cell_type": "markdown",
     "checksum": "7b395e503b743ec52c4315ca552e429d",
     "grade": true,
     "grade_id": "cell-aba7ce732d23fdd8",
     "locked": false,
     "points": 5,
     "schema_version": 3,
     "solution": true,
     "task": false
    }
   },
   "source": [
    "YOUR ANSWER HERE"
   ]
  },
  {
   "cell_type": "markdown",
   "id": "equal-atlas",
   "metadata": {
    "deletable": false,
    "editable": false,
    "nbgrader": {
     "cell_type": "markdown",
     "checksum": "9f9d945e694fba3ec3f0bee290a44a34",
     "grade": false,
     "grade_id": "cell-1c335c4d1681b31e",
     "locked": true,
     "schema_version": 3,
     "solution": false,
     "task": false
    }
   },
   "source": [
    "# 3 Logistic Regression with Regularisation"
   ]
  },
  {
   "cell_type": "markdown",
   "id": "excessive-arcade",
   "metadata": {
    "deletable": false,
    "editable": false,
    "nbgrader": {
     "cell_type": "markdown",
     "checksum": "fd9f335390dabb1efb74c21ea857edcd",
     "grade": false,
     "grade_id": "cell-817b738b98f001de",
     "locked": true,
     "schema_version": 3,
     "solution": false,
     "task": false
    }
   },
   "source": [
    "### 3.1 Load Iris dataset from sklearn library"
   ]
  },
  {
   "cell_type": "code",
   "execution_count": 84,
   "id": "impressive-antigua",
   "metadata": {
    "deletable": false,
    "nbgrader": {
     "cell_type": "code",
     "checksum": "014ac480e8330c73941ed6b0a6b915b0",
     "grade": true,
     "grade_id": "cell-f70a3f36b3dd99dd",
     "locked": false,
     "points": 0,
     "schema_version": 3,
     "solution": true,
     "task": false
    }
   },
   "outputs": [],
   "source": [
    "iris = sklearn.datasets.load_iris()"
   ]
  },
  {
   "cell_type": "markdown",
   "id": "electronic-increase",
   "metadata": {
    "deletable": false,
    "editable": false,
    "nbgrader": {
     "cell_type": "markdown",
     "checksum": "613eedd44457d23b71ae18ec74d6a46f",
     "grade": false,
     "grade_id": "cell-7a3a67d53646fa42",
     "locked": true,
     "schema_version": 3,
     "solution": false,
     "task": false
    }
   },
   "source": [
    "### 3.2 Define Petal Length (cm) as X, Label—1 (Setosa) and 0 (Not Setosa)—as y"
   ]
  },
  {
   "cell_type": "code",
   "execution_count": 95,
   "id": "dietary-boost",
   "metadata": {
    "deletable": false,
    "nbgrader": {
     "cell_type": "code",
     "checksum": "e3b48f3eb5b9371060e2e9d21a5d1032",
     "grade": true,
     "grade_id": "cell-78d9b6c8e92bcc7e",
     "locked": false,
     "points": 0,
     "schema_version": 3,
     "solution": true,
     "task": false
    }
   },
   "outputs": [
    {
     "data": {
      "text/plain": [
       "(150, 1)"
      ]
     },
     "execution_count": 95,
     "metadata": {},
     "output_type": "execute_result"
    }
   ],
   "source": [
    "X = iris.data[:, 2].reshape(-1, 1)\n",
    "X.shape"
   ]
  },
  {
   "cell_type": "code",
   "execution_count": 96,
   "id": "9e8d1f08",
   "metadata": {},
   "outputs": [
    {
     "data": {
      "text/plain": [
       "(150, 1)"
      ]
     },
     "execution_count": 96,
     "metadata": {},
     "output_type": "execute_result"
    }
   ],
   "source": [
    "y = (iris.target == 0).astype(np.int32).reshape(-1, 1)\n",
    "y.shape"
   ]
  },
  {
   "cell_type": "markdown",
   "id": "overall-hours",
   "metadata": {
    "deletable": false,
    "editable": false,
    "nbgrader": {
     "cell_type": "markdown",
     "checksum": "151ebaecbc294c4cfcd1ae23db250350",
     "grade": false,
     "grade_id": "cell-757a1ac96cf861db",
     "locked": true,
     "schema_version": 3,
     "solution": false,
     "task": false
    }
   },
   "source": [
    "### 3.3 Write a function to calculate a cost function—Binary Cross-entropy with regularisation— in the following format:\n",
    "$$\n",
    "J = computeCostFunction(X, y, \\theta, \\lambda)\n",
    "$$\n",
    "where $\\theta$ is a weight vector and $\\lambda$ is a regularisation parameter. The function should\n",
    "automatically concatenate a bias vector into $X$."
   ]
  },
  {
   "cell_type": "code",
   "execution_count": 102,
   "id": "cb4ef793",
   "metadata": {},
   "outputs": [],
   "source": [
    "def sigmoid(z):\n",
    "    return 1 / (1 + np.exp(-z))\n",
    "\n",
    "def predict(X, theta):\n",
    "    return sigmoid(np.dot(add_bias(X), theta))\n",
    "\n",
    "def accuracy(y_predicted, y, threshold):\n",
    "    prediction = y_predicted > threshold\n",
    "    return np.mean(prediction == y)    "
   ]
  },
  {
   "cell_type": "code",
   "execution_count": 103,
   "id": "adequate-hardwood",
   "metadata": {
    "deletable": false,
    "nbgrader": {
     "cell_type": "code",
     "checksum": "c43739518345f54b09149c10b2fa5e79",
     "grade": true,
     "grade_id": "cell-e43e67ea42794ea2",
     "locked": false,
     "points": 5,
     "schema_version": 3,
     "solution": true,
     "task": false
    }
   },
   "outputs": [],
   "source": [
    "def computeCostFunction(X, y, theta, λ):\n",
    "    hx = predict(X, theta)\n",
    "    regularisation = (λ * np.sum(theta[1:] ** 2) / (2*X.shape[0]))\n",
    "    return np.mean(np.square(hx - y)) + regularisation"
   ]
  },
  {
   "cell_type": "markdown",
   "id": "homeless-exercise",
   "metadata": {
    "deletable": false,
    "editable": false,
    "nbgrader": {
     "cell_type": "markdown",
     "checksum": "41e88ab0eec00ee924a6eb170ed7daf8",
     "grade": false,
     "grade_id": "cell-c5b12834609ff43c",
     "locked": true,
     "schema_version": 3,
     "solution": false,
     "task": false
    }
   },
   "source": [
    "### 3.4 Write a function to find the optimal weight vector of Logistic Regression with Regularisation by using Gradient Descent Algorithm in the following format:\n",
    "$$\n",
    "[\\theta, J_{History}] = gradientDescent(X, y, \\theta, \\alpha, \\lambda, n_{iteration})\n",
    "$$\n",
    "where $\\alpha$ is a learning rate, $n_{iteration}$ is the number of iteration, and $J_{History}$ is a vector that store $J$ for every iteration. Noted that bias value should not be regularised."
   ]
  },
  {
   "cell_type": "code",
   "execution_count": 121,
   "id": "cultural-maryland",
   "metadata": {
    "deletable": false,
    "nbgrader": {
     "cell_type": "code",
     "checksum": "7d3fe01e6b429c4a669d2e91ab1ae5a6",
     "grade": true,
     "grade_id": "cell-63d3945bc19c2c6c",
     "locked": false,
     "points": 5,
     "schema_version": 3,
     "solution": true,
     "task": false
    }
   },
   "outputs": [],
   "source": [
    "def gradientDescent(X, y, theta0, alpha, λ, n_iteration, verbose=False):\n",
    "    j_history = []\n",
    "    theta = np.copy(theta0)\n",
    "    n_samples = X.shape[0]\n",
    "\n",
    "    for i in range(n_iteration):\n",
    "        prediction = predict(X, theta)\n",
    "        gradient = alpha * (np.dot(add_bias(X).T, prediction-y) + λ * theta) / n_samples\n",
    "        theta = theta - gradient\n",
    "        loss = computeCostFunction(X, y, theta, λ)\n",
    "        j_history.append(loss)\n",
    "        if verbose:\n",
    "            print(f'Iteration: {i} Loss: {loss}')\n",
    "        \n",
    "    return theta, j_history"
   ]
  },
  {
   "cell_type": "markdown",
   "id": "compliant-format",
   "metadata": {
    "deletable": false,
    "editable": false,
    "nbgrader": {
     "cell_type": "markdown",
     "checksum": "1df96b6e15401b9de1119061eb4debe5",
     "grade": false,
     "grade_id": "cell-5c0477d03ce4f351",
     "locked": true,
     "schema_version": 3,
     "solution": false,
     "task": false
    }
   },
   "source": [
    "### 3.5 Train the model with hyperparameter α = 0.1, niteration = 1000 and λ = [0, 0.01, 0.1, 1, 10]. Plot the convergence curve and decision boundary of each λ and further report the effect of λ on decision boundary and accuracy."
   ]
  },
  {
   "cell_type": "code",
   "execution_count": 139,
   "id": "legitimate-purse",
   "metadata": {
    "deletable": false,
    "nbgrader": {
     "cell_type": "code",
     "checksum": "6c8f0bc1432293d7ac702f6a8c5e4c60",
     "grade": true,
     "grade_id": "cell-316a315ee935c9b0",
     "locked": false,
     "points": 0,
     "schema_version": 3,
     "solution": true,
     "task": false
    }
   },
   "outputs": [
    {
     "data": {
      "image/png": "[encoded data removed]",
      "text/plain": [
       "<Figure size 576x288 with 1 Axes>"
      ]
     },
     "metadata": {
      "needs_background": "light"
     },
     "output_type": "display_data"
    }
   ],
   "source": [
    "# λ=0\n",
    "\n",
    "theta, j_history = gradientDescent(X, y, createTheta(X), alpha=0.1, λ=0, n_iteration=1000)\n",
    "\n",
    "X_lin = np.linspace(0, 7, 1000).reshape(-1,1)\n",
    "y_pred = predict(X_lin, theta)\n",
    "decision_boundary = X_lin[y_pred>=0.5][-1]\n",
    "\n",
    "plt.figure(figsize=(8,4))\n",
    "plt.plot([decision_boundary,decision_boundary], [-0.1,1.1], linewidth=2, label='Decision Boundary')\n",
    "y_lin = sigmoid(theta[0]+theta[1]*X_lin)\n",
    "plt.plot(X_lin,y_lin)\n",
    "plt.plot(add_bias(X)[:, 1:][y==0],y[y==0],'bs',label='not setosa')\n",
    "plt.plot(add_bias(X)[:, 1:][y==1],y[y==1],'gs',label='setosa')\n",
    "plt.legend();"
   ]
  },
  {
   "cell_type": "code",
   "execution_count": 130,
   "id": "d6beb74d",
   "metadata": {},
   "outputs": [
    {
     "data": {
      "text/plain": [
       "array([1.4, 1.4, 1.3, 1.5, 1.4, 1.7, 1.4, 1.5, 1.4, 1.5, 1.5, 1.6, 1.4,\n",
       "       1.1, 1.2, 1.5, 1.3, 1.4, 1.7, 1.5, 1.7, 1.5, 1. , 1.7, 1.9, 1.6,\n",
       "       1.6, 1.5, 1.4, 1.6, 1.6, 1.5, 1.5, 1.4, 1.5, 1.2, 1.3, 1.4, 1.3,\n",
       "       1.5, 1.3, 1.3, 1.3, 1.6, 1.9, 1.4, 1.6, 1.4, 1.5, 1.4, 4.7, 4.5,\n",
       "       4.9, 4. , 4.6, 4.5, 4.7, 3.3, 4.6, 3.9, 3.5, 4.2, 4. , 4.7, 3.6,\n",
       "       4.4, 4.5, 4.1, 4.5, 3.9, 4.8, 4. , 4.9, 4.7, 4.3, 4.4, 4.8, 5. ,\n",
       "       4.5, 3.5, 3.8, 3.7, 3.9, 5.1, 4.5, 4.5, 4.7, 4.4, 4.1, 4. , 4.4,\n",
       "       4.6, 4. , 3.3, 4.2, 4.2, 4.2, 4.3, 3. , 4.1, 6. , 5.1, 5.9, 5.6,\n",
       "       5.8, 6.6, 4.5, 6.3, 5.8, 6.1, 5.1, 5.3, 5.5, 5. , 5.1, 5.3, 5.5,\n",
       "       6.7, 6.9, 5. , 5.7, 4.9, 6.7, 4.9, 5.7, 6. , 4.8, 4.9, 5.6, 5.8,\n",
       "       6.1, 6.4, 5.6, 5.1, 5.6, 6.1, 5.6, 5.5, 4.8, 5.4, 5.6, 5.1, 5.1,\n",
       "       5.9, 5.7, 5.2, 5. , 5.2, 5.4, 5.1])"
      ]
     },
     "execution_count": 130,
     "metadata": {},
     "output_type": "execute_result"
    }
   ],
   "source": [
    "X[:, 0]"
   ]
  },
  {
   "cell_type": "code",
   "execution_count": null,
   "id": "static-opening",
   "metadata": {
    "deletable": false,
    "nbgrader": {
     "cell_type": "code",
     "checksum": "bd0779f5d8c1ea659891f91bc685d4bb",
     "grade": true,
     "grade_id": "cell-e745e719a2634c2c",
     "locked": false,
     "points": 0,
     "schema_version": 3,
     "solution": true,
     "task": false
    }
   },
   "outputs": [
    {
     "ename": "NotImplementedError",
     "evalue": "",
     "output_type": "error",
     "traceback": [
      "\u001b[1;31m---------------------------------------------------------------------------\u001b[0m",
      "\u001b[1;31mNotImplementedError\u001b[0m                       Traceback (most recent call last)",
      "\u001b[1;32mc:\\Users\\LAB203-01\\Documents\\ml_63070224\\learn_ml_algorithm_from_scratch\\63070224_lab5_regularisation.ipynb Cell 50\u001b[0m in \u001b[0;36m<cell line: 4>\u001b[1;34m()\u001b[0m\n\u001b[0;32m      <a href='vscode-notebook-cell:/c%3A/Users/LAB203-01/Documents/ml_63070224/learn_ml_algorithm_from_scratch/63070224_lab5_regularisation.ipynb#X65sZmlsZQ%3D%3D?line=0'>1</a>\u001b[0m \u001b[39m# λ = 0.01\u001b[39;00m\n\u001b[0;32m      <a href='vscode-notebook-cell:/c%3A/Users/LAB203-01/Documents/ml_63070224/learn_ml_algorithm_from_scratch/63070224_lab5_regularisation.ipynb#X65sZmlsZQ%3D%3D?line=1'>2</a>\u001b[0m \n\u001b[0;32m      <a href='vscode-notebook-cell:/c%3A/Users/LAB203-01/Documents/ml_63070224/learn_ml_algorithm_from_scratch/63070224_lab5_regularisation.ipynb#X65sZmlsZQ%3D%3D?line=2'>3</a>\u001b[0m \u001b[39m# YOUR CODE HERE\u001b[39;00m\n\u001b[1;32m----> <a href='vscode-notebook-cell:/c%3A/Users/LAB203-01/Documents/ml_63070224/learn_ml_algorithm_from_scratch/63070224_lab5_regularisation.ipynb#X65sZmlsZQ%3D%3D?line=3'>4</a>\u001b[0m \u001b[39mraise\u001b[39;00m \u001b[39mNotImplementedError\u001b[39;00m()\n",
      "\u001b[1;31mNotImplementedError\u001b[0m: "
     ]
    }
   ],
   "source": [
    "# λ = 0.01\n",
    "\n",
    "# YOUR CODE HERE\n",
    "raise NotImplementedError()"
   ]
  },
  {
   "cell_type": "code",
   "execution_count": null,
   "id": "democratic-masters",
   "metadata": {
    "deletable": false,
    "nbgrader": {
     "cell_type": "code",
     "checksum": "f86e37bf458ae0569726c18aa97d768a",
     "grade": true,
     "grade_id": "cell-2457ed66ba5a456b",
     "locked": false,
     "points": 0,
     "schema_version": 3,
     "solution": true,
     "task": false
    }
   },
   "outputs": [],
   "source": [
    "# λ = 0.1\n",
    "\n",
    "# YOUR CODE HERE\n",
    "raise NotImplementedError()"
   ]
  },
  {
   "cell_type": "code",
   "execution_count": null,
   "id": "educated-february",
   "metadata": {
    "deletable": false,
    "nbgrader": {
     "cell_type": "code",
     "checksum": "3436a37bbf46f1352eb29ffc69cd6afc",
     "grade": true,
     "grade_id": "cell-03e13e7c2af5f35f",
     "locked": false,
     "points": 0,
     "schema_version": 3,
     "solution": true,
     "task": false
    }
   },
   "outputs": [],
   "source": [
    "# λ = 1.0\n",
    "\n",
    "# YOUR CODE HERE\n",
    "raise NotImplementedError()"
   ]
  },
  {
   "cell_type": "code",
   "execution_count": null,
   "id": "weighted-trainer",
   "metadata": {
    "deletable": false,
    "nbgrader": {
     "cell_type": "code",
     "checksum": "a061db8e753debd0d51492771b50b11f",
     "grade": true,
     "grade_id": "cell-6572be9b863a4a5c",
     "locked": false,
     "points": 0,
     "schema_version": 3,
     "solution": true,
     "task": false
    }
   },
   "outputs": [],
   "source": [
    "# λ = 10.0\n",
    "\n",
    "# YOUR CODE HERE\n",
    "raise NotImplementedError()"
   ]
  },
  {
   "cell_type": "markdown",
   "id": "great-geneva",
   "metadata": {
    "deletable": false,
    "editable": false,
    "nbgrader": {
     "cell_type": "markdown",
     "checksum": "67c7aa83b0a567c0ca78d03a18c21497",
     "grade": false,
     "grade_id": "cell-67c3012915eee340",
     "locked": true,
     "schema_version": 3,
     "solution": false,
     "task": false
    }
   },
   "source": [
    "# 4 m-Fold Cross Validation"
   ]
  },
  {
   "cell_type": "markdown",
   "id": "bored-inside",
   "metadata": {
    "deletable": false,
    "editable": false,
    "nbgrader": {
     "cell_type": "markdown",
     "checksum": "885c33028bdfdc95463c626f7c89a964",
     "grade": false,
     "grade_id": "cell-f4d5f25e9147a5d5",
     "locked": true,
     "schema_version": 3,
     "solution": false,
     "task": false
    }
   },
   "source": [
    "### 4.1 Write a function in the following format:\n",
    "\n",
    "$$\n",
    "J_m = m\\_fold(X, y, \\alpha, n_{iteration}, lamda\\_list, m)\n",
    "$$\n",
    "\n",
    "where $J_m$ is a vector of cost calculated from each fold. (Hint: modify a function from lab manual)."
   ]
  },
  {
   "cell_type": "code",
   "execution_count": null,
   "id": "agricultural-aviation",
   "metadata": {
    "deletable": false,
    "nbgrader": {
     "cell_type": "code",
     "checksum": "3bd3af3e99d0df48b050aba583477187",
     "grade": true,
     "grade_id": "cell-dca8a960af0c5d93",
     "locked": false,
     "points": 5,
     "schema_version": 3,
     "solution": true,
     "task": false
    }
   },
   "outputs": [],
   "source": [
    "# YOUR CODE HERE\n",
    "raise NotImplementedError()"
   ]
  },
  {
   "cell_type": "markdown",
   "id": "numerous-finnish",
   "metadata": {},
   "source": [
    "### 4.2 From Part 3, Train a model with 4-fold cross validation with these hyperparameter\n",
    "$\\alpha$ = 0.1, $n_{iteration}$ = 1000. Observe the effect of cost values for $\\lambda$ from [0, 0.01, 0.1, 1, 10] and find which λ can lead a model to the lowest cost value."
   ]
  },
  {
   "cell_type": "code",
   "execution_count": null,
   "id": "alpha-hunter",
   "metadata": {
    "deletable": false,
    "nbgrader": {
     "cell_type": "code",
     "checksum": "180e57dd070d1b173a7188e4691086a2",
     "grade": true,
     "grade_id": "cell-f8390b0956619c19",
     "locked": false,
     "points": 5,
     "schema_version": 3,
     "solution": true,
     "task": false
    }
   },
   "outputs": [],
   "source": [
    "# YOUR CODE HERE\n",
    "raise NotImplementedError()"
   ]
  }
 ],
 "metadata": {
  "kernelspec": {
   "display_name": "base",
   "language": "python",
   "name": "python3"
  },
  "language_info": {
   "codemirror_mode": {
    "name": "ipython",
    "version": 3
   },
   "file_extension": ".py",
   "mimetype": "text/x-python",
   "name": "python",
   "nbconvert_exporter": "python",
   "pygments_lexer": "ipython3",
   "version": "3.9.12"
  },
  "vscode": {
   "interpreter": {
    "hash": "ad2bdc8ecc057115af97d19610ffacc2b4e99fae6737bb82f5d7fb13d2f2c186"
   }
  }
 },
 "nbformat": 4,
 "nbformat_minor": 5
}
