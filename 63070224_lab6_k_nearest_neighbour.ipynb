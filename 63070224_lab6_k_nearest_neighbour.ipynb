{
 "cells": [
  {
   "cell_type": "markdown",
   "metadata": {},
   "source": [
    "Before you turn this problem in, make sure everything runs as expected. First, **restart the kernel** (in the menubar, select Kernel$\\rightarrow$Restart) and then **run all cells** (in the menubar, select Cell$\\rightarrow$Run All).\n",
    "\n",
    "Make sure you fill in any place that says `YOUR CODE HERE` or \"YOUR ANSWER HERE\", as well as your name and student id below:"
   ]
  },
  {
   "cell_type": "code",
   "execution_count": 236,
   "metadata": {},
   "outputs": [],
   "source": [
    "NAME = \"63070224\"\n",
    "STUDENT_ID = \"Tunlaton Wongchai\""
   ]
  },
  {
   "cell_type": "markdown",
   "metadata": {},
   "source": [
    "---"
   ]
  },
  {
   "cell_type": "code",
   "execution_count": 237,
   "metadata": {
    "ExecuteTime": {
     "end_time": "2021-02-25T03:43:50.257958Z",
     "start_time": "2021-02-25T03:43:48.948930Z"
    }
   },
   "outputs": [],
   "source": [
    "import numpy as np\n",
    "import matplotlib.pyplot as plt\n",
    "from sklearn import datasets"
   ]
  },
  {
   "cell_type": "markdown",
   "metadata": {},
   "source": [
    "# 1 k-Nearest Neighbour Classification"
   ]
  },
  {
   "cell_type": "markdown",
   "metadata": {},
   "source": [
    "## 1.1 Load Iris dataset from sklearn library"
   ]
  },
  {
   "cell_type": "code",
   "execution_count": 238,
   "metadata": {
    "ExecuteTime": {
     "end_time": "2021-02-25T03:43:50.265890Z",
     "start_time": "2021-02-25T03:43:50.260537Z"
    }
   },
   "outputs": [],
   "source": [
    "iris = datasets.load_iris()"
   ]
  },
  {
   "cell_type": "code",
   "execution_count": 239,
   "metadata": {
    "ExecuteTime": {
     "end_time": "2021-02-25T03:43:50.273734Z",
     "start_time": "2021-02-25T03:43:50.268700Z"
    }
   },
   "outputs": [
    {
     "data": {
      "text/plain": [
       "['sepal length (cm)',\n",
       " 'sepal width (cm)',\n",
       " 'petal length (cm)',\n",
       " 'petal width (cm)']"
      ]
     },
     "execution_count": 239,
     "metadata": {},
     "output_type": "execute_result"
    }
   ],
   "source": [
    "iris['feature_names']"
   ]
  },
  {
   "cell_type": "code",
   "execution_count": 240,
   "metadata": {
    "ExecuteTime": {
     "end_time": "2021-02-25T03:43:50.280007Z",
     "start_time": "2021-02-25T03:43:50.276483Z"
    }
   },
   "outputs": [
    {
     "data": {
      "text/plain": [
       "array(['setosa', 'versicolor', 'virginica'], dtype='<U10')"
      ]
     },
     "execution_count": 240,
     "metadata": {},
     "output_type": "execute_result"
    }
   ],
   "source": [
    "iris['target_names']"
   ]
  },
  {
   "cell_type": "markdown",
   "metadata": {},
   "source": [
    "## 1.2 Define Setal Length (cm), Setal Width (cm), as $X$, Label—0 (Setosa), 1 (Versicolor) and 2 (Virginica) as $y$"
   ]
  },
  {
   "cell_type": "code",
   "execution_count": 241,
   "metadata": {
    "ExecuteTime": {
     "end_time": "2021-02-25T03:43:50.284950Z",
     "start_time": "2021-02-25T03:43:50.282250Z"
    }
   },
   "outputs": [],
   "source": [
    "X = iris['data'][:,2:]\n",
    "y = (iris['target'] == 1).astype(np.int64).reshape(-1, 1)"
   ]
  },
  {
   "cell_type": "markdown",
   "metadata": {},
   "source": [
    "## 1.3 Write a function to randomly split the dataset to be training and test sets:\n",
    "\n",
    "$$\n",
    "[X_{train}, y_{train}, X_{test}, y_{test}] = \\texttt{splitData}(X, y, Percentage_{train}, n_{seed}),\n",
    "$$\n",
    "\n",
    "where $Percentage_{train}$ is the percentage of training sample split from the dataset, and $n_{seed}$ is a random generator number."
   ]
  },
  {
   "cell_type": "code",
   "execution_count": 242,
   "metadata": {
    "ExecuteTime": {
     "end_time": "2021-02-25T03:43:50.291243Z",
     "start_time": "2021-02-25T03:43:50.286635Z"
    },
    "deletable": false,
    "nbgrader": {
     "cell_type": "code",
     "checksum": "f318a73647dfd48105fdf2ab9ab6b433",
     "grade": true,
     "grade_id": "cell-11baf11d8ddbd751",
     "locked": false,
     "points": 5,
     "schema_version": 3,
     "solution": true,
     "task": false
    }
   },
   "outputs": [],
   "source": [
    "def splitData(X, y, percentage_train, n_seed):\n",
    "    \n",
    "    random  = np.random.RandomState(seed=n_seed)\n",
    "    indexes = np.arange(X.shape[0])\n",
    "    random.shuffle(indexes)\n",
    "\n",
    "    X_temp = X[indexes].copy()\n",
    "    y_temp = y[indexes].copy()\n",
    "\n",
    "    n_train = int(percentage_train * X_temp.shape[0])\n",
    "\n",
    "    X_train = X_temp[:n_train, :]\n",
    "    y_train = y_temp[:n_train]\n",
    "\n",
    "    X_test = X_temp[n_train:, :]\n",
    "    y_test = y_temp[n_train:]\n",
    "\n",
    "\n",
    "    \n",
    "    return X_train, y_train, X_test, y_test"
   ]
  },
  {
   "cell_type": "markdown",
   "metadata": {},
   "source": [
    "## 1.4 Write a function to normalise $X_{train}$ to $[0, 1]$:\n",
    "\n",
    "$$\n",
    "    [X_{train\\_norm}, X_{max}, X_{min}] = \\texttt{normaliseTrain}(X)\n",
    "$$\n",
    "\n",
    "*Note*: Use Min-Max feature scaling."
   ]
  },
  {
   "cell_type": "code",
   "execution_count": 243,
   "metadata": {
    "ExecuteTime": {
     "end_time": "2021-02-25T03:43:50.304972Z",
     "start_time": "2021-02-25T03:43:50.302121Z"
    },
    "deletable": false,
    "nbgrader": {
     "cell_type": "code",
     "checksum": "66c83d74010b36b892d2d4bb0d7a5374",
     "grade": true,
     "grade_id": "cell-4263bf5e26a2f5d7",
     "locked": false,
     "points": 5,
     "schema_version": 3,
     "solution": true,
     "task": false
    }
   },
   "outputs": [],
   "source": [
    "def normaliseTrain(X):\n",
    "    \n",
    "    X_min = np.min(X, axis=0)\n",
    "    X_max = np.max(X, axis=0)\n",
    "\n",
    "    X_train_norm = (X - X_min) / (X - X_max)\n",
    "\n",
    "    return X_train_norm, X_max, X_min"
   ]
  },
  {
   "cell_type": "markdown",
   "metadata": {},
   "source": [
    "## 1.5 Write a function to normalise $X_{test}$ to the same space as the training set:\n",
    "\n",
    "$$\n",
    "    X_{test\\_norm} = \\texttt{normaliseTest}(X_{test}, X_{max}, X_{min})\n",
    "$$"
   ]
  },
  {
   "cell_type": "code",
   "execution_count": 244,
   "metadata": {
    "ExecuteTime": {
     "end_time": "2021-02-25T03:43:50.310492Z",
     "start_time": "2021-02-25T03:43:50.307691Z"
    },
    "deletable": false,
    "nbgrader": {
     "cell_type": "code",
     "checksum": "de6ee683c2cfb92801e4417a0d55b4a8",
     "grade": true,
     "grade_id": "cell-5dbc33ea6f9a1ad0",
     "locked": false,
     "points": 5,
     "schema_version": 3,
     "solution": true,
     "task": false
    }
   },
   "outputs": [],
   "source": [
    "def normaliseTest(X_test, X_max, X_min):\n",
    "    \n",
    "    X_test_norm = (X_test- X_min) / (X_test - X_max) \n",
    "    \n",
    "    return X_test_norm"
   ]
  },
  {
   "cell_type": "markdown",
   "metadata": {},
   "source": [
    "## 1.6 Write a function to calculate Manhattan distance between two points, $x_1$ and $x_2$:\n",
    "\n",
    "$$\n",
    "    distance = \\texttt{manhattanDistance}(x_1, x_2)\n",
    "$$"
   ]
  },
  {
   "cell_type": "code",
   "execution_count": 245,
   "metadata": {
    "ExecuteTime": {
     "end_time": "2021-02-25T03:43:50.315508Z",
     "start_time": "2021-02-25T03:43:50.312511Z"
    }
   },
   "outputs": [],
   "source": [
    "def manhattanDistance(x1, x2):\n",
    "    distance = np.abs(x1 - x2[:, 0, np.newaxis])\n",
    "    \n",
    "    return distance"
   ]
  },
  {
   "cell_type": "markdown",
   "metadata": {},
   "source": [
    "## 1.7 Write a function to find $k$-nearest neighbour points that are nearest to input sample, $x_{ref}$:\n",
    "\n",
    "$$\n",
    "    neighbour = \\texttt{findKneighbour}(x_{ref}, X_{train}, k),\n",
    "$$\n",
    "\n",
    "where $neighbour \\in R^{k \\times nFeatures}$. Here, $nFeatures = 2$."
   ]
  },
  {
   "cell_type": "code",
   "execution_count": 246,
   "metadata": {
    "ExecuteTime": {
     "end_time": "2021-02-25T03:43:50.320941Z",
     "start_time": "2021-02-25T03:43:50.317700Z"
    }
   },
   "outputs": [],
   "source": [
    "def findKneighbour(test_sample, train, k):\n",
    "    sample_distance = manhattanDistance(test_sample, train)\n",
    "    sample_distance = np.hstack((sample_distance, train[:, -1, np.newaxis]))\n",
    "    sample_distance = sample_distance[np.argsort(sample_distance[:, 0])]\n",
    "    \n",
    "    neighbour = sample_distance[:k, :]\n",
    "    \n",
    "    return neighbour"
   ]
  },
  {
   "cell_type": "markdown",
   "metadata": {},
   "source": [
    "## 1.8 Write a function to predict an input sample $x$ with $k$-nearest neighbour:\n",
    "\n",
    "$$\n",
    "    predictClass = \\texttt{predict}(x, X_{train}, k)\n",
    "$$"
   ]
  },
  {
   "cell_type": "code",
   "execution_count": 247,
   "metadata": {
    "ExecuteTime": {
     "end_time": "2021-02-25T03:43:50.326508Z",
     "start_time": "2021-02-25T03:43:50.323164Z"
    }
   },
   "outputs": [],
   "source": [
    "def predict(test_sample, train, k):\n",
    "    \n",
    "    neighbour = findKneighbour(test_sample, train, k)\n",
    "    unique, counts = np.unique(neighbour[:,1], return_counts=True)\n",
    "    \n",
    "    return unique[np.argmax(counts)]"
   ]
  },
  {
   "cell_type": "markdown",
   "metadata": {},
   "source": [
    "## 1.9 Write a kNN function to predict $X_{test}$ with $k$-nearest neighbour:\n",
    "\n",
    "$$\n",
    "    y_{predict} = \\texttt{kNN}(X_{test}, X_{train}, k),\n",
    "$$\n",
    "\n",
    "where $y_{predict}$ is a vector of predicted class that corresponds to $x_{test}$."
   ]
  },
  {
   "cell_type": "code",
   "execution_count": 248,
   "metadata": {
    "ExecuteTime": {
     "end_time": "2021-02-25T03:43:50.332820Z",
     "start_time": "2021-02-25T03:43:50.329231Z"
    }
   },
   "outputs": [],
   "source": [
    "def Knn(X_test, X_train, k):\n",
    "    prediction_class = np.array([])\n",
    "    \n",
    "    for test_sample in X_test:\n",
    "        prediction = predict(test_sample, X_train, k)\n",
    "        prediction_class = np.append(prediction_class, prediction)\n",
    "        \n",
    "    return prediction_class.astype(np.int64).reshape(-1, 1)"
   ]
  },
  {
   "cell_type": "markdown",
   "metadata": {},
   "source": [
    "## 1.10 Write a function to calculate accuracy of $y_{predict}$:\n",
    "\n",
    "$$\n",
    "    accuracy = \\texttt{calculateAccuracy}(y_{predict}, y_{test})\n",
    "$$"
   ]
  },
  {
   "cell_type": "code",
   "execution_count": 249,
   "metadata": {
    "ExecuteTime": {
     "end_time": "2021-02-25T03:43:50.337496Z",
     "start_time": "2021-02-25T03:43:50.334799Z"
    },
    "deletable": false,
    "nbgrader": {
     "cell_type": "code",
     "checksum": "1595dc8511e0f84acec59b421fd8c1ba",
     "grade": true,
     "grade_id": "cell-9dda8b7a885bd645",
     "locked": false,
     "points": 5,
     "schema_version": 3,
     "solution": true,
     "task": false
    }
   },
   "outputs": [],
   "source": [
    "def Accuracy(predict,target):\n",
    "\n",
    "    correct = np.sum(predict == target)\n",
    "    acc = correct*100/predict.shape[0]\n",
    "    \n",
    "    return acc"
   ]
  },
  {
   "cell_type": "markdown",
   "metadata": {},
   "source": [
    "## 1.11 Split the dataset to 70 % training set and 30 % test set with random generator number of 10. Run $k$-Nearest Neighbour classifier with $k$ = 3 on the dataset. Calculate and observe the accuracy of the task."
   ]
  },
  {
   "cell_type": "code",
   "execution_count": 250,
   "metadata": {
    "ExecuteTime": {
     "end_time": "2021-02-25T03:43:50.342862Z",
     "start_time": "2021-02-25T03:43:50.339469Z"
    },
    "deletable": false,
    "nbgrader": {
     "cell_type": "code",
     "checksum": "90df211e899bb12cc17b36c105d83159",
     "grade": true,
     "grade_id": "cell-79f134c8c9cf02af",
     "locked": false,
     "points": 5,
     "schema_version": 3,
     "solution": true,
     "task": false
    }
   },
   "outputs": [
    {
     "data": {
      "text/plain": [
       "2.2222222222222223"
      ]
     },
     "execution_count": 250,
     "metadata": {},
     "output_type": "execute_result"
    }
   ],
   "source": [
    "X_train, y_train, X_test, y_test = splitData(X, y, 0.7, 10)\n",
    "\n",
    "Accuracy(Knn(X_test, X_train, k=3), y_test)"
   ]
  },
  {
   "cell_type": "markdown",
   "metadata": {},
   "source": [
    "## 1.12 Normalise the iris dataset then use $k$-nearest Neighbour classifier with the same hyperparameter as the previous question on the dataset. Then observe the accuracy and compare accuracy to the model trained without normalisation."
   ]
  },
  {
   "cell_type": "code",
   "execution_count": 251,
   "metadata": {
    "ExecuteTime": {
     "end_time": "2021-02-25T03:43:50.347893Z",
     "start_time": "2021-02-25T03:43:50.345071Z"
    }
   },
   "outputs": [
    {
     "name": "stderr",
     "output_type": "stream",
     "text": [
      "C:\\Users\\LAB203-01\\AppData\\Local\\Temp\\ipykernel_7492\\2963714791.py:6: RuntimeWarning: divide by zero encountered in true_divide\n",
      "  X_train_norm = (X - X_min) / (X - X_max)\n",
      "C:\\Users\\LAB203-01\\AppData\\Local\\Temp\\ipykernel_7492\\2785110629.py:3: RuntimeWarning: divide by zero encountered in true_divide\n",
      "  X_test_norm = (X_test- X_min) / (X_test - X_max)\n"
     ]
    }
   ],
   "source": [
    "X_train_norm, X_max, X_min = normaliseTrain(X_train)\n",
    "X_test_norm = normaliseTest(X_test, X_max, X_min)"
   ]
  },
  {
   "cell_type": "code",
   "execution_count": 252,
   "metadata": {
    "ExecuteTime": {
     "end_time": "2021-02-25T03:43:50.352694Z",
     "start_time": "2021-02-25T03:43:50.349705Z"
    }
   },
   "outputs": [],
   "source": [
    "train = X_train\n",
    "train_norm = X_train_norm"
   ]
  },
  {
   "cell_type": "code",
   "execution_count": 253,
   "metadata": {
    "ExecuteTime": {
     "end_time": "2021-02-25T03:43:50.364763Z",
     "start_time": "2021-02-25T03:43:50.354329Z"
    }
   },
   "outputs": [
    {
     "name": "stderr",
     "output_type": "stream",
     "text": [
      "C:\\Users\\LAB203-01\\AppData\\Local\\Temp\\ipykernel_7492\\3253340431.py:2: RuntimeWarning: invalid value encountered in subtract\n",
      "  distance = np.abs(x1 - x2[:, 0, np.newaxis])\n"
     ]
    }
   ],
   "source": [
    "prediction = Knn(X_test, train, 4)\n",
    "prediction_norm = Knn(X_test_norm, train_norm, 4)"
   ]
  },
  {
   "cell_type": "code",
   "execution_count": 254,
   "metadata": {
    "ExecuteTime": {
     "end_time": "2021-02-25T03:43:50.370852Z",
     "start_time": "2021-02-25T03:43:50.367093Z"
    },
    "deletable": false,
    "nbgrader": {
     "cell_type": "code",
     "checksum": "1a79dfea6751163ff62862852ca02ac4",
     "grade": true,
     "grade_id": "cell-c3be9189946cdee0",
     "locked": false,
     "points": 5,
     "schema_version": 3,
     "solution": true,
     "task": false
    }
   },
   "outputs": [
    {
     "name": "stdout",
     "output_type": "stream",
     "text": [
      "2.2222222222222223\n",
      "46.666666666666664\n"
     ]
    }
   ],
   "source": [
    "# Compare the accuracy of the models.\n",
    "\n",
    "\n",
    "print(Accuracy(Knn(X_test, X_train, k=3), y_test))\n",
    "print(Accuracy(prediction_norm, y_test))"
   ]
  },
  {
   "cell_type": "markdown",
   "metadata": {},
   "source": [
    "## 1.13 Plot a Voronoi graph and observe the different between normalise data and non-normalise data."
   ]
  },
  {
   "cell_type": "code",
   "execution_count": 255,
   "metadata": {
    "ExecuteTime": {
     "end_time": "2021-02-25T03:43:50.381387Z",
     "start_time": "2021-02-25T03:43:50.378592Z"
    }
   },
   "outputs": [],
   "source": [
    "from scipy.spatial import Voronoi, voronoi_plot_2d"
   ]
  },
  {
   "cell_type": "code",
   "execution_count": 256,
   "metadata": {
    "ExecuteTime": {
     "end_time": "2021-02-25T03:43:50.601707Z",
     "start_time": "2021-02-25T03:43:50.383980Z"
    }
   },
   "outputs": [
    {
     "ename": "ValueError",
     "evalue": "Need at least 2-D data",
     "output_type": "error",
     "traceback": [
      "\u001b[1;31m---------------------------------------------------------------------------\u001b[0m",
      "\u001b[1;31mValueError\u001b[0m                                Traceback (most recent call last)",
      "\u001b[1;32mc:\\Users\\LAB203-01\\Documents\\ml_63070224\\learn_ml_algorithm_from_scratch\\63070224_lab6_k_nearest_neighbour.ipynb Cell 37\u001b[0m in \u001b[0;36m<cell line: 1>\u001b[1;34m()\u001b[0m\n\u001b[1;32m----> <a href='vscode-notebook-cell:/c%3A/Users/LAB203-01/Documents/ml_63070224/learn_ml_algorithm_from_scratch/63070224_lab6_k_nearest_neighbour.ipynb#X51sZmlsZQ%3D%3D?line=0'>1</a>\u001b[0m vor \u001b[39m=\u001b[39m Voronoi(train[:, :\u001b[39m-\u001b[39;49m\u001b[39m1\u001b[39;49m])\n\u001b[0;32m      <a href='vscode-notebook-cell:/c%3A/Users/LAB203-01/Documents/ml_63070224/learn_ml_algorithm_from_scratch/63070224_lab6_k_nearest_neighbour.ipynb#X51sZmlsZQ%3D%3D?line=2'>3</a>\u001b[0m voronoi_plot_2d(vor, show_vertices\u001b[39m=\u001b[39m\u001b[39mFalse\u001b[39;00m)\n\u001b[0;32m      <a href='vscode-notebook-cell:/c%3A/Users/LAB203-01/Documents/ml_63070224/learn_ml_algorithm_from_scratch/63070224_lab6_k_nearest_neighbour.ipynb#X51sZmlsZQ%3D%3D?line=3'>4</a>\u001b[0m plt\u001b[39m.\u001b[39mxlabel(\u001b[39m'\u001b[39m\u001b[39mPetal Length\u001b[39m\u001b[39m'\u001b[39m)\n",
      "File \u001b[1;32mqhull.pyx:2615\u001b[0m, in \u001b[0;36mscipy.spatial.qhull.Voronoi.__init__\u001b[1;34m()\u001b[0m\n",
      "File \u001b[1;32mqhull.pyx:282\u001b[0m, in \u001b[0;36mscipy.spatial.qhull._Qhull.__init__\u001b[1;34m()\u001b[0m\n",
      "\u001b[1;31mValueError\u001b[0m: Need at least 2-D data"
     ]
    }
   ],
   "source": [
    "vor = Voronoi(train[:, :-1])\n",
    "\n",
    "voronoi_plot_2d(vor, show_vertices=False)\n",
    "plt.xlabel('Petal Length')\n",
    "plt.ylabel('Petal Width')\n",
    "plt.show()"
   ]
  },
  {
   "cell_type": "code",
   "execution_count": null,
   "metadata": {
    "ExecuteTime": {
     "end_time": "2021-02-25T03:43:50.764927Z",
     "start_time": "2021-02-25T03:43:50.608832Z"
    }
   },
   "outputs": [
    {
     "ename": "QhullError",
     "evalue": "QH6019 qhull input error (qh_scalelast): can not scale last coordinate to [   0,  inf].  Input is cocircular or cospherical.   Use option 'Qz' to add a point at infinity.\n\nWhile executing:  | qhull v Qbb Qz Qc\nOptions selected for Qhull 2019.1.r 2019/06/21:\n  run-id 1924832352  voronoi  Qbbound-last  Qz-infinity-point  Qcoplanar-keep\n  _pre-merge  _zero-centrum  Qinterior-keep  Pgood  _maxoutside  0\n",
     "output_type": "error",
     "traceback": [
      "\u001b[1;31m---------------------------------------------------------------------------\u001b[0m",
      "\u001b[1;31mQhullError\u001b[0m                                Traceback (most recent call last)",
      "\u001b[1;32mc:\\Users\\LAB203-01\\Documents\\ml_63070224\\learn_ml_algorithm_from_scratch\\63070224_lab6_k_nearest_neighbour.ipynb Cell 38\u001b[0m in \u001b[0;36m<cell line: 1>\u001b[1;34m()\u001b[0m\n\u001b[1;32m----> <a href='vscode-notebook-cell:/c%3A/Users/LAB203-01/Documents/ml_63070224/learn_ml_algorithm_from_scratch/63070224_lab6_k_nearest_neighbour.ipynb#X52sZmlsZQ%3D%3D?line=0'>1</a>\u001b[0m vor \u001b[39m=\u001b[39m Voronoi(train_norm[:, :])\n\u001b[0;32m      <a href='vscode-notebook-cell:/c%3A/Users/LAB203-01/Documents/ml_63070224/learn_ml_algorithm_from_scratch/63070224_lab6_k_nearest_neighbour.ipynb#X52sZmlsZQ%3D%3D?line=2'>3</a>\u001b[0m voronoi_plot_2d(vor, show_vertices\u001b[39m=\u001b[39m\u001b[39mFalse\u001b[39;00m)\n\u001b[0;32m      <a href='vscode-notebook-cell:/c%3A/Users/LAB203-01/Documents/ml_63070224/learn_ml_algorithm_from_scratch/63070224_lab6_k_nearest_neighbour.ipynb#X52sZmlsZQ%3D%3D?line=3'>4</a>\u001b[0m plt\u001b[39m.\u001b[39mxlabel(\u001b[39m'\u001b[39m\u001b[39mPetal Length\u001b[39m\u001b[39m'\u001b[39m)\n",
      "File \u001b[1;32mqhull.pyx:2615\u001b[0m, in \u001b[0;36mscipy.spatial.qhull.Voronoi.__init__\u001b[1;34m()\u001b[0m\n",
      "File \u001b[1;32mqhull.pyx:357\u001b[0m, in \u001b[0;36mscipy.spatial.qhull._Qhull.__init__\u001b[1;34m()\u001b[0m\n",
      "\u001b[1;31mQhullError\u001b[0m: QH6019 qhull input error (qh_scalelast): can not scale last coordinate to [   0,  inf].  Input is cocircular or cospherical.   Use option 'Qz' to add a point at infinity.\n\nWhile executing:  | qhull v Qbb Qz Qc\nOptions selected for Qhull 2019.1.r 2019/06/21:\n  run-id 1924832352  voronoi  Qbbound-last  Qz-infinity-point  Qcoplanar-keep\n  _pre-merge  _zero-centrum  Qinterior-keep  Pgood  _maxoutside  0\n"
     ]
    }
   ],
   "source": [
    "vor = Voronoi(train_norm[:, :-1])\n",
    "\n",
    "voronoi_plot_2d(vor, show_vertices=False)\n",
    "plt.xlabel('Petal Length')\n",
    "plt.ylabel('Petal Width')\n",
    "plt.show()"
   ]
  },
  {
   "cell_type": "markdown",
   "metadata": {},
   "source": [
    "# 2. $k$-nearest Neighbour Regression"
   ]
  },
  {
   "cell_type": "markdown",
   "metadata": {},
   "source": [
    "## 2.1 Randomly generate 100 samples with random generator number of 10 from the following equations:\n",
    "\n",
    "$$\n",
    "    random = \\texttt{np.random.RandomState(seed)} \\\\\n",
    "    X = \\texttt{random.rand}(n) \\\\\n",
    "    y = 4 + 5 \\cdot X + \\texttt{random.rand}(n)\n",
    "$$"
   ]
  },
  {
   "cell_type": "code",
   "execution_count": 257,
   "metadata": {
    "ExecuteTime": {
     "end_time": "2021-02-25T03:43:50.773474Z",
     "start_time": "2021-02-25T03:43:50.770022Z"
    },
    "deletable": false,
    "nbgrader": {
     "cell_type": "code",
     "checksum": "cc502566a7aec5ce29fbc9f26fa7a8a7",
     "grade": true,
     "grade_id": "cell-b90fe07f813990cf",
     "locked": false,
     "points": 5,
     "schema_version": 3,
     "solution": true,
     "task": false
    }
   },
   "outputs": [],
   "source": [
    "def generateSamples(n, seed):\n",
    "    random = np.random.RandomState(seed)\n",
    "    X = random.rand(n)\n",
    "    y = 4 + 5*X + random.rand(n)\n",
    "\n",
    "    X = X.reshape(-1, 1)\n",
    "    y = y.reshape(-1, 1)\n",
    "    return X, y"
   ]
  },
  {
   "cell_type": "code",
   "execution_count": 258,
   "metadata": {},
   "outputs": [],
   "source": [
    "X, y = generateSamples(100, 10)"
   ]
  },
  {
   "cell_type": "markdown",
   "metadata": {},
   "source": [
    "## 2.2 Plot a scatter graph of the generated samples"
   ]
  },
  {
   "cell_type": "code",
   "execution_count": 259,
   "metadata": {},
   "outputs": [
    {
     "data": {
      "image/png": "[encoded data removed]",
      "text/plain": [
       "<Figure size 432x288 with 1 Axes>"
      ]
     },
     "metadata": {
      "needs_background": "light"
     },
     "output_type": "display_data"
    }
   ],
   "source": [
    "plt.scatter(X, y)\n",
    "plt.xlabel(\"X\")\n",
    "plt.ylabel(\"y\")\n",
    "plt.show()"
   ]
  },
  {
   "cell_type": "markdown",
   "metadata": {},
   "source": [
    "## 2.3 Split the data into training and test sets with $Percentage_{train} = 0.8$ and $nSeed = 10$."
   ]
  },
  {
   "cell_type": "code",
   "execution_count": 260,
   "metadata": {
    "ExecuteTime": {
     "end_time": "2021-02-25T03:43:50.938058Z",
     "start_time": "2021-02-25T03:43:50.934648Z"
    },
    "deletable": false,
    "nbgrader": {
     "cell_type": "code",
     "checksum": "393c4a0d8e6a9ad6cde1066054f36a6b",
     "grade": true,
     "grade_id": "cell-f442bc84797a1e3b",
     "locked": false,
     "points": 5,
     "schema_version": 3,
     "solution": true,
     "task": false
    }
   },
   "outputs": [],
   "source": [
    "X_train, y_train, X_test, y_test = splitData(X, y, 0.8, 10)"
   ]
  },
  {
   "cell_type": "markdown",
   "metadata": {},
   "source": [
    "## 2.4 Write a function to calculate the square error of $y_{predict}$:\n",
    "\n",
    "$$\n",
    "    error = \\texttt{squareError}(y_{predict}, y_{test})\n",
    "$$"
   ]
  },
  {
   "cell_type": "code",
   "execution_count": 261,
   "metadata": {
    "ExecuteTime": {
     "end_time": "2021-02-25T03:43:50.943143Z",
     "start_time": "2021-02-25T03:43:50.940412Z"
    },
    "deletable": false,
    "nbgrader": {
     "cell_type": "code",
     "checksum": "1f1ca27395737b48aa599ceaddc3e6f4",
     "grade": true,
     "grade_id": "cell-e539dcddac51a730",
     "locked": false,
     "points": 5,
     "schema_version": 3,
     "solution": true,
     "task": false
    }
   },
   "outputs": [],
   "source": [
    "def squareError(pred, true):\n",
    "    error = np.mean(np.square(pred - true))\n",
    "\n",
    "    return error"
   ]
  },
  {
   "cell_type": "markdown",
   "metadata": {},
   "source": [
    "## 2.5 Use a $k$-nearest Neighbour Regression with $k = 3$ to predict $y_{test}$. Calculate the error and discuss the results when applying kNN on normalised and non-normalised dataset"
   ]
  },
  {
   "cell_type": "code",
   "execution_count": 299,
   "metadata": {},
   "outputs": [],
   "source": [
    "def predict(test_sample, train, k):\n",
    "    \n",
    "    neighbour = findKneighbour(test_sample, train, k)\n",
    "    pred = np.mean(neighbour[:, -1])\n",
    "    \n",
    "    return pred"
   ]
  },
  {
   "cell_type": "code",
   "execution_count": 300,
   "metadata": {
    "ExecuteTime": {
     "end_time": "2021-02-25T03:43:50.948669Z",
     "start_time": "2021-02-25T03:43:50.945291Z"
    },
    "deletable": false,
    "nbgrader": {
     "cell_type": "code",
     "checksum": "e51db74c2059c1d1ca2676bdc10831c6",
     "grade": true,
     "grade_id": "cell-a0b1d9c6bb648d50",
     "locked": false,
     "points": 15,
     "schema_version": 3,
     "solution": true,
     "task": false
    }
   },
   "outputs": [],
   "source": [
    "def KnnRegression(y_train, X_train, k):\n",
    "    y_pred = np.array([])\n",
    "\n",
    "    for x in x_train:\n",
    "        pred = predict(test_sample, X_train, k)\n",
    "        y_pred = np.append(y_pred, pred)\n",
    "\n",
    "    return y_pred\n"
   ]
  },
  {
   "cell_type": "markdown",
   "metadata": {},
   "source": [
    "## 2.6 Plot a scatter graph to compare between $y_{test}$ and $y_{predict}$ of normalised and non-normalised dataset."
   ]
  },
  {
   "cell_type": "code",
   "execution_count": 304,
   "metadata": {},
   "outputs": [],
   "source": [
    "prediction = KnnRegression(y_train, X_train, 3)"
   ]
  },
  {
   "cell_type": "code",
   "execution_count": 303,
   "metadata": {},
   "outputs": [
    {
     "data": {
      "text/plain": [
       "array([[4.92969923],\n",
       "       [8.84899742],\n",
       "       [6.17779734],\n",
       "       [5.97759198],\n",
       "       [6.70347458],\n",
       "       [6.01067898],\n",
       "       [9.27930088],\n",
       "       [7.71684036],\n",
       "       [5.13667173],\n",
       "       [7.31095968],\n",
       "       [8.43473965],\n",
       "       [7.96351633],\n",
       "       [5.19621057],\n",
       "       [7.05382277],\n",
       "       [9.10004599],\n",
       "       [7.16621423],\n",
       "       [7.89705804],\n",
       "       [4.94127291],\n",
       "       [7.40044622],\n",
       "       [5.00488976]])"
      ]
     },
     "execution_count": 303,
     "metadata": {},
     "output_type": "execute_result"
    }
   ],
   "source": [
    "y_test"
   ]
  },
  {
   "cell_type": "code",
   "execution_count": 293,
   "metadata": {
    "ExecuteTime": {
     "end_time": "2021-02-25T03:43:51.142907Z",
     "start_time": "2021-02-25T03:43:50.977397Z"
    },
    "deletable": false,
    "nbgrader": {
     "cell_type": "code",
     "checksum": "832d0d52ff211f098c4131c17ea467a6",
     "grade": true,
     "grade_id": "cell-aa36bd8706760722",
     "locked": false,
     "points": 2.5,
     "schema_version": 3,
     "solution": true,
     "task": false
    }
   },
   "outputs": [
    {
     "data": {
      "text/plain": [
       "<matplotlib.collections.PathCollection at 0x26b64191430>"
      ]
     },
     "execution_count": 293,
     "metadata": {},
     "output_type": "execute_result"
    },
    {
     "data": {
      "image/png": "[encoded data removed]",
      "text/plain": [
       "<Figure size 432x288 with 1 Axes>"
      ]
     },
     "metadata": {
      "needs_background": "light"
     },
     "output_type": "display_data"
    }
   ],
   "source": [
    "plt.scatter(X_test, y_test)\n",
    "plt.scatter(prediction, y_test)"
   ]
  },
  {
   "cell_type": "code",
   "execution_count": null,
   "metadata": {
    "ExecuteTime": {
     "end_time": "2021-02-25T03:43:51.311895Z",
     "start_time": "2021-02-25T03:43:51.154552Z"
    },
    "deletable": false,
    "nbgrader": {
     "cell_type": "code",
     "checksum": "252ecab504885a9b6d467d75cd0aa1a2",
     "grade": true,
     "grade_id": "cell-4635a16bd308560f",
     "locked": false,
     "points": 2.5,
     "schema_version": 3,
     "solution": true,
     "task": false
    }
   },
   "outputs": [
    {
     "data": {
      "image/png": "[encoded data removed]",
      "text/plain": [
       "<Figure size 432x288 with 1 Axes>"
      ]
     },
     "metadata": {
      "needs_background": "light"
     },
     "output_type": "display_data"
    },
    {
     "name": "stdout",
     "output_type": "stream",
     "text": [
      "Error : 0.003492547129450057\n"
     ]
    }
   ],
   "source": [
    "# YOUR CODE HERE\n",
    "raise NotImplementedError()"
   ]
  },
  {
   "cell_type": "markdown",
   "metadata": {},
   "source": [
    "## 2.7 According to the results of both classification and regression tasks, what do you observe when we normalise the data."
   ]
  },
  {
   "cell_type": "markdown",
   "metadata": {
    "deletable": false,
    "nbgrader": {
     "cell_type": "markdown",
     "checksum": "790b741c03bf932db3cbd2a1a6e633d4",
     "grade": true,
     "grade_id": "cell-b8d4a0c57b98862c",
     "locked": false,
     "points": 10,
     "schema_version": 3,
     "solution": true,
     "task": false
    }
   },
   "source": [
    "YOUR ANSWER HERE"
   ]
  }
 ],
 "metadata": {
  "kernelspec": {
   "display_name": "base",
   "language": "python",
   "name": "python3"
  },
  "language_info": {
   "codemirror_mode": {
    "name": "ipython",
    "version": 3
   },
   "file_extension": ".py",
   "mimetype": "text/x-python",
   "name": "python",
   "nbconvert_exporter": "python",
   "pygments_lexer": "ipython3",
   "version": "3.9.12"
  },
  "toc": {
   "base_numbering": 1,
   "nav_menu": {},
   "number_sections": false,
   "sideBar": true,
   "skip_h1_title": false,
   "title_cell": "Table of Contents",
   "title_sidebar": "Contents",
   "toc_cell": false,
   "toc_position": {},
   "toc_section_display": true,
   "toc_window_display": false
  },
  "varInspector": {
   "cols": {
    "lenName": 16,
    "lenType": 16,
    "lenVar": 40
   },
   "kernels_config": {
    "python": {
     "delete_cmd_postfix": "",
     "delete_cmd_prefix": "del ",
     "library": "var_list.py",
     "varRefreshCmd": "print(var_dic_list())"
    },
    "r": {
     "delete_cmd_postfix": ") ",
     "delete_cmd_prefix": "rm(",
     "library": "var_list.r",
     "varRefreshCmd": "cat(var_dic_list()) "
    }
   },
   "types_to_exclude": [
    "module",
    "function",
    "builtin_function_or_method",
    "instance",
    "_Feature"
   ],
   "window_display": false
  },
  "vscode": {
   "interpreter": {
    "hash": "ad2bdc8ecc057115af97d19610ffacc2b4e99fae6737bb82f5d7fb13d2f2c186"
   }
  }
 },
 "nbformat": 4,
 "nbformat_minor": 2
}
